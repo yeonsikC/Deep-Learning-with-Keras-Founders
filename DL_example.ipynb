{
  "nbformat": 4,
  "nbformat_minor": 0,
  "metadata": {
    "colab": {
      "name": "DL_example.ipynb",
      "provenance": [],
      "collapsed_sections": [
        "Pt1u953cGHif",
        "f4jAx0hXPnoF",
        "7orslFIK63y0",
        "Lh3o7scG6-5G",
        "LdSd_IYuGCVI",
        "wc33zMrQGZhw"
      ],
      "toc_visible": true,
      "authorship_tag": "ABX9TyOIhKlhgoKpMA0oL978kfoe",
      "include_colab_link": true
    },
    "kernelspec": {
      "name": "python3",
      "display_name": "Python 3"
    }
  },
  "cells": [
    {
      "cell_type": "markdown",
      "metadata": {
        "id": "view-in-github",
        "colab_type": "text"
      },
      "source": [
        "<a href=\"https://colab.research.google.com/github/yeonsikC/Deep-Learning-with-Keras-Founders/blob/master/DL_example.ipynb\" target=\"_parent\"><img src=\"https://colab.research.google.com/assets/colab-badge.svg\" alt=\"Open In Colab\"/></a>"
      ]
    },
    {
      "cell_type": "markdown",
      "metadata": {
        "id": "Pt1u953cGHif",
        "colab_type": "text"
      },
      "source": [
        "# 케라스 실습 시작"
      ]
    },
    {
      "cell_type": "code",
      "metadata": {
        "id": "LhbYx7D6NRo0",
        "colab_type": "code",
        "outputId": "cd257c73-56d1-4106-e475-f6f26d8fb33b",
        "colab": {
          "base_uri": "https://localhost:8080/",
          "height": 190
        }
      },
      "source": [
        "from keras import models\n",
        "from keras import layers\n",
        "\n",
        "# Sequential형\n",
        "model = models.Sequential()\n",
        "model.add(layers.Dense(32, activation = 'relu', input_shape=(784,)))\n",
        "model.add(layers.Dense(10, activation = 'softmax'))"
      ],
      "execution_count": 0,
      "outputs": [
        {
          "output_type": "stream",
          "text": [
            "Using TensorFlow backend.\n"
          ],
          "name": "stderr"
        },
        {
          "output_type": "display_data",
          "data": {
            "text/html": [
              "<p style=\"color: red;\">\n",
              "The default version of TensorFlow in Colab will soon switch to TensorFlow 2.x.<br>\n",
              "We recommend you <a href=\"https://www.tensorflow.org/guide/migrate\" target=\"_blank\">upgrade</a> now \n",
              "or ensure your notebook will continue to use TensorFlow 1.x via the <code>%tensorflow_version 1.x</code> magic:\n",
              "<a href=\"https://colab.research.google.com/notebooks/tensorflow_version.ipynb\" target=\"_blank\">more info</a>.</p>\n"
            ],
            "text/plain": [
              "<IPython.core.display.HTML object>"
            ]
          },
          "metadata": {
            "tags": []
          }
        },
        {
          "output_type": "stream",
          "text": [
            "WARNING:tensorflow:From /usr/local/lib/python3.6/dist-packages/keras/backend/tensorflow_backend.py:66: The name tf.get_default_graph is deprecated. Please use tf.compat.v1.get_default_graph instead.\n",
            "\n",
            "WARNING:tensorflow:From /usr/local/lib/python3.6/dist-packages/keras/backend/tensorflow_backend.py:541: The name tf.placeholder is deprecated. Please use tf.compat.v1.placeholder instead.\n",
            "\n",
            "WARNING:tensorflow:From /usr/local/lib/python3.6/dist-packages/keras/backend/tensorflow_backend.py:4432: The name tf.random_uniform is deprecated. Please use tf.random.uniform instead.\n",
            "\n"
          ],
          "name": "stdout"
        }
      ]
    },
    {
      "cell_type": "code",
      "metadata": {
        "id": "rKItwha3OTI6",
        "colab_type": "code",
        "colab": {}
      },
      "source": [
        "# 함수형\n",
        "input_tensor = layers.Input(shape=(784,))\n",
        "x = layers.Dense(32, activation='relu')(input_tensor)\n",
        "output_tensor = layers.Dense(10, activation = 'softmax')(x)\n",
        "\n",
        "model = models.Model(inputs = input_tensor, outputs = output_tensor)"
      ],
      "execution_count": 0,
      "outputs": []
    },
    {
      "cell_type": "code",
      "metadata": {
        "id": "uv1V2QdbOx_K",
        "colab_type": "code",
        "colab": {}
      },
      "source": [
        "# from keras import optimizers\n",
        "# model.compile(optimizer=optimizers.RMSprop(lr=0.001),\n",
        "#               loss='mse',\n",
        "#               metrics=['accuracy'])\n",
        "# model.fit(input_tensor, output_tensor, batch_size=128, epochs=10)"
      ],
      "execution_count": 0,
      "outputs": []
    },
    {
      "cell_type": "markdown",
      "metadata": {
        "id": "f4jAx0hXPnoF",
        "colab_type": "text"
      },
      "source": [
        "# 영화 리뷰 분류 : 이진 분류 예제"
      ]
    },
    {
      "cell_type": "code",
      "metadata": {
        "id": "6iWNRPAoPp9u",
        "colab_type": "code",
        "outputId": "508ee293-c696-4538-f9ba-ca116e4c8be3",
        "colab": {
          "base_uri": "https://localhost:8080/",
          "height": 53
        }
      },
      "source": [
        "from keras.datasets import imdb\n",
        "(train_data, train_labels), (test_data, test_labels) = imdb.load_data(num_words=10000)"
      ],
      "execution_count": 0,
      "outputs": [
        {
          "output_type": "stream",
          "text": [
            "Downloading data from https://s3.amazonaws.com/text-datasets/imdb.npz\n",
            "17465344/17464789 [==============================] - 1s 0us/step\n"
          ],
          "name": "stdout"
        }
      ]
    },
    {
      "cell_type": "code",
      "metadata": {
        "id": "TvojgwfxPzMm",
        "colab_type": "code",
        "outputId": "5fd1b357-107b-4c0c-9964-77e94229e3ed",
        "colab": {
          "base_uri": "https://localhost:8080/",
          "height": 35
        }
      },
      "source": [
        "train_data[0][:5]"
      ],
      "execution_count": 0,
      "outputs": [
        {
          "output_type": "execute_result",
          "data": {
            "text/plain": [
              "[1, 14, 22, 16, 43]"
            ]
          },
          "metadata": {
            "tags": []
          },
          "execution_count": 10
        }
      ]
    },
    {
      "cell_type": "code",
      "metadata": {
        "id": "Qz-SQB58QBwP",
        "colab_type": "code",
        "outputId": "3e6a4918-890f-4473-c193-f94a4371dba8",
        "colab": {
          "base_uri": "https://localhost:8080/",
          "height": 35
        }
      },
      "source": [
        "train_labels[0]"
      ],
      "execution_count": 0,
      "outputs": [
        {
          "output_type": "execute_result",
          "data": {
            "text/plain": [
              "1"
            ]
          },
          "metadata": {
            "tags": []
          },
          "execution_count": 12
        }
      ]
    },
    {
      "cell_type": "code",
      "metadata": {
        "id": "cWvSKRf7QJQo",
        "colab_type": "code",
        "outputId": "dfeedc67-f673-4e6a-8c70-1a85c688b46e",
        "colab": {
          "base_uri": "https://localhost:8080/",
          "height": 35
        }
      },
      "source": [
        "max([max(sequence) for sequence in train_data])"
      ],
      "execution_count": 0,
      "outputs": [
        {
          "output_type": "execute_result",
          "data": {
            "text/plain": [
              "9999"
            ]
          },
          "metadata": {
            "tags": []
          },
          "execution_count": 13
        }
      ]
    },
    {
      "cell_type": "code",
      "metadata": {
        "id": "sRFJZwFFQOp0",
        "colab_type": "code",
        "outputId": "5cdecad2-51b7-4fbb-f43e-5f4d0f687d72",
        "colab": {
          "base_uri": "https://localhost:8080/",
          "height": 53
        }
      },
      "source": [
        "# 숫자를 단어로 매핑\n",
        "word_index = imdb.get_word_index() # word_index = BOW\n",
        "reverse_word_index = dict(\n",
        "    [(value, key) for (key, value) in word_index.items()])\n",
        "decoded_review = ' '.join(\n",
        "    [reverse_word_index.get(i - 3, '?') for i in train_data[0]]) # '?'가 뭐지?? "
      ],
      "execution_count": 0,
      "outputs": [
        {
          "output_type": "stream",
          "text": [
            "Downloading data from https://s3.amazonaws.com/text-datasets/imdb_word_index.json\n",
            "1646592/1641221 [==============================] - 0s 0us/step\n"
          ],
          "name": "stdout"
        }
      ]
    },
    {
      "cell_type": "code",
      "metadata": {
        "id": "2brOZe0MUtoS",
        "colab_type": "code",
        "colab": {}
      },
      "source": [
        "# 데이터 준비 , 리스트 -> 텐서\n",
        "# 정수 시퀀스를 이진 행렬로 인코딩하기\n",
        "\n",
        "import numpy as np\n",
        "\n",
        "def vectorize_sequences(sequences, dimension=10000):\n",
        "  results = np.zeros((len(sequences), dimension))\n",
        "  for i, sequence in enumerate(sequences):\n",
        "    results[i, sequence] = 1.\n",
        "  return results\n",
        "\n",
        "x_train = vectorize_sequences(train_data) #훈련데이터를 벡터화\n",
        "x_test = vectorize_sequences(test_data) #테스트데이터를 벡터화"
      ],
      "execution_count": 0,
      "outputs": []
    },
    {
      "cell_type": "code",
      "metadata": {
        "id": "ItbJIWTPV94F",
        "colab_type": "code",
        "outputId": "f15717c6-cd61-4bad-d9b0-09fdbac1eda5",
        "colab": {
          "base_uri": "https://localhost:8080/",
          "height": 35
        }
      },
      "source": [
        "x_train[0]"
      ],
      "execution_count": 0,
      "outputs": [
        {
          "output_type": "execute_result",
          "data": {
            "text/plain": [
              "array([0., 1., 1., ..., 0., 0., 0.])"
            ]
          },
          "metadata": {
            "tags": []
          },
          "execution_count": 16
        }
      ]
    },
    {
      "cell_type": "code",
      "metadata": {
        "id": "f_fWryfTWHMT",
        "colab_type": "code",
        "colab": {}
      },
      "source": [
        "y_train = np.asarray(train_labels).astype('float32')\n",
        "y_test = np.asarray(test_labels).astype('float32')"
      ],
      "execution_count": 0,
      "outputs": []
    },
    {
      "cell_type": "code",
      "metadata": {
        "id": "FyCQkGN2WRik",
        "colab_type": "code",
        "colab": {}
      },
      "source": [
        "#신경망 모델 만들기\n",
        "# relu 활성화 함수는 딥러닝에서 가장 인기 있는 활성화 함수\n",
        "from keras import models\n",
        "from keras import layers\n",
        "model = models.Sequential()\n",
        "model.add(layers.Dense(16, activation = 'relu', input_shape=(10000,)))\n",
        "model.add(layers.Dense(16, activation = 'relu'))\n",
        "model.add(layers.Dense(1, activation = 'sigmoid'))"
      ],
      "execution_count": 0,
      "outputs": []
    },
    {
      "cell_type": "code",
      "metadata": {
        "id": "Alf5BoGVXjUg",
        "colab_type": "code",
        "outputId": "ecb13e04-741c-4dc9-f2a5-635e19c7ba7a",
        "colab": {
          "base_uri": "https://localhost:8080/",
          "height": 107
        }
      },
      "source": [
        "# binary-crossentropy : 이진 분류 문제, 신경망의 출력이 확률이기 때문에 손실함수로 적합, mean_squared_error도 있음(mse)\n",
        "# 확률을 출력하는 모델을 사용할 때는 크로스엔트로피가 최선의 선택이다.\n",
        "# 크로스엔트로피 : 확률 분포 간의 차이를 측정한다. (원본분포와 예측분포 사이를 측정)\n",
        "# 모델 컴파일하기\n",
        "\n",
        "model.compile(optimizer='rmsprop', # optimizers.RMSprop(lr=0.001) 처럼 매개변수를 지정할 때 사용\n",
        "              loss = 'binary_crossentropy',\n",
        "              metrics = ['accuracy'])"
      ],
      "execution_count": 0,
      "outputs": [
        {
          "output_type": "stream",
          "text": [
            "WARNING:tensorflow:From /usr/local/lib/python3.6/dist-packages/keras/backend/tensorflow_backend.py:3657: The name tf.log is deprecated. Please use tf.math.log instead.\n",
            "\n",
            "WARNING:tensorflow:From /usr/local/lib/python3.6/dist-packages/tensorflow_core/python/ops/nn_impl.py:183: where (from tensorflow.python.ops.array_ops) is deprecated and will be removed in a future version.\n",
            "Instructions for updating:\n",
            "Use tf.where in 2.0, which has the same broadcast rule as np.where\n"
          ],
          "name": "stdout"
        }
      ]
    },
    {
      "cell_type": "code",
      "metadata": {
        "id": "cs51Ye6VY01W",
        "colab_type": "code",
        "colab": {}
      },
      "source": [
        "x_val = x_train[:10000]\n",
        "partial_x_train = x_train[10000:]\n",
        "y_val = y_train[:10000]\n",
        "partial_y_train = y_train[10000:]"
      ],
      "execution_count": 0,
      "outputs": []
    },
    {
      "cell_type": "code",
      "metadata": {
        "id": "zZDqUy7ZZliC",
        "colab_type": "code",
        "outputId": "3fa882ab-a2c8-4e32-84e2-9e723e31ab2b",
        "colab": {
          "base_uri": "https://localhost:8080/",
          "height": 1000
        }
      },
      "source": [
        "model.compile(optimizer='rmsprop',\n",
        "              loss='binary_crossentropy',\n",
        "              metrics=['acc'])\n",
        "\n",
        "# model.fit은 History 객체를 반환함\n",
        "history = model.fit(partial_x_train,\n",
        "                    partial_y_train,\n",
        "                    epochs=20,\n",
        "                    batch_size=512,\n",
        "                    validation_data=(x_val, y_val))"
      ],
      "execution_count": 0,
      "outputs": [
        {
          "output_type": "stream",
          "text": [
            "WARNING:tensorflow:From /usr/local/lib/python3.6/dist-packages/keras/backend/tensorflow_backend.py:1033: The name tf.assign_add is deprecated. Please use tf.compat.v1.assign_add instead.\n",
            "\n",
            "WARNING:tensorflow:From /usr/local/lib/python3.6/dist-packages/keras/backend/tensorflow_backend.py:1020: The name tf.assign is deprecated. Please use tf.compat.v1.assign instead.\n",
            "\n",
            "WARNING:tensorflow:From /usr/local/lib/python3.6/dist-packages/keras/backend/tensorflow_backend.py:3005: The name tf.Session is deprecated. Please use tf.compat.v1.Session instead.\n",
            "\n",
            "Train on 15000 samples, validate on 10000 samples\n",
            "Epoch 1/20\n",
            "WARNING:tensorflow:From /usr/local/lib/python3.6/dist-packages/keras/backend/tensorflow_backend.py:190: The name tf.get_default_session is deprecated. Please use tf.compat.v1.get_default_session instead.\n",
            "\n",
            "WARNING:tensorflow:From /usr/local/lib/python3.6/dist-packages/keras/backend/tensorflow_backend.py:197: The name tf.ConfigProto is deprecated. Please use tf.compat.v1.ConfigProto instead.\n",
            "\n",
            "WARNING:tensorflow:From /usr/local/lib/python3.6/dist-packages/keras/backend/tensorflow_backend.py:207: The name tf.global_variables is deprecated. Please use tf.compat.v1.global_variables instead.\n",
            "\n",
            "WARNING:tensorflow:From /usr/local/lib/python3.6/dist-packages/keras/backend/tensorflow_backend.py:216: The name tf.is_variable_initialized is deprecated. Please use tf.compat.v1.is_variable_initialized instead.\n",
            "\n",
            "WARNING:tensorflow:From /usr/local/lib/python3.6/dist-packages/keras/backend/tensorflow_backend.py:223: The name tf.variables_initializer is deprecated. Please use tf.compat.v1.variables_initializer instead.\n",
            "\n",
            "15000/15000 [==============================] - 2s 143us/step - loss: 0.5088 - acc: 0.7844 - val_loss: 0.3847 - val_acc: 0.8642\n",
            "Epoch 2/20\n",
            "15000/15000 [==============================] - 1s 97us/step - loss: 0.2993 - acc: 0.9062 - val_loss: 0.3410 - val_acc: 0.8591\n",
            "Epoch 3/20\n",
            "15000/15000 [==============================] - 1s 96us/step - loss: 0.2207 - acc: 0.9260 - val_loss: 0.2767 - val_acc: 0.8915\n",
            "Epoch 4/20\n",
            "15000/15000 [==============================] - 1s 96us/step - loss: 0.1736 - acc: 0.9438 - val_loss: 0.2797 - val_acc: 0.8877\n",
            "Epoch 5/20\n",
            "15000/15000 [==============================] - 1s 98us/step - loss: 0.1407 - acc: 0.9563 - val_loss: 0.2817 - val_acc: 0.8874\n",
            "Epoch 6/20\n",
            "15000/15000 [==============================] - 1s 96us/step - loss: 0.1163 - acc: 0.9633 - val_loss: 0.2937 - val_acc: 0.8856\n",
            "Epoch 7/20\n",
            "15000/15000 [==============================] - 1s 95us/step - loss: 0.0975 - acc: 0.9714 - val_loss: 0.3229 - val_acc: 0.8773\n",
            "Epoch 8/20\n",
            "15000/15000 [==============================] - 1s 96us/step - loss: 0.0797 - acc: 0.9761 - val_loss: 0.3308 - val_acc: 0.8815\n",
            "Epoch 9/20\n",
            "15000/15000 [==============================] - 1s 98us/step - loss: 0.0662 - acc: 0.9815 - val_loss: 0.3538 - val_acc: 0.8798\n",
            "Epoch 10/20\n",
            "15000/15000 [==============================] - 2s 100us/step - loss: 0.0546 - acc: 0.9852 - val_loss: 0.3866 - val_acc: 0.8769\n",
            "Epoch 11/20\n",
            "15000/15000 [==============================] - 1s 99us/step - loss: 0.0447 - acc: 0.9888 - val_loss: 0.4061 - val_acc: 0.8770\n",
            "Epoch 12/20\n",
            "15000/15000 [==============================] - 1s 98us/step - loss: 0.0338 - acc: 0.9937 - val_loss: 0.4903 - val_acc: 0.8646\n",
            "Epoch 13/20\n",
            "15000/15000 [==============================] - 1s 97us/step - loss: 0.0310 - acc: 0.9933 - val_loss: 0.4604 - val_acc: 0.8730\n",
            "Epoch 14/20\n",
            "15000/15000 [==============================] - 1s 96us/step - loss: 0.0246 - acc: 0.9946 - val_loss: 0.4935 - val_acc: 0.8702\n",
            "Epoch 15/20\n",
            "15000/15000 [==============================] - 1s 95us/step - loss: 0.0167 - acc: 0.9981 - val_loss: 0.5355 - val_acc: 0.8693\n",
            "Epoch 16/20\n",
            "15000/15000 [==============================] - 1s 97us/step - loss: 0.0155 - acc: 0.9975 - val_loss: 0.5484 - val_acc: 0.8687\n",
            "Epoch 17/20\n",
            "15000/15000 [==============================] - 1s 97us/step - loss: 0.0138 - acc: 0.9975 - val_loss: 0.5765 - val_acc: 0.8675\n",
            "Epoch 18/20\n",
            "15000/15000 [==============================] - 1s 97us/step - loss: 0.0072 - acc: 0.9998 - val_loss: 0.6740 - val_acc: 0.8569\n",
            "Epoch 19/20\n",
            "15000/15000 [==============================] - 1s 99us/step - loss: 0.0098 - acc: 0.9984 - val_loss: 0.6379 - val_acc: 0.8673\n",
            "Epoch 20/20\n",
            "15000/15000 [==============================] - 1s 96us/step - loss: 0.0053 - acc: 0.9996 - val_loss: 0.6794 - val_acc: 0.8655\n"
          ],
          "name": "stdout"
        }
      ]
    },
    {
      "cell_type": "code",
      "metadata": {
        "id": "zLkUsK3CcmFs",
        "colab_type": "code",
        "outputId": "fdd73e9e-5688-4c31-a969-cbbb1123b64f",
        "colab": {
          "base_uri": "https://localhost:8080/",
          "height": 295
        }
      },
      "source": [
        "import matplotlib.pyplot as plt\n",
        "\n",
        "history_dict = history.history\n",
        "loss = history_dict['loss']\n",
        "val_loss = history_dict['val_loss']\n",
        "\n",
        "epochs = range(1, len(loss) + 1)\n",
        "\n",
        "plt.plot(epochs, loss, 'bo', label = 'Training loss') # bo는 파란색 점을 의미\n",
        "plt.plot(epochs, val_loss, 'b', label = 'Validation loss') # b는 파란색 실선을 의미\n",
        "plt.title('Training and validation loss')\n",
        "plt.xlabel('Epochs')\n",
        "plt.ylabel('Loss')\n",
        "plt.legend()\n",
        "\n",
        "plt.show()"
      ],
      "execution_count": 0,
      "outputs": [
        {
          "output_type": "display_data",
          "data": {
            "image/png": "[encoded data removed]",
            "text/plain": [
              "<Figure size 432x288 with 1 Axes>"
            ]
          },
          "metadata": {
            "tags": []
          }
        }
      ]
    },
    {
      "cell_type": "code",
      "metadata": {
        "id": "3xidHYUDdaj3",
        "colab_type": "code",
        "outputId": "eba58712-fefb-48e9-d968-0d874610c606",
        "colab": {
          "base_uri": "https://localhost:8080/",
          "height": 295
        }
      },
      "source": [
        "plt.clf() # 그래프를 초기화한다.\n",
        "acc = history_dict['acc']\n",
        "val_acc = history_dict['val_acc']\n",
        "\n",
        "plt.plot(epochs, acc, 'bo', label='Training acc')\n",
        "plt.plot(epochs, val_acc, 'b', label='Validation acc')\n",
        "plt.title('Training and validation accuracy')\n",
        "plt.xlabel('Epochs')\n",
        "plt.ylabel('Accuracy')\n",
        "plt.legend()\n",
        "\n",
        "plt.show()"
      ],
      "execution_count": 0,
      "outputs": [
        {
          "output_type": "display_data",
          "data": {
            "image/png": "[encoded data removed]",
            "text/plain": [
              "<Figure size 432x288 with 1 Axes>"
            ]
          },
          "metadata": {
            "tags": []
          }
        }
      ]
    },
    {
      "cell_type": "code",
      "metadata": {
        "id": "O5OF-Biv4Wy8",
        "colab_type": "code",
        "outputId": "f6152057-5e9f-4c41-b6d5-71bbe56a075c",
        "colab": {
          "base_uri": "https://localhost:8080/",
          "height": 179
        }
      },
      "source": [
        "model = models.Sequential()\n",
        "model.add(layers.Dense(16, activation = 'relu', input_shape=(10000,)))\n",
        "model.add(layers.Dense(16, activation='relu'))\n",
        "model.add(layers.Dense(1, activation='sigmoid'))\n",
        "\n",
        "model.compile(optimizer='rmsprop',\n",
        "              loss='binary_crossentropy',\n",
        "              metrics=['accuracy'])\n",
        "\n",
        "model.fit(x_train, y_train, epochs=4, batch_size=512)\n",
        "results = model.evaluate(x_test, y_test)"
      ],
      "execution_count": 0,
      "outputs": [
        {
          "output_type": "stream",
          "text": [
            "Epoch 1/4\n",
            "25000/25000 [==============================] - 2s 93us/step - loss: 0.4433 - acc: 0.8281\n",
            "Epoch 2/4\n",
            "25000/25000 [==============================] - 2s 76us/step - loss: 0.2621 - acc: 0.9089\n",
            "Epoch 3/4\n",
            "25000/25000 [==============================] - 2s 74us/step - loss: 0.2017 - acc: 0.9290\n",
            "Epoch 4/4\n",
            "25000/25000 [==============================] - 2s 73us/step - loss: 0.1687 - acc: 0.9413\n",
            "25000/25000 [==============================] - 2s 85us/step\n"
          ],
          "name": "stdout"
        }
      ]
    },
    {
      "cell_type": "code",
      "metadata": {
        "id": "BWl88Qux5P5I",
        "colab_type": "code",
        "outputId": "2a72f1d9-0bac-47e7-c989-c02746e82a0d",
        "colab": {
          "base_uri": "https://localhost:8080/",
          "height": 53
        }
      },
      "source": [
        "model.evaluate(x_test, y_test)"
      ],
      "execution_count": 0,
      "outputs": [
        {
          "output_type": "stream",
          "text": [
            "25000/25000 [==============================] - 2s 78us/step\n"
          ],
          "name": "stdout"
        },
        {
          "output_type": "execute_result",
          "data": {
            "text/plain": [
              "[0.2901100524044037, 0.88504]"
            ]
          },
          "metadata": {
            "tags": []
          },
          "execution_count": 47
        }
      ]
    },
    {
      "cell_type": "code",
      "metadata": {
        "id": "x5sWRfJW5_aX",
        "colab_type": "code",
        "outputId": "75f7b9aa-1dc0-4559-be81-2a1b97949220",
        "colab": {
          "base_uri": "https://localhost:8080/",
          "height": 143
        }
      },
      "source": [
        "model.predict(x_test)"
      ],
      "execution_count": 0,
      "outputs": [
        {
          "output_type": "execute_result",
          "data": {
            "text/plain": [
              "array([[0.20408407],\n",
              "       [0.9999223 ],\n",
              "       [0.84951836],\n",
              "       ...,\n",
              "       [0.11066487],\n",
              "       [0.07177949],\n",
              "       [0.67150974]], dtype=float32)"
            ]
          },
          "metadata": {
            "tags": []
          },
          "execution_count": 46
        }
      ]
    },
    {
      "cell_type": "markdown",
      "metadata": {
        "id": "7orslFIK63y0",
        "colab_type": "text"
      },
      "source": [
        "# layer을 2에서 1로 줄여보자!"
      ]
    },
    {
      "cell_type": "code",
      "metadata": {
        "colab_type": "code",
        "outputId": "f2ad3578-50bc-4d36-ba26-d64515295598",
        "id": "ZE-b8AoU6oJQ",
        "colab": {
          "base_uri": "https://localhost:8080/",
          "height": 179
        }
      },
      "source": [
        "model = models.Sequential()\n",
        "model.add(layers.Dense(16, activation = 'relu', input_shape=(10000,)))\n",
        "model.add(layers.Dense(1, activation='sigmoid'))\n",
        "\n",
        "model.compile(optimizer='rmsprop',\n",
        "              loss='binary_crossentropy',\n",
        "              metrics=['accuracy'])\n",
        "\n",
        "model.fit(x_train, y_train, epochs=4, batch_size=512)\n",
        "results = model.evaluate(x_test, y_test)"
      ],
      "execution_count": 0,
      "outputs": [
        {
          "output_type": "stream",
          "text": [
            "Epoch 1/4\n",
            "25000/25000 [==============================] - 2s 98us/step - loss: 0.4531 - acc: 0.8261\n",
            "Epoch 2/4\n",
            "25000/25000 [==============================] - 2s 74us/step - loss: 0.2800 - acc: 0.9076\n",
            "Epoch 3/4\n",
            "25000/25000 [==============================] - 2s 74us/step - loss: 0.2224 - acc: 0.9236\n",
            "Epoch 4/4\n",
            "25000/25000 [==============================] - 2s 73us/step - loss: 0.1891 - acc: 0.9359\n",
            "25000/25000 [==============================] - 2s 77us/step\n"
          ],
          "name": "stdout"
        }
      ]
    },
    {
      "cell_type": "code",
      "metadata": {
        "id": "UKrS-OHT6znA",
        "colab_type": "code",
        "outputId": "9d78780c-0555-4c8c-b5be-dcce1866dcc1",
        "colab": {
          "base_uri": "https://localhost:8080/",
          "height": 53
        }
      },
      "source": [
        "model.evaluate(x_test, y_test)"
      ],
      "execution_count": 0,
      "outputs": [
        {
          "output_type": "stream",
          "text": [
            "25000/25000 [==============================] - 2s 72us/step\n"
          ],
          "name": "stdout"
        },
        {
          "output_type": "execute_result",
          "data": {
            "text/plain": [
              "[0.2796249929714203, 0.88804]"
            ]
          },
          "metadata": {
            "tags": []
          },
          "execution_count": 49
        }
      ]
    },
    {
      "cell_type": "code",
      "metadata": {
        "id": "2CqcPM7S6z76",
        "colab_type": "code",
        "outputId": "b749bc7d-531f-4683-b9de-df1815db8d0f",
        "colab": {
          "base_uri": "https://localhost:8080/",
          "height": 143
        }
      },
      "source": [
        "model.predict(x_test)"
      ],
      "execution_count": 0,
      "outputs": [
        {
          "output_type": "execute_result",
          "data": {
            "text/plain": [
              "array([[0.234321  ],\n",
              "       [0.9990938 ],\n",
              "       [0.8895353 ],\n",
              "       ...,\n",
              "       [0.1448287 ],\n",
              "       [0.10541713],\n",
              "       [0.50418824]], dtype=float32)"
            ]
          },
          "metadata": {
            "tags": []
          },
          "execution_count": 50
        }
      ]
    },
    {
      "cell_type": "markdown",
      "metadata": {
        "colab_type": "text",
        "id": "Lh3o7scG6-5G"
      },
      "source": [
        "# layer을 2에서 3으로 늘려보자!"
      ]
    },
    {
      "cell_type": "code",
      "metadata": {
        "colab_type": "code",
        "outputId": "6098653c-2dcd-4d33-9849-0f072206a49b",
        "id": "-xtBhB1i6-5N",
        "colab": {
          "base_uri": "https://localhost:8080/",
          "height": 179
        }
      },
      "source": [
        "model = models.Sequential()\n",
        "model.add(layers.Dense(16, activation = 'relu', input_shape=(10000,)))\n",
        "model.add(layers.Dense(16, activation = 'relu'))\n",
        "model.add(layers.Dense(16, activation = 'relu'))\n",
        "model.add(layers.Dense(1, activation='sigmoid'))\n",
        "\n",
        "model.compile(optimizer='rmsprop',\n",
        "              loss='binary_crossentropy',\n",
        "              metrics=['accuracy'])\n",
        "\n",
        "model.fit(x_train, y_train, epochs=4, batch_size=512)\n",
        "results = model.evaluate(x_test, y_test)"
      ],
      "execution_count": 0,
      "outputs": [
        {
          "output_type": "stream",
          "text": [
            "Epoch 1/4\n",
            "25000/25000 [==============================] - 2s 96us/step - loss: 0.4405 - acc: 0.8152\n",
            "Epoch 2/4\n",
            "25000/25000 [==============================] - 2s 73us/step - loss: 0.2507 - acc: 0.9084\n",
            "Epoch 3/4\n",
            "25000/25000 [==============================] - 2s 74us/step - loss: 0.1946 - acc: 0.9279\n",
            "Epoch 4/4\n",
            "25000/25000 [==============================] - 2s 75us/step - loss: 0.1664 - acc: 0.9394\n",
            "25000/25000 [==============================] - 2s 78us/step\n"
          ],
          "name": "stdout"
        }
      ]
    },
    {
      "cell_type": "code",
      "metadata": {
        "colab_type": "code",
        "id": "1neDEebx6-5T",
        "outputId": "17670090-f3a6-4cf3-8fa5-b4f6bcffc7b3",
        "colab": {
          "base_uri": "https://localhost:8080/",
          "height": 53
        }
      },
      "source": [
        "model.evaluate(x_test, y_test)"
      ],
      "execution_count": 0,
      "outputs": [
        {
          "output_type": "stream",
          "text": [
            "25000/25000 [==============================] - 2s 70us/step\n"
          ],
          "name": "stdout"
        },
        {
          "output_type": "execute_result",
          "data": {
            "text/plain": [
              "[0.31183319145202637, 0.87968]"
            ]
          },
          "metadata": {
            "tags": []
          },
          "execution_count": 52
        }
      ]
    },
    {
      "cell_type": "code",
      "metadata": {
        "colab_type": "code",
        "id": "oSsn4XQc6-5W",
        "outputId": "42af57c1-d18e-4f76-f88b-b34fc04bb75b",
        "colab": {
          "base_uri": "https://localhost:8080/",
          "height": 143
        }
      },
      "source": [
        "model.predict(x_test)"
      ],
      "execution_count": 0,
      "outputs": [
        {
          "output_type": "execute_result",
          "data": {
            "text/plain": [
              "array([[0.20209426],\n",
              "       [0.9999729 ],\n",
              "       [0.9700789 ],\n",
              "       ...,\n",
              "       [0.13471362],\n",
              "       [0.08202022],\n",
              "       [0.78395885]], dtype=float32)"
            ]
          },
          "metadata": {
            "tags": []
          },
          "execution_count": 53
        }
      ]
    },
    {
      "cell_type": "markdown",
      "metadata": {
        "id": "LdSd_IYuGCVI",
        "colab_type": "text"
      },
      "source": [
        "# 레이어 2, 유닛 수 32개"
      ]
    },
    {
      "cell_type": "code",
      "metadata": {
        "colab_type": "code",
        "outputId": "97354353-e985-4906-bb0c-9d4c7b7a11b9",
        "id": "1XztPcg5F-wV",
        "colab": {
          "base_uri": "https://localhost:8080/",
          "height": 179
        }
      },
      "source": [
        "model = models.Sequential()\n",
        "model.add(layers.Dense(32, activation = 'relu', input_shape=(10000,)))\n",
        "model.add(layers.Dense(32, activation = 'relu'))\n",
        "model.add(layers.Dense(1, activation='sigmoid'))\n",
        "\n",
        "model.compile(optimizer='rmsprop',\n",
        "              loss='binary_crossentropy',\n",
        "              metrics=['accuracy'])\n",
        "\n",
        "model.fit(x_train, y_train, epochs=4, batch_size=512)\n",
        "results = model.evaluate(x_test, y_test)"
      ],
      "execution_count": 0,
      "outputs": [
        {
          "output_type": "stream",
          "text": [
            "Epoch 1/4\n",
            "25000/25000 [==============================] - 4s 164us/step - loss: 0.4203 - acc: 0.8190\n",
            "Epoch 2/4\n",
            "25000/25000 [==============================] - 2s 89us/step - loss: 0.2403 - acc: 0.9098\n",
            "Epoch 3/4\n",
            "25000/25000 [==============================] - 2s 85us/step - loss: 0.1901 - acc: 0.9301\n",
            "Epoch 4/4\n",
            "25000/25000 [==============================] - 2s 86us/step - loss: 0.1595 - acc: 0.9413\n",
            "25000/25000 [==============================] - 4s 152us/step\n"
          ],
          "name": "stdout"
        }
      ]
    },
    {
      "cell_type": "code",
      "metadata": {
        "colab_type": "code",
        "outputId": "396c60cd-ddfd-4995-f5e0-9417b8b0be9b",
        "id": "suZYxfeDF-wb",
        "colab": {
          "base_uri": "https://localhost:8080/",
          "height": 53
        }
      },
      "source": [
        "model.evaluate(x_test, y_test)"
      ],
      "execution_count": 0,
      "outputs": [
        {
          "output_type": "stream",
          "text": [
            "25000/25000 [==============================] - 2s 85us/step\n"
          ],
          "name": "stdout"
        },
        {
          "output_type": "execute_result",
          "data": {
            "text/plain": [
              "[0.3334533141708374, 0.87152]"
            ]
          },
          "metadata": {
            "tags": []
          },
          "execution_count": 56
        }
      ]
    },
    {
      "cell_type": "code",
      "metadata": {
        "colab_type": "code",
        "outputId": "2a601500-712b-407d-de3c-2e861b99d1ba",
        "id": "ZSeDWND5F-wf",
        "colab": {
          "base_uri": "https://localhost:8080/",
          "height": 143
        }
      },
      "source": [
        "model.predict(x_test)"
      ],
      "execution_count": 0,
      "outputs": [
        {
          "output_type": "execute_result",
          "data": {
            "text/plain": [
              "array([[0.14805293],\n",
              "       [0.9998992 ],\n",
              "       [0.6627844 ],\n",
              "       ...,\n",
              "       [0.11715287],\n",
              "       [0.03353629],\n",
              "       [0.5008956 ]], dtype=float32)"
            ]
          },
          "metadata": {
            "tags": []
          },
          "execution_count": 57
        }
      ]
    },
    {
      "cell_type": "markdown",
      "metadata": {
        "id": "wc33zMrQGZhw",
        "colab_type": "text"
      },
      "source": [
        "# 레이어 3, 유닛 수 *64개*"
      ]
    },
    {
      "cell_type": "code",
      "metadata": {
        "colab_type": "code",
        "outputId": "6cf8cf94-897e-4835-a4d2-55af2fe84321",
        "id": "MkQk_3kNGYvm",
        "colab": {
          "base_uri": "https://localhost:8080/",
          "height": 179
        }
      },
      "source": [
        "model = models.Sequential()\n",
        "model.add(layers.Dense(64, activation = 'relu', input_shape=(10000,)))\n",
        "model.add(layers.Dense(64, activation = 'relu'))\n",
        "model.add(layers.Dense(64, activation = 'relu'))\n",
        "model.add(layers.Dense(1, activation='sigmoid'))\n",
        "\n",
        "model.compile(optimizer='rmsprop',\n",
        "              loss='binary_crossentropy',\n",
        "              metrics=['accuracy'])\n",
        "\n",
        "model.fit(x_train, y_train, epochs=4, batch_size=512)\n",
        "results = model.evaluate(x_test, y_test)"
      ],
      "execution_count": 0,
      "outputs": [
        {
          "output_type": "stream",
          "text": [
            "Epoch 1/4\n",
            "25000/25000 [==============================] - 3s 139us/step - loss: 0.4365 - acc: 0.8035\n",
            "Epoch 2/4\n",
            "25000/25000 [==============================] - 3s 112us/step - loss: 0.2533 - acc: 0.9020\n",
            "Epoch 3/4\n",
            "25000/25000 [==============================] - 3s 112us/step - loss: 0.1955 - acc: 0.9236\n",
            "Epoch 4/4\n",
            "25000/25000 [==============================] - 3s 113us/step - loss: 0.1467 - acc: 0.9448\n",
            "25000/25000 [==============================] - 2s 94us/step\n"
          ],
          "name": "stdout"
        }
      ]
    },
    {
      "cell_type": "code",
      "metadata": {
        "colab_type": "code",
        "outputId": "e8ab6677-2acb-411a-8633-3a3daab0388e",
        "id": "JJ_pQZJvGYvp",
        "colab": {
          "base_uri": "https://localhost:8080/",
          "height": 53
        }
      },
      "source": [
        "model.evaluate(x_test, y_test)"
      ],
      "execution_count": 0,
      "outputs": [
        {
          "output_type": "stream",
          "text": [
            "25000/25000 [==============================] - 2s 93us/step\n"
          ],
          "name": "stdout"
        },
        {
          "output_type": "execute_result",
          "data": {
            "text/plain": [
              "[0.3691492634296417, 0.86708]"
            ]
          },
          "metadata": {
            "tags": []
          },
          "execution_count": 62
        }
      ]
    },
    {
      "cell_type": "code",
      "metadata": {
        "colab_type": "code",
        "outputId": "34d93662-015a-43f1-a815-cd081edd1dae",
        "id": "gMhX6wX1GYvt",
        "colab": {
          "base_uri": "https://localhost:8080/",
          "height": 143
        }
      },
      "source": [
        "model.predict(x_test)"
      ],
      "execution_count": 0,
      "outputs": [
        {
          "output_type": "execute_result",
          "data": {
            "text/plain": [
              "array([[0.08399662],\n",
              "       [0.9998456 ],\n",
              "       [0.6569927 ],\n",
              "       ...,\n",
              "       [0.04904139],\n",
              "       [0.02312928],\n",
              "       [0.46774295]], dtype=float32)"
            ]
          },
          "metadata": {
            "tags": []
          },
          "execution_count": 63
        }
      ]
    },
    {
      "cell_type": "code",
      "metadata": {
        "id": "SXuuw-qTdO6Z",
        "colab_type": "code",
        "outputId": "0fb73bb8-a136-4f68-9695-dbeb9ce814fc",
        "colab": {
          "base_uri": "https://localhost:8080/",
          "height": 35
        }
      },
      "source": [
        "import keras\n",
        "keras.__version__"
      ],
      "execution_count": 0,
      "outputs": [
        {
          "output_type": "execute_result",
          "data": {
            "text/plain": [
              "'2.2.5'"
            ]
          },
          "metadata": {
            "tags": []
          },
          "execution_count": 97
        }
      ]
    },
    {
      "cell_type": "markdown",
      "metadata": {
        "id": "qzp9VnOiKKg2",
        "colab_type": "text"
      },
      "source": [
        "# 뉴스 기사 분류 / 다중 분류 모델"
      ]
    },
    {
      "cell_type": "code",
      "metadata": {
        "id": "vcW5YlTAKSmR",
        "colab_type": "code",
        "colab": {
          "base_uri": "https://localhost:8080/",
          "height": 116
        },
        "outputId": "096aabc0-6491-4035-b08c-4278f950630d"
      },
      "source": [
        "from keras.datasets import reuters\n",
        "\n",
        "(train_data, train_labels), (test_data, test_labels) = reuters.load_data(num_words=10000)"
      ],
      "execution_count": 1,
      "outputs": [
        {
          "output_type": "stream",
          "text": [
            "Using TensorFlow backend.\n"
          ],
          "name": "stderr"
        },
        {
          "output_type": "display_data",
          "data": {
            "text/html": [
              "<p style=\"color: red;\">\n",
              "The default version of TensorFlow in Colab will soon switch to TensorFlow 2.x.<br>\n",
              "We recommend you <a href=\"https://www.tensorflow.org/guide/migrate\" target=\"_blank\">upgrade</a> now \n",
              "or ensure your notebook will continue to use TensorFlow 1.x via the <code>%tensorflow_version 1.x</code> magic:\n",
              "<a href=\"https://colab.research.google.com/notebooks/tensorflow_version.ipynb\" target=\"_blank\">more info</a>.</p>\n"
            ],
            "text/plain": [
              "<IPython.core.display.HTML object>"
            ]
          },
          "metadata": {
            "tags": []
          }
        },
        {
          "output_type": "stream",
          "text": [
            "Downloading data from https://s3.amazonaws.com/text-datasets/reuters.npz\n",
            "2113536/2110848 [==============================] - 0s 0us/step\n"
          ],
          "name": "stdout"
        }
      ]
    },
    {
      "cell_type": "code",
      "metadata": {
        "id": "oxcKnNjyKhM6",
        "colab_type": "code",
        "outputId": "34a8454e-0f45-4cdf-da80-f86b89999e2b",
        "colab": {
          "base_uri": "https://localhost:8080/",
          "height": 34
        }
      },
      "source": [
        "len(train_data)"
      ],
      "execution_count": 2,
      "outputs": [
        {
          "output_type": "execute_result",
          "data": {
            "text/plain": [
              "8982"
            ]
          },
          "metadata": {
            "tags": []
          },
          "execution_count": 2
        }
      ]
    },
    {
      "cell_type": "code",
      "metadata": {
        "id": "-e4BeRDWKiOQ",
        "colab_type": "code",
        "outputId": "efe19743-d2c6-44d6-cc22-5bf0b13fc174",
        "colab": {
          "base_uri": "https://localhost:8080/",
          "height": 34
        }
      },
      "source": [
        "len(test_data)"
      ],
      "execution_count": 3,
      "outputs": [
        {
          "output_type": "execute_result",
          "data": {
            "text/plain": [
              "2246"
            ]
          },
          "metadata": {
            "tags": []
          },
          "execution_count": 3
        }
      ]
    },
    {
      "cell_type": "code",
      "metadata": {
        "id": "HzggLGmbKi-W",
        "colab_type": "code",
        "outputId": "98fef7ca-bbea-4955-cde8-23ef6ecf30d1",
        "colab": {
          "base_uri": "https://localhost:8080/",
          "height": 34
        }
      },
      "source": [
        "train_data[10][:5]"
      ],
      "execution_count": 4,
      "outputs": [
        {
          "output_type": "execute_result",
          "data": {
            "text/plain": [
              "[1, 245, 273, 207, 156]"
            ]
          },
          "metadata": {
            "tags": []
          },
          "execution_count": 4
        }
      ]
    },
    {
      "cell_type": "code",
      "metadata": {
        "id": "A2H24Rk-KpTy",
        "colab_type": "code",
        "colab": {
          "base_uri": "https://localhost:8080/",
          "height": 52
        },
        "outputId": "1dc225eb-9f40-407a-8010-2676c0eda6c0"
      },
      "source": [
        "# 단어로 디코딩\n",
        "word_index = reuters.get_word_index()\n",
        "reverse_word_index = dict([(value, key) for (key, value) in word_index.items()])\n",
        "\n",
        "# dict.get에 있는 '?'는 가져올 값이 없을 때 가져올 값을 지정해줌.\n",
        "decoded_newswire = ' '.join([reverse_word_index.get(i - 3, '?') for i in train_data[0]])"
      ],
      "execution_count": 5,
      "outputs": [
        {
          "output_type": "stream",
          "text": [
            "Downloading data from https://s3.amazonaws.com/text-datasets/reuters_word_index.json\n",
            "557056/550378 [==============================] - 0s 0us/step\n"
          ],
          "name": "stdout"
        }
      ]
    },
    {
      "cell_type": "code",
      "metadata": {
        "id": "e8kujmozK3pT",
        "colab_type": "code",
        "outputId": "fa898069-f2bc-4ccd-d24c-b5f24143f26c",
        "colab": {
          "base_uri": "https://localhost:8080/",
          "height": 34
        }
      },
      "source": [
        "train_labels[10]"
      ],
      "execution_count": 6,
      "outputs": [
        {
          "output_type": "execute_result",
          "data": {
            "text/plain": [
              "3"
            ]
          },
          "metadata": {
            "tags": []
          },
          "execution_count": 6
        }
      ]
    },
    {
      "cell_type": "code",
      "metadata": {
        "id": "UJjBepwmLUnQ",
        "colab_type": "code",
        "colab": {}
      },
      "source": [
        "import numpy as np\n",
        "\n",
        "def vectorize_sequences(sequences, dimension=10000):\n",
        "    results = np.zeros((len(sequences), dimension))\n",
        "    for i, sequence in enumerate(sequences):\n",
        "        results[i, sequence] = 1.\n",
        "    return results\n",
        "\n",
        "# 훈련 데이터 벡터 변환\n",
        "x_train = vectorize_sequences(train_data)\n",
        "# 테스트 데이터 벡터 변환\n",
        "x_test = vectorize_sequences(test_data)"
      ],
      "execution_count": 0,
      "outputs": []
    },
    {
      "cell_type": "code",
      "metadata": {
        "id": "BQweT4JAL4_q",
        "colab_type": "code",
        "colab": {}
      },
      "source": [
        "# 위에 대한 케라스 내장 함수가 있음\n",
        "from keras.utils.np_utils import to_categorical\n",
        "\n",
        "one_hot_train_labels = to_categorical(train_labels)\n",
        "one_hot_test_labels = to_categorical(test_labels)"
      ],
      "execution_count": 0,
      "outputs": []
    },
    {
      "cell_type": "code",
      "metadata": {
        "id": "Eh-E4plOMPDC",
        "colab_type": "code",
        "colab": {
          "base_uri": "https://localhost:8080/",
          "height": 142
        },
        "outputId": "46ef7ec7-6b76-4075-9e9d-316667408b4e"
      },
      "source": [
        "#모델 구축\n",
        "\n",
        "from keras import models\n",
        "from keras import layers\n",
        "\n",
        "model = models.Sequential()\n",
        "model.add(layers.Dense(64, activation='relu', input_shape=(10000,)))\n",
        "model.add(layers.Dense(64, activation='relu'))\n",
        "model.add(layers.Dense(46, activation='softmax'))"
      ],
      "execution_count": 9,
      "outputs": [
        {
          "output_type": "stream",
          "text": [
            "WARNING:tensorflow:From /usr/local/lib/python3.6/dist-packages/keras/backend/tensorflow_backend.py:66: The name tf.get_default_graph is deprecated. Please use tf.compat.v1.get_default_graph instead.\n",
            "\n",
            "WARNING:tensorflow:From /usr/local/lib/python3.6/dist-packages/keras/backend/tensorflow_backend.py:541: The name tf.placeholder is deprecated. Please use tf.compat.v1.placeholder instead.\n",
            "\n",
            "WARNING:tensorflow:From /usr/local/lib/python3.6/dist-packages/keras/backend/tensorflow_backend.py:4432: The name tf.random_uniform is deprecated. Please use tf.random.uniform instead.\n",
            "\n"
          ],
          "name": "stdout"
        }
      ]
    },
    {
      "cell_type": "code",
      "metadata": {
        "id": "CZ1Mo_xeMvID",
        "colab_type": "code",
        "colab": {
          "base_uri": "https://localhost:8080/",
          "height": 107
        },
        "outputId": "33fa295b-181b-49d9-caab-f71fe534e50d"
      },
      "source": [
        "model.compile(optimizer='rmsprop',\n",
        "              loss='categorical_crossentropy',\n",
        "              metrics=['accuracy'])"
      ],
      "execution_count": 10,
      "outputs": [
        {
          "output_type": "stream",
          "text": [
            "WARNING:tensorflow:From /usr/local/lib/python3.6/dist-packages/keras/optimizers.py:793: The name tf.train.Optimizer is deprecated. Please use tf.compat.v1.train.Optimizer instead.\n",
            "\n",
            "WARNING:tensorflow:From /usr/local/lib/python3.6/dist-packages/keras/backend/tensorflow_backend.py:3576: The name tf.log is deprecated. Please use tf.math.log instead.\n",
            "\n"
          ],
          "name": "stdout"
        }
      ]
    },
    {
      "cell_type": "code",
      "metadata": {
        "id": "xyl_1EK2NCtZ",
        "colab_type": "code",
        "colab": {}
      },
      "source": [
        "x_val = x_train[:1000]\n",
        "partial_x_train = x_train[1000:]\n",
        "\n",
        "y_val = one_hot_train_labels[:1000]\n",
        "partial_y_train = one_hot_train_labels[1000:]"
      ],
      "execution_count": 0,
      "outputs": []
    },
    {
      "cell_type": "code",
      "metadata": {
        "id": "_XK0Sf0TNRKL",
        "colab_type": "code",
        "outputId": "14a10f44-b761-4b62-d0c2-076c71a9c926",
        "colab": {
          "base_uri": "https://localhost:8080/",
          "height": 1000
        }
      },
      "source": [
        "history = model.fit(partial_x_train,\n",
        "                    partial_y_train,\n",
        "                    epochs=20,\n",
        "                    batch_size=512,\n",
        "                    validation_data=(x_val, y_val))"
      ],
      "execution_count": 12,
      "outputs": [
        {
          "output_type": "stream",
          "text": [
            "WARNING:tensorflow:From /usr/local/lib/python3.6/dist-packages/tensorflow_core/python/ops/math_grad.py:1424: where (from tensorflow.python.ops.array_ops) is deprecated and will be removed in a future version.\n",
            "Instructions for updating:\n",
            "Use tf.where in 2.0, which has the same broadcast rule as np.where\n",
            "WARNING:tensorflow:From /usr/local/lib/python3.6/dist-packages/keras/backend/tensorflow_backend.py:1033: The name tf.assign_add is deprecated. Please use tf.compat.v1.assign_add instead.\n",
            "\n",
            "WARNING:tensorflow:From /usr/local/lib/python3.6/dist-packages/keras/backend/tensorflow_backend.py:1020: The name tf.assign is deprecated. Please use tf.compat.v1.assign instead.\n",
            "\n",
            "WARNING:tensorflow:From /usr/local/lib/python3.6/dist-packages/keras/backend/tensorflow_backend.py:3005: The name tf.Session is deprecated. Please use tf.compat.v1.Session instead.\n",
            "\n",
            "Train on 7982 samples, validate on 1000 samples\n",
            "Epoch 1/20\n",
            "WARNING:tensorflow:From /usr/local/lib/python3.6/dist-packages/keras/backend/tensorflow_backend.py:190: The name tf.get_default_session is deprecated. Please use tf.compat.v1.get_default_session instead.\n",
            "\n",
            "WARNING:tensorflow:From /usr/local/lib/python3.6/dist-packages/keras/backend/tensorflow_backend.py:197: The name tf.ConfigProto is deprecated. Please use tf.compat.v1.ConfigProto instead.\n",
            "\n",
            "WARNING:tensorflow:From /usr/local/lib/python3.6/dist-packages/keras/backend/tensorflow_backend.py:207: The name tf.global_variables is deprecated. Please use tf.compat.v1.global_variables instead.\n",
            "\n",
            "WARNING:tensorflow:From /usr/local/lib/python3.6/dist-packages/keras/backend/tensorflow_backend.py:216: The name tf.is_variable_initialized is deprecated. Please use tf.compat.v1.is_variable_initialized instead.\n",
            "\n",
            "WARNING:tensorflow:From /usr/local/lib/python3.6/dist-packages/keras/backend/tensorflow_backend.py:223: The name tf.variables_initializer is deprecated. Please use tf.compat.v1.variables_initializer instead.\n",
            "\n",
            "7982/7982 [==============================] - 2s 199us/step - loss: 2.5888 - acc: 0.4709 - val_loss: 1.7380 - val_acc: 0.6710\n",
            "Epoch 2/20\n",
            "7982/7982 [==============================] - 1s 116us/step - loss: 1.4064 - acc: 0.7105 - val_loss: 1.3448 - val_acc: 0.7030\n",
            "Epoch 3/20\n",
            "7982/7982 [==============================] - 1s 122us/step - loss: 1.0594 - acc: 0.7732 - val_loss: 1.1990 - val_acc: 0.7350\n",
            "Epoch 4/20\n",
            "7982/7982 [==============================] - 1s 123us/step - loss: 0.8363 - acc: 0.8225 - val_loss: 1.0422 - val_acc: 0.7740\n",
            "Epoch 5/20\n",
            "7982/7982 [==============================] - 1s 122us/step - loss: 0.6607 - acc: 0.8596 - val_loss: 0.9607 - val_acc: 0.8020\n",
            "Epoch 6/20\n",
            "7982/7982 [==============================] - 1s 120us/step - loss: 0.5273 - acc: 0.8890 - val_loss: 0.9266 - val_acc: 0.8040\n",
            "Epoch 7/20\n",
            "7982/7982 [==============================] - 1s 122us/step - loss: 0.4190 - acc: 0.9092 - val_loss: 0.8860 - val_acc: 0.8160\n",
            "Epoch 8/20\n",
            "7982/7982 [==============================] - 1s 124us/step - loss: 0.3415 - acc: 0.9263 - val_loss: 0.9154 - val_acc: 0.8100\n",
            "Epoch 9/20\n",
            "7982/7982 [==============================] - 1s 123us/step - loss: 0.2893 - acc: 0.9370 - val_loss: 0.8781 - val_acc: 0.8170\n",
            "Epoch 10/20\n",
            "7982/7982 [==============================] - 1s 123us/step - loss: 0.2372 - acc: 0.9434 - val_loss: 0.9547 - val_acc: 0.8060\n",
            "Epoch 11/20\n",
            "7982/7982 [==============================] - 1s 124us/step - loss: 0.2107 - acc: 0.9466 - val_loss: 0.9316 - val_acc: 0.8140\n",
            "Epoch 12/20\n",
            "7982/7982 [==============================] - 1s 121us/step - loss: 0.1823 - acc: 0.9504 - val_loss: 0.9343 - val_acc: 0.8170\n",
            "Epoch 13/20\n",
            "7982/7982 [==============================] - 1s 123us/step - loss: 0.1650 - acc: 0.9530 - val_loss: 0.9405 - val_acc: 0.8230\n",
            "Epoch 14/20\n",
            "7982/7982 [==============================] - 1s 125us/step - loss: 0.1562 - acc: 0.9539 - val_loss: 1.0105 - val_acc: 0.8030\n",
            "Epoch 15/20\n",
            "7982/7982 [==============================] - 1s 123us/step - loss: 0.1402 - acc: 0.9555 - val_loss: 0.9982 - val_acc: 0.8170\n",
            "Epoch 16/20\n",
            "7982/7982 [==============================] - 1s 124us/step - loss: 0.1306 - acc: 0.9579 - val_loss: 1.0155 - val_acc: 0.8080\n",
            "Epoch 17/20\n",
            "7982/7982 [==============================] - 1s 118us/step - loss: 0.1295 - acc: 0.9582 - val_loss: 1.0472 - val_acc: 0.8090\n",
            "Epoch 18/20\n",
            "7982/7982 [==============================] - 1s 122us/step - loss: 0.1219 - acc: 0.9579 - val_loss: 1.0360 - val_acc: 0.8080\n",
            "Epoch 19/20\n",
            "7982/7982 [==============================] - 1s 124us/step - loss: 0.1204 - acc: 0.9575 - val_loss: 1.0447 - val_acc: 0.8120\n",
            "Epoch 20/20\n",
            "7982/7982 [==============================] - 1s 124us/step - loss: 0.1167 - acc: 0.9567 - val_loss: 1.0866 - val_acc: 0.8040\n"
          ],
          "name": "stdout"
        }
      ]
    },
    {
      "cell_type": "code",
      "metadata": {
        "id": "_6TvMgRXNX0A",
        "colab_type": "code",
        "outputId": "1588ba82-286d-41bd-fa23-72e708dddf03",
        "colab": {
          "base_uri": "https://localhost:8080/",
          "height": 295
        }
      },
      "source": [
        "# 훈련과 검증 손실 그리기\n",
        "import matplotlib.pyplot as plt\n",
        "\n",
        "loss = history.history['loss']\n",
        "val_loss = history.history['val_loss']\n",
        "\n",
        "epochs = range(1, len(loss) + 1)\n",
        "\n",
        "plt.plot(epochs, loss, 'bo', label='Training loss')\n",
        "plt.plot(epochs, val_loss, 'b', label='Validation loss')\n",
        "plt.title('Training and validation loss')\n",
        "plt.xlabel('Epochs')\n",
        "plt.ylabel('Loss')\n",
        "plt.legend()\n",
        "\n",
        "plt.show()"
      ],
      "execution_count": 13,
      "outputs": [
        {
          "output_type": "display_data",
          "data": {
            "image/png": "[encoded data removed]",
            "text/plain": [
              "<Figure size 432x288 with 1 Axes>"
            ]
          },
          "metadata": {
            "tags": []
          }
        }
      ]
    },
    {
      "cell_type": "code",
      "metadata": {
        "id": "5xB4TUyLN-c9",
        "colab_type": "code",
        "outputId": "1c91bebf-b6f0-4b6e-beb3-8ebace120985",
        "colab": {
          "base_uri": "https://localhost:8080/",
          "height": 295
        }
      },
      "source": [
        "#훈련과 검증 정확도 그리기\n",
        "plt.clf() # 그래프 초기화\n",
        "\n",
        "acc = history.history['acc']\n",
        "val_acc = history.history['val_acc']\n",
        "\n",
        "plt.plot(epochs, acc, 'bo', label='Training acc')\n",
        "plt.plot(epochs, val_acc, 'b', label='Validation acc')\n",
        "plt.title('Training and validation accuracy')\n",
        "plt.xlabel('Epochs')\n",
        "plt.ylabel('Accurach')\n",
        "plt.legend()\n",
        "\n",
        "plt.show()"
      ],
      "execution_count": 14,
      "outputs": [
        {
          "output_type": "display_data",
          "data": {
            "image/png": "[encoded data removed]",
            "text/plain": [
              "<Figure size 432x288 with 1 Axes>"
            ]
          },
          "metadata": {
            "tags": []
          }
        }
      ]
    },
    {
      "cell_type": "code",
      "metadata": {
        "id": "yvh1GXhCQrLD",
        "colab_type": "code",
        "outputId": "a919dca5-6bd9-44bb-f5c8-3a46d36ee5b0",
        "colab": {
          "base_uri": "https://localhost:8080/",
          "height": 369
        }
      },
      "source": [
        "#모델을 처음부터 다시 훈련하기\n",
        "model = models.Sequential()\n",
        "model.add(layers.Dense(64, activation='relu', input_shape=(10000,)))\n",
        "model.add(layers.Dense(64, activation='relu'))\n",
        "model.add(layers.Dense(46, activation='softmax'))\n",
        "\n",
        "model.compile(optimizer='rmsprop',\n",
        "              loss='categorical_crossentropy',\n",
        "              metrics=['accuracy'])\n",
        "\n",
        "model.fit(partial_x_train,\n",
        "          partial_y_train,\n",
        "          epochs=9,\n",
        "          batch_size=512,\n",
        "          validation_data=(x_val, y_val))\n",
        "results = model.evaluate(x_test, one_hot_test_labels)"
      ],
      "execution_count": 15,
      "outputs": [
        {
          "output_type": "stream",
          "text": [
            "Train on 7982 samples, validate on 1000 samples\n",
            "Epoch 1/9\n",
            "7982/7982 [==============================] - 1s 152us/step - loss: 2.5686 - acc: 0.5398 - val_loss: 1.6959 - val_acc: 0.6480\n",
            "Epoch 2/9\n",
            "7982/7982 [==============================] - 1s 123us/step - loss: 1.3866 - acc: 0.7156 - val_loss: 1.2818 - val_acc: 0.7290\n",
            "Epoch 3/9\n",
            "7982/7982 [==============================] - 1s 125us/step - loss: 1.0188 - acc: 0.7875 - val_loss: 1.1036 - val_acc: 0.7680\n",
            "Epoch 4/9\n",
            "7982/7982 [==============================] - 1s 121us/step - loss: 0.8014 - acc: 0.8305 - val_loss: 1.0227 - val_acc: 0.7790\n",
            "Epoch 5/9\n",
            "7982/7982 [==============================] - 1s 126us/step - loss: 0.6395 - acc: 0.8657 - val_loss: 0.9698 - val_acc: 0.8000\n",
            "Epoch 6/9\n",
            "7982/7982 [==============================] - 1s 124us/step - loss: 0.5129 - acc: 0.8931 - val_loss: 0.8928 - val_acc: 0.8140\n",
            "Epoch 7/9\n",
            "7982/7982 [==============================] - 1s 124us/step - loss: 0.4191 - acc: 0.9095 - val_loss: 0.8784 - val_acc: 0.8110\n",
            "Epoch 8/9\n",
            "7982/7982 [==============================] - 1s 126us/step - loss: 0.3445 - acc: 0.9251 - val_loss: 0.8807 - val_acc: 0.8150\n",
            "Epoch 9/9\n",
            "7982/7982 [==============================] - 1s 125us/step - loss: 0.2827 - acc: 0.9382 - val_loss: 0.9329 - val_acc: 0.8040\n",
            "2246/2246 [==============================] - 0s 93us/step\n"
          ],
          "name": "stdout"
        }
      ]
    },
    {
      "cell_type": "code",
      "metadata": {
        "id": "7el5jn-Kee4p",
        "colab_type": "code",
        "outputId": "5ad63960-6694-4123-ca78-19d6fe6286d2",
        "colab": {
          "base_uri": "https://localhost:8080/",
          "height": 34
        }
      },
      "source": [
        "results"
      ],
      "execution_count": 16,
      "outputs": [
        {
          "output_type": "execute_result",
          "data": {
            "text/plain": [
              "[1.054163360213554, 0.7769367765180787]"
            ]
          },
          "metadata": {
            "tags": []
          },
          "execution_count": 16
        }
      ]
    },
    {
      "cell_type": "code",
      "metadata": {
        "id": "ZQ5AoWIogCg2",
        "colab_type": "code",
        "outputId": "cde8f85a-70d7-4ad5-f2c0-d9188f373c9b",
        "colab": {
          "base_uri": "https://localhost:8080/",
          "height": 34
        }
      },
      "source": [
        "#무작위로 데이터를 분류하면 확률이 18%\n",
        "import copy\n",
        "test_labels_copy = copy.copy(test_labels)\n",
        "np.random.shuffle(test_labels_copy)\n",
        "hits_array = np.array(test_labels) == np.array(test_labels_copy)\n",
        "float(np.sum(hits_array)) / len(test_labels)"
      ],
      "execution_count": 17,
      "outputs": [
        {
          "output_type": "execute_result",
          "data": {
            "text/plain": [
              "0.17898486197684774"
            ]
          },
          "metadata": {
            "tags": []
          },
          "execution_count": 17
        }
      ]
    },
    {
      "cell_type": "code",
      "metadata": {
        "id": "SKPSUh9CgmsK",
        "colab_type": "code",
        "colab": {}
      },
      "source": [
        "# 새로운 데이터에 대해 예측하기\n",
        "predictions = model.predict(x_test)"
      ],
      "execution_count": 0,
      "outputs": []
    },
    {
      "cell_type": "code",
      "metadata": {
        "id": "GpjVy5cVhE0B",
        "colab_type": "code",
        "colab": {
          "base_uri": "https://localhost:8080/",
          "height": 34
        },
        "outputId": "f254153a-c23b-4191-b36b-042abbcaa1a2"
      },
      "source": [
        "predictions[0].shape"
      ],
      "execution_count": 19,
      "outputs": [
        {
          "output_type": "execute_result",
          "data": {
            "text/plain": [
              "(46,)"
            ]
          },
          "metadata": {
            "tags": []
          },
          "execution_count": 19
        }
      ]
    },
    {
      "cell_type": "code",
      "metadata": {
        "id": "zDa9jfWEGqhB",
        "colab_type": "code",
        "colab": {
          "base_uri": "https://localhost:8080/",
          "height": 34
        },
        "outputId": "81c7421a-8a4e-4aed-c16a-b538267f73b5"
      },
      "source": [
        "np.sum(predictions[0])"
      ],
      "execution_count": 20,
      "outputs": [
        {
          "output_type": "execute_result",
          "data": {
            "text/plain": [
              "1.0000001"
            ]
          },
          "metadata": {
            "tags": []
          },
          "execution_count": 20
        }
      ]
    },
    {
      "cell_type": "code",
      "metadata": {
        "id": "R8F6hDbVGsng",
        "colab_type": "code",
        "colab": {
          "base_uri": "https://localhost:8080/",
          "height": 34
        },
        "outputId": "60bfd9f1-1e54-44b4-ac2b-99208c718763"
      },
      "source": [
        "np.argmax(predictions[0])"
      ],
      "execution_count": 22,
      "outputs": [
        {
          "output_type": "execute_result",
          "data": {
            "text/plain": [
              "4"
            ]
          },
          "metadata": {
            "tags": []
          },
          "execution_count": 22
        }
      ]
    },
    {
      "cell_type": "code",
      "metadata": {
        "id": "DjIO9z_DG087",
        "colab_type": "code",
        "colab": {}
      },
      "source": [
        "# 레이블과 손실을 다루는 방법"
      ],
      "execution_count": 0,
      "outputs": []
    }
  ]
}