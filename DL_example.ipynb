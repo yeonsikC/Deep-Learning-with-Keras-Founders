{
  "nbformat": 4,
  "nbformat_minor": 0,
  "metadata": {
    "colab": {
      "name": "DL_example.ipynb",
      "provenance": [],
      "collapsed_sections": [
        "Pt1u953cGHif",
        "f4jAx0hXPnoF",
        "7orslFIK63y0",
        "Lh3o7scG6-5G",
        "LdSd_IYuGCVI",
        "wc33zMrQGZhw"
      ],
      "toc_visible": true,
      "authorship_tag": "ABX9TyPJQqPZ8cnbj9kbq20VsFlu",
      "include_colab_link": true
    },
    "kernelspec": {
      "name": "python3",
      "display_name": "Python 3"
    },
    "accelerator": "GPU"
  },
  "cells": [
    {
      "cell_type": "markdown",
      "metadata": {
        "id": "view-in-github",
        "colab_type": "text"
      },
      "source": [
        "<a href=\"https://colab.research.google.com/github/yeonsikC/Deep-Learning-with-Keras-Founders/blob/master/DL_example.ipynb\" target=\"_parent\"><img src=\"https://colab.research.google.com/assets/colab-badge.svg\" alt=\"Open In Colab\"/></a>"
      ]
    },
    {
      "cell_type": "markdown",
      "metadata": {
        "id": "Pt1u953cGHif",
        "colab_type": "text"
      },
      "source": [
        "# 케라스 실습 시작"
      ]
    },
    {
      "cell_type": "code",
      "metadata": {
        "id": "LhbYx7D6NRo0",
        "colab_type": "code",
        "outputId": "cd257c73-56d1-4106-e475-f6f26d8fb33b",
        "colab": {
          "base_uri": "https://localhost:8080/",
          "height": 190
        }
      },
      "source": [
        "from keras import models\n",
        "from keras import layers\n",
        "\n",
        "# Sequential형\n",
        "model = models.Sequential()\n",
        "model.add(layers.Dense(32, activation = 'relu', input_shape=(784,)))\n",
        "model.add(layers.Dense(10, activation = 'softmax'))"
      ],
      "execution_count": 0,
      "outputs": [
        {
          "output_type": "stream",
          "text": [
            "Using TensorFlow backend.\n"
          ],
          "name": "stderr"
        },
        {
          "output_type": "display_data",
          "data": {
            "text/html": [
              "<p style=\"color: red;\">\n",
              "The default version of TensorFlow in Colab will soon switch to TensorFlow 2.x.<br>\n",
              "We recommend you <a href=\"https://www.tensorflow.org/guide/migrate\" target=\"_blank\">upgrade</a> now \n",
              "or ensure your notebook will continue to use TensorFlow 1.x via the <code>%tensorflow_version 1.x</code> magic:\n",
              "<a href=\"https://colab.research.google.com/notebooks/tensorflow_version.ipynb\" target=\"_blank\">more info</a>.</p>\n"
            ],
            "text/plain": [
              "<IPython.core.display.HTML object>"
            ]
          },
          "metadata": {
            "tags": []
          }
        },
        {
          "output_type": "stream",
          "text": [
            "WARNING:tensorflow:From /usr/local/lib/python3.6/dist-packages/keras/backend/tensorflow_backend.py:66: The name tf.get_default_graph is deprecated. Please use tf.compat.v1.get_default_graph instead.\n",
            "\n",
            "WARNING:tensorflow:From /usr/local/lib/python3.6/dist-packages/keras/backend/tensorflow_backend.py:541: The name tf.placeholder is deprecated. Please use tf.compat.v1.placeholder instead.\n",
            "\n",
            "WARNING:tensorflow:From /usr/local/lib/python3.6/dist-packages/keras/backend/tensorflow_backend.py:4432: The name tf.random_uniform is deprecated. Please use tf.random.uniform instead.\n",
            "\n"
          ],
          "name": "stdout"
        }
      ]
    },
    {
      "cell_type": "code",
      "metadata": {
        "id": "rKItwha3OTI6",
        "colab_type": "code",
        "colab": {}
      },
      "source": [
        "# 함수형\n",
        "input_tensor = layers.Input(shape=(784,))\n",
        "x = layers.Dense(32, activation='relu')(input_tensor)\n",
        "output_tensor = layers.Dense(10, activation = 'softmax')(x)\n",
        "\n",
        "model = models.Model(inputs = input_tensor, outputs = output_tensor)"
      ],
      "execution_count": 0,
      "outputs": []
    },
    {
      "cell_type": "code",
      "metadata": {
        "id": "uv1V2QdbOx_K",
        "colab_type": "code",
        "colab": {}
      },
      "source": [
        "# from keras import optimizers\n",
        "# model.compile(optimizer=optimizers.RMSprop(lr=0.001),\n",
        "#               loss='mse',\n",
        "#               metrics=['accuracy'])\n",
        "# model.fit(input_tensor, output_tensor, batch_size=128, epochs=10)"
      ],
      "execution_count": 0,
      "outputs": []
    },
    {
      "cell_type": "markdown",
      "metadata": {
        "id": "f4jAx0hXPnoF",
        "colab_type": "text"
      },
      "source": [
        "# 영화 리뷰 분류 : 이진 분류 예제"
      ]
    },
    {
      "cell_type": "code",
      "metadata": {
        "id": "6iWNRPAoPp9u",
        "colab_type": "code",
        "outputId": "508ee293-c696-4538-f9ba-ca116e4c8be3",
        "colab": {
          "base_uri": "https://localhost:8080/",
          "height": 53
        }
      },
      "source": [
        "from keras.datasets import imdb\n",
        "(train_data, train_labels), (test_data, test_labels) = imdb.load_data(num_words=10000)"
      ],
      "execution_count": 0,
      "outputs": [
        {
          "output_type": "stream",
          "text": [
            "Downloading data from https://s3.amazonaws.com/text-datasets/imdb.npz\n",
            "17465344/17464789 [==============================] - 1s 0us/step\n"
          ],
          "name": "stdout"
        }
      ]
    },
    {
      "cell_type": "code",
      "metadata": {
        "id": "TvojgwfxPzMm",
        "colab_type": "code",
        "outputId": "5fd1b357-107b-4c0c-9964-77e94229e3ed",
        "colab": {
          "base_uri": "https://localhost:8080/",
          "height": 35
        }
      },
      "source": [
        "train_data[0][:5]"
      ],
      "execution_count": 0,
      "outputs": [
        {
          "output_type": "execute_result",
          "data": {
            "text/plain": [
              "[1, 14, 22, 16, 43]"
            ]
          },
          "metadata": {
            "tags": []
          },
          "execution_count": 10
        }
      ]
    },
    {
      "cell_type": "code",
      "metadata": {
        "id": "Qz-SQB58QBwP",
        "colab_type": "code",
        "outputId": "3e6a4918-890f-4473-c193-f94a4371dba8",
        "colab": {
          "base_uri": "https://localhost:8080/",
          "height": 35
        }
      },
      "source": [
        "train_labels[0]"
      ],
      "execution_count": 0,
      "outputs": [
        {
          "output_type": "execute_result",
          "data": {
            "text/plain": [
              "1"
            ]
          },
          "metadata": {
            "tags": []
          },
          "execution_count": 12
        }
      ]
    },
    {
      "cell_type": "code",
      "metadata": {
        "id": "cWvSKRf7QJQo",
        "colab_type": "code",
        "outputId": "dfeedc67-f673-4e6a-8c70-1a85c688b46e",
        "colab": {
          "base_uri": "https://localhost:8080/",
          "height": 35
        }
      },
      "source": [
        "max([max(sequence) for sequence in train_data])"
      ],
      "execution_count": 0,
      "outputs": [
        {
          "output_type": "execute_result",
          "data": {
            "text/plain": [
              "9999"
            ]
          },
          "metadata": {
            "tags": []
          },
          "execution_count": 13
        }
      ]
    },
    {
      "cell_type": "code",
      "metadata": {
        "id": "sRFJZwFFQOp0",
        "colab_type": "code",
        "outputId": "5cdecad2-51b7-4fbb-f43e-5f4d0f687d72",
        "colab": {
          "base_uri": "https://localhost:8080/",
          "height": 53
        }
      },
      "source": [
        "# 숫자를 단어로 매핑\n",
        "word_index = imdb.get_word_index() # word_index = BOW\n",
        "reverse_word_index = dict(\n",
        "    [(value, key) for (key, value) in word_index.items()])\n",
        "decoded_review = ' '.join(\n",
        "    [reverse_word_index.get(i - 3, '?') for i in train_data[0]]) # '?'가 뭐지?? "
      ],
      "execution_count": 0,
      "outputs": [
        {
          "output_type": "stream",
          "text": [
            "Downloading data from https://s3.amazonaws.com/text-datasets/imdb_word_index.json\n",
            "1646592/1641221 [==============================] - 0s 0us/step\n"
          ],
          "name": "stdout"
        }
      ]
    },
    {
      "cell_type": "code",
      "metadata": {
        "id": "2brOZe0MUtoS",
        "colab_type": "code",
        "colab": {}
      },
      "source": [
        "# 데이터 준비 , 리스트 -> 텐서\n",
        "# 정수 시퀀스를 이진 행렬로 인코딩하기\n",
        "\n",
        "import numpy as np\n",
        "\n",
        "def vectorize_sequences(sequences, dimension=10000):\n",
        "  results = np.zeros((len(sequences), dimension))\n",
        "  for i, sequence in enumerate(sequences):\n",
        "    results[i, sequence] = 1.\n",
        "  return results\n",
        "\n",
        "x_train = vectorize_sequences(train_data) #훈련데이터를 벡터화\n",
        "x_test = vectorize_sequences(test_data) #테스트데이터를 벡터화"
      ],
      "execution_count": 0,
      "outputs": []
    },
    {
      "cell_type": "code",
      "metadata": {
        "id": "ItbJIWTPV94F",
        "colab_type": "code",
        "outputId": "f15717c6-cd61-4bad-d9b0-09fdbac1eda5",
        "colab": {
          "base_uri": "https://localhost:8080/",
          "height": 35
        }
      },
      "source": [
        "x_train[0]"
      ],
      "execution_count": 0,
      "outputs": [
        {
          "output_type": "execute_result",
          "data": {
            "text/plain": [
              "array([0., 1., 1., ..., 0., 0., 0.])"
            ]
          },
          "metadata": {
            "tags": []
          },
          "execution_count": 16
        }
      ]
    },
    {
      "cell_type": "code",
      "metadata": {
        "id": "f_fWryfTWHMT",
        "colab_type": "code",
        "colab": {}
      },
      "source": [
        "y_train = np.asarray(train_labels).astype('float32')\n",
        "y_test = np.asarray(test_labels).astype('float32')"
      ],
      "execution_count": 0,
      "outputs": []
    },
    {
      "cell_type": "code",
      "metadata": {
        "id": "FyCQkGN2WRik",
        "colab_type": "code",
        "colab": {}
      },
      "source": [
        "#신경망 모델 만들기\n",
        "# relu 활성화 함수는 딥러닝에서 가장 인기 있는 활성화 함수\n",
        "from keras import models\n",
        "from keras import layers\n",
        "model = models.Sequential()\n",
        "model.add(layers.Dense(16, activation = 'relu', input_shape=(10000,)))\n",
        "model.add(layers.Dense(16, activation = 'relu'))\n",
        "model.add(layers.Dense(1, activation = 'sigmoid'))"
      ],
      "execution_count": 0,
      "outputs": []
    },
    {
      "cell_type": "code",
      "metadata": {
        "id": "Alf5BoGVXjUg",
        "colab_type": "code",
        "outputId": "ecb13e04-741c-4dc9-f2a5-635e19c7ba7a",
        "colab": {
          "base_uri": "https://localhost:8080/",
          "height": 107
        }
      },
      "source": [
        "# binary-crossentropy : 이진 분류 문제, 신경망의 출력이 확률이기 때문에 손실함수로 적합, mean_squared_error도 있음(mse)\n",
        "# 확률을 출력하는 모델을 사용할 때는 크로스엔트로피가 최선의 선택이다.\n",
        "# 크로스엔트로피 : 확률 분포 간의 차이를 측정한다. (원본분포와 예측분포 사이를 측정)\n",
        "# 모델 컴파일하기\n",
        "\n",
        "model.compile(optimizer='rmsprop', # optimizers.RMSprop(lr=0.001) 처럼 매개변수를 지정할 때 사용\n",
        "              loss = 'binary_crossentropy',\n",
        "              metrics = ['accuracy'])"
      ],
      "execution_count": 0,
      "outputs": [
        {
          "output_type": "stream",
          "text": [
            "WARNING:tensorflow:From /usr/local/lib/python3.6/dist-packages/keras/backend/tensorflow_backend.py:3657: The name tf.log is deprecated. Please use tf.math.log instead.\n",
            "\n",
            "WARNING:tensorflow:From /usr/local/lib/python3.6/dist-packages/tensorflow_core/python/ops/nn_impl.py:183: where (from tensorflow.python.ops.array_ops) is deprecated and will be removed in a future version.\n",
            "Instructions for updating:\n",
            "Use tf.where in 2.0, which has the same broadcast rule as np.where\n"
          ],
          "name": "stdout"
        }
      ]
    },
    {
      "cell_type": "code",
      "metadata": {
        "id": "cs51Ye6VY01W",
        "colab_type": "code",
        "colab": {}
      },
      "source": [
        "x_val = x_train[:10000]\n",
        "partial_x_train = x_train[10000:]\n",
        "y_val = y_train[:10000]\n",
        "partial_y_train = y_train[10000:]"
      ],
      "execution_count": 0,
      "outputs": []
    },
    {
      "cell_type": "code",
      "metadata": {
        "id": "zZDqUy7ZZliC",
        "colab_type": "code",
        "outputId": "3fa882ab-a2c8-4e32-84e2-9e723e31ab2b",
        "colab": {
          "base_uri": "https://localhost:8080/",
          "height": 1000
        }
      },
      "source": [
        "model.compile(optimizer='rmsprop',\n",
        "              loss='binary_crossentropy',\n",
        "              metrics=['acc'])\n",
        "\n",
        "# model.fit은 History 객체를 반환함\n",
        "history = model.fit(partial_x_train,\n",
        "                    partial_y_train,\n",
        "                    epochs=20,\n",
        "                    batch_size=512,\n",
        "                    validation_data=(x_val, y_val))"
      ],
      "execution_count": 0,
      "outputs": [
        {
          "output_type": "stream",
          "text": [
            "WARNING:tensorflow:From /usr/local/lib/python3.6/dist-packages/keras/backend/tensorflow_backend.py:1033: The name tf.assign_add is deprecated. Please use tf.compat.v1.assign_add instead.\n",
            "\n",
            "WARNING:tensorflow:From /usr/local/lib/python3.6/dist-packages/keras/backend/tensorflow_backend.py:1020: The name tf.assign is deprecated. Please use tf.compat.v1.assign instead.\n",
            "\n",
            "WARNING:tensorflow:From /usr/local/lib/python3.6/dist-packages/keras/backend/tensorflow_backend.py:3005: The name tf.Session is deprecated. Please use tf.compat.v1.Session instead.\n",
            "\n",
            "Train on 15000 samples, validate on 10000 samples\n",
            "Epoch 1/20\n",
            "WARNING:tensorflow:From /usr/local/lib/python3.6/dist-packages/keras/backend/tensorflow_backend.py:190: The name tf.get_default_session is deprecated. Please use tf.compat.v1.get_default_session instead.\n",
            "\n",
            "WARNING:tensorflow:From /usr/local/lib/python3.6/dist-packages/keras/backend/tensorflow_backend.py:197: The name tf.ConfigProto is deprecated. Please use tf.compat.v1.ConfigProto instead.\n",
            "\n",
            "WARNING:tensorflow:From /usr/local/lib/python3.6/dist-packages/keras/backend/tensorflow_backend.py:207: The name tf.global_variables is deprecated. Please use tf.compat.v1.global_variables instead.\n",
            "\n",
            "WARNING:tensorflow:From /usr/local/lib/python3.6/dist-packages/keras/backend/tensorflow_backend.py:216: The name tf.is_variable_initialized is deprecated. Please use tf.compat.v1.is_variable_initialized instead.\n",
            "\n",
            "WARNING:tensorflow:From /usr/local/lib/python3.6/dist-packages/keras/backend/tensorflow_backend.py:223: The name tf.variables_initializer is deprecated. Please use tf.compat.v1.variables_initializer instead.\n",
            "\n",
            "15000/15000 [==============================] - 2s 143us/step - loss: 0.5088 - acc: 0.7844 - val_loss: 0.3847 - val_acc: 0.8642\n",
            "Epoch 2/20\n",
            "15000/15000 [==============================] - 1s 97us/step - loss: 0.2993 - acc: 0.9062 - val_loss: 0.3410 - val_acc: 0.8591\n",
            "Epoch 3/20\n",
            "15000/15000 [==============================] - 1s 96us/step - loss: 0.2207 - acc: 0.9260 - val_loss: 0.2767 - val_acc: 0.8915\n",
            "Epoch 4/20\n",
            "15000/15000 [==============================] - 1s 96us/step - loss: 0.1736 - acc: 0.9438 - val_loss: 0.2797 - val_acc: 0.8877\n",
            "Epoch 5/20\n",
            "15000/15000 [==============================] - 1s 98us/step - loss: 0.1407 - acc: 0.9563 - val_loss: 0.2817 - val_acc: 0.8874\n",
            "Epoch 6/20\n",
            "15000/15000 [==============================] - 1s 96us/step - loss: 0.1163 - acc: 0.9633 - val_loss: 0.2937 - val_acc: 0.8856\n",
            "Epoch 7/20\n",
            "15000/15000 [==============================] - 1s 95us/step - loss: 0.0975 - acc: 0.9714 - val_loss: 0.3229 - val_acc: 0.8773\n",
            "Epoch 8/20\n",
            "15000/15000 [==============================] - 1s 96us/step - loss: 0.0797 - acc: 0.9761 - val_loss: 0.3308 - val_acc: 0.8815\n",
            "Epoch 9/20\n",
            "15000/15000 [==============================] - 1s 98us/step - loss: 0.0662 - acc: 0.9815 - val_loss: 0.3538 - val_acc: 0.8798\n",
            "Epoch 10/20\n",
            "15000/15000 [==============================] - 2s 100us/step - loss: 0.0546 - acc: 0.9852 - val_loss: 0.3866 - val_acc: 0.8769\n",
            "Epoch 11/20\n",
            "15000/15000 [==============================] - 1s 99us/step - loss: 0.0447 - acc: 0.9888 - val_loss: 0.4061 - val_acc: 0.8770\n",
            "Epoch 12/20\n",
            "15000/15000 [==============================] - 1s 98us/step - loss: 0.0338 - acc: 0.9937 - val_loss: 0.4903 - val_acc: 0.8646\n",
            "Epoch 13/20\n",
            "15000/15000 [==============================] - 1s 97us/step - loss: 0.0310 - acc: 0.9933 - val_loss: 0.4604 - val_acc: 0.8730\n",
            "Epoch 14/20\n",
            "15000/15000 [==============================] - 1s 96us/step - loss: 0.0246 - acc: 0.9946 - val_loss: 0.4935 - val_acc: 0.8702\n",
            "Epoch 15/20\n",
            "15000/15000 [==============================] - 1s 95us/step - loss: 0.0167 - acc: 0.9981 - val_loss: 0.5355 - val_acc: 0.8693\n",
            "Epoch 16/20\n",
            "15000/15000 [==============================] - 1s 97us/step - loss: 0.0155 - acc: 0.9975 - val_loss: 0.5484 - val_acc: 0.8687\n",
            "Epoch 17/20\n",
            "15000/15000 [==============================] - 1s 97us/step - loss: 0.0138 - acc: 0.9975 - val_loss: 0.5765 - val_acc: 0.8675\n",
            "Epoch 18/20\n",
            "15000/15000 [==============================] - 1s 97us/step - loss: 0.0072 - acc: 0.9998 - val_loss: 0.6740 - val_acc: 0.8569\n",
            "Epoch 19/20\n",
            "15000/15000 [==============================] - 1s 99us/step - loss: 0.0098 - acc: 0.9984 - val_loss: 0.6379 - val_acc: 0.8673\n",
            "Epoch 20/20\n",
            "15000/15000 [==============================] - 1s 96us/step - loss: 0.0053 - acc: 0.9996 - val_loss: 0.6794 - val_acc: 0.8655\n"
          ],
          "name": "stdout"
        }
      ]
    },
    {
      "cell_type": "code",
      "metadata": {
        "id": "zLkUsK3CcmFs",
        "colab_type": "code",
        "outputId": "fdd73e9e-5688-4c31-a969-cbbb1123b64f",
        "colab": {
          "base_uri": "https://localhost:8080/",
          "height": 295
        }
      },
      "source": [
        "import matplotlib.pyplot as plt\n",
        "\n",
        "history_dict = history.history\n",
        "loss = history_dict['loss']\n",
        "val_loss = history_dict['val_loss']\n",
        "\n",
        "epochs = range(1, len(loss) + 1)\n",
        "\n",
        "plt.plot(epochs, loss, 'bo', label = 'Training loss') # bo는 파란색 점을 의미\n",
        "plt.plot(epochs, val_loss, 'b', label = 'Validation loss') # b는 파란색 실선을 의미\n",
        "plt.title('Training and validation loss')\n",
        "plt.xlabel('Epochs')\n",
        "plt.ylabel('Loss')\n",
        "plt.legend()\n",
        "\n",
        "plt.show()"
      ],
      "execution_count": 0,
      "outputs": [
        {
          "output_type": "display_data",
          "data": {
            "image/png": "[encoded data removed]",
            "text/plain": [
              "<Figure size 432x288 with 1 Axes>"
            ]
          },
          "metadata": {
            "tags": []
          }
        }
      ]
    },
    {
      "cell_type": "code",
      "metadata": {
        "id": "3xidHYUDdaj3",
        "colab_type": "code",
        "outputId": "eba58712-fefb-48e9-d968-0d874610c606",
        "colab": {
          "base_uri": "https://localhost:8080/",
          "height": 295
        }
      },
      "source": [
        "plt.clf() # 그래프를 초기화한다.\n",
        "acc = history_dict['acc']\n",
        "val_acc = history_dict['val_acc']\n",
        "\n",
        "plt.plot(epochs, acc, 'bo', label='Training acc')\n",
        "plt.plot(epochs, val_acc, 'b', label='Validation acc')\n",
        "plt.title('Training and validation accuracy')\n",
        "plt.xlabel('Epochs')\n",
        "plt.ylabel('Accuracy')\n",
        "plt.legend()\n",
        "\n",
        "plt.show()"
      ],
      "execution_count": 0,
      "outputs": [
        {
          "output_type": "display_data",
          "data": {
            "image/png": "[encoded data removed]",
            "text/plain": [
              "<Figure size 432x288 with 1 Axes>"
            ]
          },
          "metadata": {
            "tags": []
          }
        }
      ]
    },
    {
      "cell_type": "code",
      "metadata": {
        "id": "O5OF-Biv4Wy8",
        "colab_type": "code",
        "outputId": "f6152057-5e9f-4c41-b6d5-71bbe56a075c",
        "colab": {
          "base_uri": "https://localhost:8080/",
          "height": 179
        }
      },
      "source": [
        "model = models.Sequential()\n",
        "model.add(layers.Dense(16, activation = 'relu', input_shape=(10000,)))\n",
        "model.add(layers.Dense(16, activation='relu'))\n",
        "model.add(layers.Dense(1, activation='sigmoid'))\n",
        "\n",
        "model.compile(optimizer='rmsprop',\n",
        "              loss='binary_crossentropy',\n",
        "              metrics=['accuracy'])\n",
        "\n",
        "model.fit(x_train, y_train, epochs=4, batch_size=512)\n",
        "results = model.evaluate(x_test, y_test)"
      ],
      "execution_count": 0,
      "outputs": [
        {
          "output_type": "stream",
          "text": [
            "Epoch 1/4\n",
            "25000/25000 [==============================] - 2s 93us/step - loss: 0.4433 - acc: 0.8281\n",
            "Epoch 2/4\n",
            "25000/25000 [==============================] - 2s 76us/step - loss: 0.2621 - acc: 0.9089\n",
            "Epoch 3/4\n",
            "25000/25000 [==============================] - 2s 74us/step - loss: 0.2017 - acc: 0.9290\n",
            "Epoch 4/4\n",
            "25000/25000 [==============================] - 2s 73us/step - loss: 0.1687 - acc: 0.9413\n",
            "25000/25000 [==============================] - 2s 85us/step\n"
          ],
          "name": "stdout"
        }
      ]
    },
    {
      "cell_type": "code",
      "metadata": {
        "id": "BWl88Qux5P5I",
        "colab_type": "code",
        "outputId": "2a72f1d9-0bac-47e7-c989-c02746e82a0d",
        "colab": {
          "base_uri": "https://localhost:8080/",
          "height": 53
        }
      },
      "source": [
        "model.evaluate(x_test, y_test)"
      ],
      "execution_count": 0,
      "outputs": [
        {
          "output_type": "stream",
          "text": [
            "25000/25000 [==============================] - 2s 78us/step\n"
          ],
          "name": "stdout"
        },
        {
          "output_type": "execute_result",
          "data": {
            "text/plain": [
              "[0.2901100524044037, 0.88504]"
            ]
          },
          "metadata": {
            "tags": []
          },
          "execution_count": 47
        }
      ]
    },
    {
      "cell_type": "code",
      "metadata": {
        "id": "x5sWRfJW5_aX",
        "colab_type": "code",
        "outputId": "75f7b9aa-1dc0-4559-be81-2a1b97949220",
        "colab": {
          "base_uri": "https://localhost:8080/",
          "height": 143
        }
      },
      "source": [
        "model.predict(x_test)"
      ],
      "execution_count": 0,
      "outputs": [
        {
          "output_type": "execute_result",
          "data": {
            "text/plain": [
              "array([[0.20408407],\n",
              "       [0.9999223 ],\n",
              "       [0.84951836],\n",
              "       ...,\n",
              "       [0.11066487],\n",
              "       [0.07177949],\n",
              "       [0.67150974]], dtype=float32)"
            ]
          },
          "metadata": {
            "tags": []
          },
          "execution_count": 46
        }
      ]
    },
    {
      "cell_type": "markdown",
      "metadata": {
        "id": "7orslFIK63y0",
        "colab_type": "text"
      },
      "source": [
        "# layer을 2에서 1로 줄여보자!"
      ]
    },
    {
      "cell_type": "code",
      "metadata": {
        "colab_type": "code",
        "outputId": "f2ad3578-50bc-4d36-ba26-d64515295598",
        "id": "ZE-b8AoU6oJQ",
        "colab": {
          "base_uri": "https://localhost:8080/",
          "height": 179
        }
      },
      "source": [
        "model = models.Sequential()\n",
        "model.add(layers.Dense(16, activation = 'relu', input_shape=(10000,)))\n",
        "model.add(layers.Dense(1, activation='sigmoid'))\n",
        "\n",
        "model.compile(optimizer='rmsprop',\n",
        "              loss='binary_crossentropy',\n",
        "              metrics=['accuracy'])\n",
        "\n",
        "model.fit(x_train, y_train, epochs=4, batch_size=512)\n",
        "results = model.evaluate(x_test, y_test)"
      ],
      "execution_count": 0,
      "outputs": [
        {
          "output_type": "stream",
          "text": [
            "Epoch 1/4\n",
            "25000/25000 [==============================] - 2s 98us/step - loss: 0.4531 - acc: 0.8261\n",
            "Epoch 2/4\n",
            "25000/25000 [==============================] - 2s 74us/step - loss: 0.2800 - acc: 0.9076\n",
            "Epoch 3/4\n",
            "25000/25000 [==============================] - 2s 74us/step - loss: 0.2224 - acc: 0.9236\n",
            "Epoch 4/4\n",
            "25000/25000 [==============================] - 2s 73us/step - loss: 0.1891 - acc: 0.9359\n",
            "25000/25000 [==============================] - 2s 77us/step\n"
          ],
          "name": "stdout"
        }
      ]
    },
    {
      "cell_type": "code",
      "metadata": {
        "id": "UKrS-OHT6znA",
        "colab_type": "code",
        "outputId": "9d78780c-0555-4c8c-b5be-dcce1866dcc1",
        "colab": {
          "base_uri": "https://localhost:8080/",
          "height": 53
        }
      },
      "source": [
        "model.evaluate(x_test, y_test)"
      ],
      "execution_count": 0,
      "outputs": [
        {
          "output_type": "stream",
          "text": [
            "25000/25000 [==============================] - 2s 72us/step\n"
          ],
          "name": "stdout"
        },
        {
          "output_type": "execute_result",
          "data": {
            "text/plain": [
              "[0.2796249929714203, 0.88804]"
            ]
          },
          "metadata": {
            "tags": []
          },
          "execution_count": 49
        }
      ]
    },
    {
      "cell_type": "code",
      "metadata": {
        "id": "2CqcPM7S6z76",
        "colab_type": "code",
        "outputId": "b749bc7d-531f-4683-b9de-df1815db8d0f",
        "colab": {
          "base_uri": "https://localhost:8080/",
          "height": 143
        }
      },
      "source": [
        "model.predict(x_test)"
      ],
      "execution_count": 0,
      "outputs": [
        {
          "output_type": "execute_result",
          "data": {
            "text/plain": [
              "array([[0.234321  ],\n",
              "       [0.9990938 ],\n",
              "       [0.8895353 ],\n",
              "       ...,\n",
              "       [0.1448287 ],\n",
              "       [0.10541713],\n",
              "       [0.50418824]], dtype=float32)"
            ]
          },
          "metadata": {
            "tags": []
          },
          "execution_count": 50
        }
      ]
    },
    {
      "cell_type": "markdown",
      "metadata": {
        "colab_type": "text",
        "id": "Lh3o7scG6-5G"
      },
      "source": [
        "# layer을 2에서 3으로 늘려보자!"
      ]
    },
    {
      "cell_type": "code",
      "metadata": {
        "colab_type": "code",
        "outputId": "6098653c-2dcd-4d33-9849-0f072206a49b",
        "id": "-xtBhB1i6-5N",
        "colab": {
          "base_uri": "https://localhost:8080/",
          "height": 179
        }
      },
      "source": [
        "model = models.Sequential()\n",
        "model.add(layers.Dense(16, activation = 'relu', input_shape=(10000,)))\n",
        "model.add(layers.Dense(16, activation = 'relu'))\n",
        "model.add(layers.Dense(16, activation = 'relu'))\n",
        "model.add(layers.Dense(1, activation='sigmoid'))\n",
        "\n",
        "model.compile(optimizer='rmsprop',\n",
        "              loss='binary_crossentropy',\n",
        "              metrics=['accuracy'])\n",
        "\n",
        "model.fit(x_train, y_train, epochs=4, batch_size=512)\n",
        "results = model.evaluate(x_test, y_test)"
      ],
      "execution_count": 0,
      "outputs": [
        {
          "output_type": "stream",
          "text": [
            "Epoch 1/4\n",
            "25000/25000 [==============================] - 2s 96us/step - loss: 0.4405 - acc: 0.8152\n",
            "Epoch 2/4\n",
            "25000/25000 [==============================] - 2s 73us/step - loss: 0.2507 - acc: 0.9084\n",
            "Epoch 3/4\n",
            "25000/25000 [==============================] - 2s 74us/step - loss: 0.1946 - acc: 0.9279\n",
            "Epoch 4/4\n",
            "25000/25000 [==============================] - 2s 75us/step - loss: 0.1664 - acc: 0.9394\n",
            "25000/25000 [==============================] - 2s 78us/step\n"
          ],
          "name": "stdout"
        }
      ]
    },
    {
      "cell_type": "code",
      "metadata": {
        "colab_type": "code",
        "id": "1neDEebx6-5T",
        "outputId": "17670090-f3a6-4cf3-8fa5-b4f6bcffc7b3",
        "colab": {
          "base_uri": "https://localhost:8080/",
          "height": 53
        }
      },
      "source": [
        "model.evaluate(x_test, y_test)"
      ],
      "execution_count": 0,
      "outputs": [
        {
          "output_type": "stream",
          "text": [
            "25000/25000 [==============================] - 2s 70us/step\n"
          ],
          "name": "stdout"
        },
        {
          "output_type": "execute_result",
          "data": {
            "text/plain": [
              "[0.31183319145202637, 0.87968]"
            ]
          },
          "metadata": {
            "tags": []
          },
          "execution_count": 52
        }
      ]
    },
    {
      "cell_type": "code",
      "metadata": {
        "colab_type": "code",
        "id": "oSsn4XQc6-5W",
        "outputId": "42af57c1-d18e-4f76-f88b-b34fc04bb75b",
        "colab": {
          "base_uri": "https://localhost:8080/",
          "height": 143
        }
      },
      "source": [
        "model.predict(x_test)"
      ],
      "execution_count": 0,
      "outputs": [
        {
          "output_type": "execute_result",
          "data": {
            "text/plain": [
              "array([[0.20209426],\n",
              "       [0.9999729 ],\n",
              "       [0.9700789 ],\n",
              "       ...,\n",
              "       [0.13471362],\n",
              "       [0.08202022],\n",
              "       [0.78395885]], dtype=float32)"
            ]
          },
          "metadata": {
            "tags": []
          },
          "execution_count": 53
        }
      ]
    },
    {
      "cell_type": "markdown",
      "metadata": {
        "id": "LdSd_IYuGCVI",
        "colab_type": "text"
      },
      "source": [
        "# 레이어 2, 유닛 수 32개"
      ]
    },
    {
      "cell_type": "code",
      "metadata": {
        "colab_type": "code",
        "outputId": "97354353-e985-4906-bb0c-9d4c7b7a11b9",
        "id": "1XztPcg5F-wV",
        "colab": {
          "base_uri": "https://localhost:8080/",
          "height": 179
        }
      },
      "source": [
        "model = models.Sequential()\n",
        "model.add(layers.Dense(32, activation = 'relu', input_shape=(10000,)))\n",
        "model.add(layers.Dense(32, activation = 'relu'))\n",
        "model.add(layers.Dense(1, activation='sigmoid'))\n",
        "\n",
        "model.compile(optimizer='rmsprop',\n",
        "              loss='binary_crossentropy',\n",
        "              metrics=['accuracy'])\n",
        "\n",
        "model.fit(x_train, y_train, epochs=4, batch_size=512)\n",
        "results = model.evaluate(x_test, y_test)"
      ],
      "execution_count": 0,
      "outputs": [
        {
          "output_type": "stream",
          "text": [
            "Epoch 1/4\n",
            "25000/25000 [==============================] - 4s 164us/step - loss: 0.4203 - acc: 0.8190\n",
            "Epoch 2/4\n",
            "25000/25000 [==============================] - 2s 89us/step - loss: 0.2403 - acc: 0.9098\n",
            "Epoch 3/4\n",
            "25000/25000 [==============================] - 2s 85us/step - loss: 0.1901 - acc: 0.9301\n",
            "Epoch 4/4\n",
            "25000/25000 [==============================] - 2s 86us/step - loss: 0.1595 - acc: 0.9413\n",
            "25000/25000 [==============================] - 4s 152us/step\n"
          ],
          "name": "stdout"
        }
      ]
    },
    {
      "cell_type": "code",
      "metadata": {
        "colab_type": "code",
        "outputId": "396c60cd-ddfd-4995-f5e0-9417b8b0be9b",
        "id": "suZYxfeDF-wb",
        "colab": {
          "base_uri": "https://localhost:8080/",
          "height": 53
        }
      },
      "source": [
        "model.evaluate(x_test, y_test)"
      ],
      "execution_count": 0,
      "outputs": [
        {
          "output_type": "stream",
          "text": [
            "25000/25000 [==============================] - 2s 85us/step\n"
          ],
          "name": "stdout"
        },
        {
          "output_type": "execute_result",
          "data": {
            "text/plain": [
              "[0.3334533141708374, 0.87152]"
            ]
          },
          "metadata": {
            "tags": []
          },
          "execution_count": 56
        }
      ]
    },
    {
      "cell_type": "code",
      "metadata": {
        "colab_type": "code",
        "outputId": "2a601500-712b-407d-de3c-2e861b99d1ba",
        "id": "ZSeDWND5F-wf",
        "colab": {
          "base_uri": "https://localhost:8080/",
          "height": 143
        }
      },
      "source": [
        "model.predict(x_test)"
      ],
      "execution_count": 0,
      "outputs": [
        {
          "output_type": "execute_result",
          "data": {
            "text/plain": [
              "array([[0.14805293],\n",
              "       [0.9998992 ],\n",
              "       [0.6627844 ],\n",
              "       ...,\n",
              "       [0.11715287],\n",
              "       [0.03353629],\n",
              "       [0.5008956 ]], dtype=float32)"
            ]
          },
          "metadata": {
            "tags": []
          },
          "execution_count": 57
        }
      ]
    },
    {
      "cell_type": "markdown",
      "metadata": {
        "id": "wc33zMrQGZhw",
        "colab_type": "text"
      },
      "source": [
        "# 레이어 3, 유닛 수 *64개*"
      ]
    },
    {
      "cell_type": "code",
      "metadata": {
        "colab_type": "code",
        "outputId": "6cf8cf94-897e-4835-a4d2-55af2fe84321",
        "id": "MkQk_3kNGYvm",
        "colab": {
          "base_uri": "https://localhost:8080/",
          "height": 179
        }
      },
      "source": [
        "model = models.Sequential()\n",
        "model.add(layers.Dense(64, activation = 'relu', input_shape=(10000,)))\n",
        "model.add(layers.Dense(64, activation = 'relu'))\n",
        "model.add(layers.Dense(64, activation = 'relu'))\n",
        "model.add(layers.Dense(1, activation='sigmoid'))\n",
        "\n",
        "model.compile(optimizer='rmsprop',\n",
        "              loss='binary_crossentropy',\n",
        "              metrics=['accuracy'])\n",
        "\n",
        "model.fit(x_train, y_train, epochs=4, batch_size=512)\n",
        "results = model.evaluate(x_test, y_test)"
      ],
      "execution_count": 0,
      "outputs": [
        {
          "output_type": "stream",
          "text": [
            "Epoch 1/4\n",
            "25000/25000 [==============================] - 3s 139us/step - loss: 0.4365 - acc: 0.8035\n",
            "Epoch 2/4\n",
            "25000/25000 [==============================] - 3s 112us/step - loss: 0.2533 - acc: 0.9020\n",
            "Epoch 3/4\n",
            "25000/25000 [==============================] - 3s 112us/step - loss: 0.1955 - acc: 0.9236\n",
            "Epoch 4/4\n",
            "25000/25000 [==============================] - 3s 113us/step - loss: 0.1467 - acc: 0.9448\n",
            "25000/25000 [==============================] - 2s 94us/step\n"
          ],
          "name": "stdout"
        }
      ]
    },
    {
      "cell_type": "code",
      "metadata": {
        "colab_type": "code",
        "outputId": "e8ab6677-2acb-411a-8633-3a3daab0388e",
        "id": "JJ_pQZJvGYvp",
        "colab": {
          "base_uri": "https://localhost:8080/",
          "height": 53
        }
      },
      "source": [
        "model.evaluate(x_test, y_test)"
      ],
      "execution_count": 0,
      "outputs": [
        {
          "output_type": "stream",
          "text": [
            "25000/25000 [==============================] - 2s 93us/step\n"
          ],
          "name": "stdout"
        },
        {
          "output_type": "execute_result",
          "data": {
            "text/plain": [
              "[0.3691492634296417, 0.86708]"
            ]
          },
          "metadata": {
            "tags": []
          },
          "execution_count": 62
        }
      ]
    },
    {
      "cell_type": "code",
      "metadata": {
        "colab_type": "code",
        "outputId": "34d93662-015a-43f1-a815-cd081edd1dae",
        "id": "gMhX6wX1GYvt",
        "colab": {
          "base_uri": "https://localhost:8080/",
          "height": 143
        }
      },
      "source": [
        "model.predict(x_test)"
      ],
      "execution_count": 0,
      "outputs": [
        {
          "output_type": "execute_result",
          "data": {
            "text/plain": [
              "array([[0.08399662],\n",
              "       [0.9998456 ],\n",
              "       [0.6569927 ],\n",
              "       ...,\n",
              "       [0.04904139],\n",
              "       [0.02312928],\n",
              "       [0.46774295]], dtype=float32)"
            ]
          },
          "metadata": {
            "tags": []
          },
          "execution_count": 63
        }
      ]
    },
    {
      "cell_type": "code",
      "metadata": {
        "id": "SXuuw-qTdO6Z",
        "colab_type": "code",
        "outputId": "0fb73bb8-a136-4f68-9695-dbeb9ce814fc",
        "colab": {
          "base_uri": "https://localhost:8080/",
          "height": 35
        }
      },
      "source": [
        "import keras\n",
        "keras.__version__"
      ],
      "execution_count": 0,
      "outputs": [
        {
          "output_type": "execute_result",
          "data": {
            "text/plain": [
              "'2.2.5'"
            ]
          },
          "metadata": {
            "tags": []
          },
          "execution_count": 97
        }
      ]
    },
    {
      "cell_type": "markdown",
      "metadata": {
        "id": "qzp9VnOiKKg2",
        "colab_type": "text"
      },
      "source": [
        "# 뉴스 기사 분류 / 다중 분류 모델"
      ]
    },
    {
      "cell_type": "code",
      "metadata": {
        "id": "vcW5YlTAKSmR",
        "colab_type": "code",
        "outputId": "edf9d97e-4dff-4dcc-8042-9326e32189b0",
        "colab": {
          "base_uri": "https://localhost:8080/",
          "height": 118
        }
      },
      "source": [
        "from keras.datasets import reuters\n",
        "\n",
        "(train_data, train_labels), (test_data, test_labels) = reuters.load_data(num_words=10000)"
      ],
      "execution_count": 1,
      "outputs": [
        {
          "output_type": "stream",
          "text": [
            "Using TensorFlow backend.\n"
          ],
          "name": "stderr"
        },
        {
          "output_type": "display_data",
          "data": {
            "text/html": [
              "<p style=\"color: red;\">\n",
              "The default version of TensorFlow in Colab will soon switch to TensorFlow 2.x.<br>\n",
              "We recommend you <a href=\"https://www.tensorflow.org/guide/migrate\" target=\"_blank\">upgrade</a> now \n",
              "or ensure your notebook will continue to use TensorFlow 1.x via the <code>%tensorflow_version 1.x</code> magic:\n",
              "<a href=\"https://colab.research.google.com/notebooks/tensorflow_version.ipynb\" target=\"_blank\">more info</a>.</p>\n"
            ],
            "text/plain": [
              "<IPython.core.display.HTML object>"
            ]
          },
          "metadata": {
            "tags": []
          }
        },
        {
          "output_type": "stream",
          "text": [
            "Downloading data from https://s3.amazonaws.com/text-datasets/reuters.npz\n",
            "2113536/2110848 [==============================] - 0s 0us/step\n"
          ],
          "name": "stdout"
        }
      ]
    },
    {
      "cell_type": "code",
      "metadata": {
        "id": "oxcKnNjyKhM6",
        "colab_type": "code",
        "outputId": "a484e227-5b30-43f8-ffe8-0752520b8a9d",
        "colab": {
          "base_uri": "https://localhost:8080/",
          "height": 35
        }
      },
      "source": [
        "len(train_data)"
      ],
      "execution_count": 2,
      "outputs": [
        {
          "output_type": "execute_result",
          "data": {
            "text/plain": [
              "8982"
            ]
          },
          "metadata": {
            "tags": []
          },
          "execution_count": 2
        }
      ]
    },
    {
      "cell_type": "code",
      "metadata": {
        "id": "-e4BeRDWKiOQ",
        "colab_type": "code",
        "outputId": "c373601f-63f1-41a8-d7c4-a1cae94da67e",
        "colab": {
          "base_uri": "https://localhost:8080/",
          "height": 35
        }
      },
      "source": [
        "len(test_data)"
      ],
      "execution_count": 3,
      "outputs": [
        {
          "output_type": "execute_result",
          "data": {
            "text/plain": [
              "2246"
            ]
          },
          "metadata": {
            "tags": []
          },
          "execution_count": 3
        }
      ]
    },
    {
      "cell_type": "code",
      "metadata": {
        "id": "HzggLGmbKi-W",
        "colab_type": "code",
        "outputId": "ba1f71a8-f399-4626-fa97-4245da326112",
        "colab": {
          "base_uri": "https://localhost:8080/",
          "height": 35
        }
      },
      "source": [
        "train_data[10][:5]"
      ],
      "execution_count": 4,
      "outputs": [
        {
          "output_type": "execute_result",
          "data": {
            "text/plain": [
              "[1, 245, 273, 207, 156]"
            ]
          },
          "metadata": {
            "tags": []
          },
          "execution_count": 4
        }
      ]
    },
    {
      "cell_type": "code",
      "metadata": {
        "id": "A2H24Rk-KpTy",
        "colab_type": "code",
        "outputId": "a3c775b8-42fb-4587-85b1-226f3ea1adc9",
        "colab": {
          "base_uri": "https://localhost:8080/",
          "height": 53
        }
      },
      "source": [
        "# 단어로 디코딩\n",
        "word_index = reuters.get_word_index()\n",
        "reverse_word_index = dict([(value, key) for (key, value) in word_index.items()])\n",
        "\n",
        "# dict.get에 있는 '?'는 가져올 값이 없을 때 가져올 값을 지정해줌.\n",
        "decoded_newswire = ' '.join([reverse_word_index.get(i - 3, '?') for i in train_data[0]])"
      ],
      "execution_count": 5,
      "outputs": [
        {
          "output_type": "stream",
          "text": [
            "Downloading data from https://s3.amazonaws.com/text-datasets/reuters_word_index.json\n",
            "557056/550378 [==============================] - 0s 0us/step\n"
          ],
          "name": "stdout"
        }
      ]
    },
    {
      "cell_type": "code",
      "metadata": {
        "id": "e8kujmozK3pT",
        "colab_type": "code",
        "outputId": "da156e06-aff7-4d96-81db-a39e7f2ffd29",
        "colab": {
          "base_uri": "https://localhost:8080/",
          "height": 35
        }
      },
      "source": [
        "train_labels[10]"
      ],
      "execution_count": 6,
      "outputs": [
        {
          "output_type": "execute_result",
          "data": {
            "text/plain": [
              "3"
            ]
          },
          "metadata": {
            "tags": []
          },
          "execution_count": 6
        }
      ]
    },
    {
      "cell_type": "code",
      "metadata": {
        "id": "UJjBepwmLUnQ",
        "colab_type": "code",
        "colab": {}
      },
      "source": [
        "import numpy as np\n",
        "\n",
        "def vectorize_sequences(sequences, dimension=10000):\n",
        "    results = np.zeros((len(sequences), dimension))\n",
        "    for i, sequence in enumerate(sequences):\n",
        "        results[i, sequence] = 1.\n",
        "    return results\n",
        "\n",
        "# 훈련 데이터 벡터 변환\n",
        "x_train = vectorize_sequences(train_data)\n",
        "# 테스트 데이터 벡터 변환\n",
        "x_test = vectorize_sequences(test_data)"
      ],
      "execution_count": 0,
      "outputs": []
    },
    {
      "cell_type": "code",
      "metadata": {
        "id": "BQweT4JAL4_q",
        "colab_type": "code",
        "colab": {}
      },
      "source": [
        "# 위에 대한 케라스 내장 함수가 있음\n",
        "from keras.utils.np_utils import to_categorical\n",
        "\n",
        "one_hot_train_labels = to_categorical(train_labels)\n",
        "one_hot_test_labels = to_categorical(test_labels)"
      ],
      "execution_count": 0,
      "outputs": []
    },
    {
      "cell_type": "code",
      "metadata": {
        "id": "Eh-E4plOMPDC",
        "colab_type": "code",
        "outputId": "27be0526-fd75-4840-a9d5-4c22700ff72e",
        "colab": {
          "base_uri": "https://localhost:8080/",
          "height": 125
        }
      },
      "source": [
        "#모델 구축\n",
        "\n",
        "from keras import models\n",
        "from keras import layers\n",
        "\n",
        "model = models.Sequential()\n",
        "model.add(layers.Dense(64, activation='relu', input_shape=(10000,)))\n",
        "model.add(layers.Dense(64, activation='relu'))\n",
        "model.add(layers.Dense(46, activation='softmax'))"
      ],
      "execution_count": 9,
      "outputs": [
        {
          "output_type": "stream",
          "text": [
            "WARNING:tensorflow:From /usr/local/lib/python3.6/dist-packages/keras/backend/tensorflow_backend.py:66: The name tf.get_default_graph is deprecated. Please use tf.compat.v1.get_default_graph instead.\n",
            "\n",
            "WARNING:tensorflow:From /usr/local/lib/python3.6/dist-packages/keras/backend/tensorflow_backend.py:541: The name tf.placeholder is deprecated. Please use tf.compat.v1.placeholder instead.\n",
            "\n",
            "WARNING:tensorflow:From /usr/local/lib/python3.6/dist-packages/keras/backend/tensorflow_backend.py:4432: The name tf.random_uniform is deprecated. Please use tf.random.uniform instead.\n",
            "\n"
          ],
          "name": "stdout"
        }
      ]
    },
    {
      "cell_type": "code",
      "metadata": {
        "id": "CZ1Mo_xeMvID",
        "colab_type": "code",
        "outputId": "d7cb28db-0fcf-4322-b87f-73df43bc7676",
        "colab": {
          "base_uri": "https://localhost:8080/",
          "height": 89
        }
      },
      "source": [
        "model.compile(optimizer='rmsprop',\n",
        "              loss='categorical_crossentropy',\n",
        "              metrics=['accuracy'])"
      ],
      "execution_count": 10,
      "outputs": [
        {
          "output_type": "stream",
          "text": [
            "WARNING:tensorflow:From /usr/local/lib/python3.6/dist-packages/keras/optimizers.py:793: The name tf.train.Optimizer is deprecated. Please use tf.compat.v1.train.Optimizer instead.\n",
            "\n",
            "WARNING:tensorflow:From /usr/local/lib/python3.6/dist-packages/keras/backend/tensorflow_backend.py:3576: The name tf.log is deprecated. Please use tf.math.log instead.\n",
            "\n"
          ],
          "name": "stdout"
        }
      ]
    },
    {
      "cell_type": "code",
      "metadata": {
        "id": "xyl_1EK2NCtZ",
        "colab_type": "code",
        "colab": {}
      },
      "source": [
        "x_val = x_train[:1000]\n",
        "partial_x_train = x_train[1000:]\n",
        "\n",
        "y_val = one_hot_train_labels[:1000]\n",
        "partial_y_train = one_hot_train_labels[1000:]"
      ],
      "execution_count": 0,
      "outputs": []
    },
    {
      "cell_type": "code",
      "metadata": {
        "id": "_XK0Sf0TNRKL",
        "colab_type": "code",
        "outputId": "0a660f6e-5bd9-4e71-90a2-4e93bd7400e2",
        "colab": {
          "base_uri": "https://localhost:8080/",
          "height": 1000
        }
      },
      "source": [
        "history = model.fit(partial_x_train,\n",
        "                    partial_y_train,\n",
        "                    epochs=20,\n",
        "                    batch_size=512,\n",
        "                    validation_data=(x_val, y_val))"
      ],
      "execution_count": 12,
      "outputs": [
        {
          "output_type": "stream",
          "text": [
            "WARNING:tensorflow:From /usr/local/lib/python3.6/dist-packages/tensorflow_core/python/ops/math_grad.py:1424: where (from tensorflow.python.ops.array_ops) is deprecated and will be removed in a future version.\n",
            "Instructions for updating:\n",
            "Use tf.where in 2.0, which has the same broadcast rule as np.where\n",
            "WARNING:tensorflow:From /usr/local/lib/python3.6/dist-packages/keras/backend/tensorflow_backend.py:1033: The name tf.assign_add is deprecated. Please use tf.compat.v1.assign_add instead.\n",
            "\n",
            "WARNING:tensorflow:From /usr/local/lib/python3.6/dist-packages/keras/backend/tensorflow_backend.py:1020: The name tf.assign is deprecated. Please use tf.compat.v1.assign instead.\n",
            "\n",
            "WARNING:tensorflow:From /usr/local/lib/python3.6/dist-packages/keras/backend/tensorflow_backend.py:3005: The name tf.Session is deprecated. Please use tf.compat.v1.Session instead.\n",
            "\n",
            "Train on 7982 samples, validate on 1000 samples\n",
            "Epoch 1/20\n",
            "WARNING:tensorflow:From /usr/local/lib/python3.6/dist-packages/keras/backend/tensorflow_backend.py:190: The name tf.get_default_session is deprecated. Please use tf.compat.v1.get_default_session instead.\n",
            "\n",
            "WARNING:tensorflow:From /usr/local/lib/python3.6/dist-packages/keras/backend/tensorflow_backend.py:197: The name tf.ConfigProto is deprecated. Please use tf.compat.v1.ConfigProto instead.\n",
            "\n",
            "WARNING:tensorflow:From /usr/local/lib/python3.6/dist-packages/keras/backend/tensorflow_backend.py:207: The name tf.global_variables is deprecated. Please use tf.compat.v1.global_variables instead.\n",
            "\n",
            "WARNING:tensorflow:From /usr/local/lib/python3.6/dist-packages/keras/backend/tensorflow_backend.py:216: The name tf.is_variable_initialized is deprecated. Please use tf.compat.v1.is_variable_initialized instead.\n",
            "\n",
            "WARNING:tensorflow:From /usr/local/lib/python3.6/dist-packages/keras/backend/tensorflow_backend.py:223: The name tf.variables_initializer is deprecated. Please use tf.compat.v1.variables_initializer instead.\n",
            "\n",
            "7982/7982 [==============================] - 10s 1ms/step - loss: 2.6408 - acc: 0.5440 - val_loss: 1.7250 - val_acc: 0.6530\n",
            "Epoch 2/20\n",
            "7982/7982 [==============================] - 0s 55us/step - loss: 1.4089 - acc: 0.7110 - val_loss: 1.3083 - val_acc: 0.7280\n",
            "Epoch 3/20\n",
            "7982/7982 [==============================] - 0s 57us/step - loss: 1.0523 - acc: 0.7722 - val_loss: 1.1466 - val_acc: 0.7510\n",
            "Epoch 4/20\n",
            "7982/7982 [==============================] - 0s 56us/step - loss: 0.8332 - acc: 0.8166 - val_loss: 1.0465 - val_acc: 0.7670\n",
            "Epoch 5/20\n",
            "7982/7982 [==============================] - 0s 53us/step - loss: 0.6628 - acc: 0.8576 - val_loss: 0.9859 - val_acc: 0.7990\n",
            "Epoch 6/20\n",
            "7982/7982 [==============================] - 0s 55us/step - loss: 0.5330 - acc: 0.8901 - val_loss: 0.9508 - val_acc: 0.8060\n",
            "Epoch 7/20\n",
            "7982/7982 [==============================] - 0s 56us/step - loss: 0.4259 - acc: 0.9141 - val_loss: 0.9027 - val_acc: 0.8170\n",
            "Epoch 8/20\n",
            "7982/7982 [==============================] - 0s 54us/step - loss: 0.3453 - acc: 0.9280 - val_loss: 0.9054 - val_acc: 0.8080\n",
            "Epoch 9/20\n",
            "7982/7982 [==============================] - 0s 55us/step - loss: 0.2889 - acc: 0.9369 - val_loss: 0.9104 - val_acc: 0.8150\n",
            "Epoch 10/20\n",
            "7982/7982 [==============================] - 0s 55us/step - loss: 0.2432 - acc: 0.9436 - val_loss: 0.9074 - val_acc: 0.8090\n",
            "Epoch 11/20\n",
            "7982/7982 [==============================] - 0s 53us/step - loss: 0.2138 - acc: 0.9458 - val_loss: 0.8991 - val_acc: 0.8210\n",
            "Epoch 12/20\n",
            "7982/7982 [==============================] - 0s 53us/step - loss: 0.1832 - acc: 0.9500 - val_loss: 0.9679 - val_acc: 0.7970\n",
            "Epoch 13/20\n",
            "7982/7982 [==============================] - 0s 56us/step - loss: 0.1695 - acc: 0.9549 - val_loss: 0.9442 - val_acc: 0.8080\n",
            "Epoch 14/20\n",
            "7982/7982 [==============================] - 0s 54us/step - loss: 0.1523 - acc: 0.9557 - val_loss: 0.9673 - val_acc: 0.8060\n",
            "Epoch 15/20\n",
            "7982/7982 [==============================] - 0s 55us/step - loss: 0.1392 - acc: 0.9563 - val_loss: 0.9811 - val_acc: 0.8050\n",
            "Epoch 16/20\n",
            "7982/7982 [==============================] - 0s 55us/step - loss: 0.1329 - acc: 0.9573 - val_loss: 1.0097 - val_acc: 0.7990\n",
            "Epoch 17/20\n",
            "7982/7982 [==============================] - 0s 57us/step - loss: 0.1265 - acc: 0.9573 - val_loss: 0.9995 - val_acc: 0.8090\n",
            "Epoch 18/20\n",
            "7982/7982 [==============================] - 0s 53us/step - loss: 0.1209 - acc: 0.9579 - val_loss: 1.0609 - val_acc: 0.7980\n",
            "Epoch 19/20\n",
            "7982/7982 [==============================] - 0s 55us/step - loss: 0.1169 - acc: 0.9584 - val_loss: 1.0988 - val_acc: 0.8030\n",
            "Epoch 20/20\n",
            "7982/7982 [==============================] - 0s 54us/step - loss: 0.1154 - acc: 0.9577 - val_loss: 1.0516 - val_acc: 0.7970\n"
          ],
          "name": "stdout"
        }
      ]
    },
    {
      "cell_type": "code",
      "metadata": {
        "id": "_6TvMgRXNX0A",
        "colab_type": "code",
        "outputId": "79093466-961c-414d-da47-7493c76da73c",
        "colab": {
          "base_uri": "https://localhost:8080/",
          "height": 295
        }
      },
      "source": [
        "# 훈련과 검증 손실 그리기\n",
        "import matplotlib.pyplot as plt\n",
        "\n",
        "loss = history.history['loss']\n",
        "val_loss = history.history['val_loss']\n",
        "\n",
        "epochs = range(1, len(loss) + 1)\n",
        "\n",
        "plt.plot(epochs, loss, 'bo', label='Training loss')\n",
        "plt.plot(epochs, val_loss, 'b', label='Validation loss')\n",
        "plt.title('Training and validation loss')\n",
        "plt.xlabel('Epochs')\n",
        "plt.ylabel('Loss')\n",
        "plt.legend()\n",
        "\n",
        "plt.show()"
      ],
      "execution_count": 13,
      "outputs": [
        {
          "output_type": "display_data",
          "data": {
            "image/png": "[encoded data removed]",
            "text/plain": [
              "<Figure size 432x288 with 1 Axes>"
            ]
          },
          "metadata": {
            "tags": []
          }
        }
      ]
    },
    {
      "cell_type": "code",
      "metadata": {
        "id": "5xB4TUyLN-c9",
        "colab_type": "code",
        "outputId": "0d47e2c1-c12d-45c1-b7ce-3147f57d5d2f",
        "colab": {
          "base_uri": "https://localhost:8080/",
          "height": 295
        }
      },
      "source": [
        "#훈련과 검증 정확도 그리기\n",
        "plt.clf() # 그래프 초기화\n",
        "\n",
        "acc = history.history['acc']\n",
        "val_acc = history.history['val_acc']\n",
        "\n",
        "plt.plot(epochs, acc, 'bo', label='Training acc')\n",
        "plt.plot(epochs, val_acc, 'b', label='Validation acc')\n",
        "plt.title('Training and validation accuracy')\n",
        "plt.xlabel('Epochs')\n",
        "plt.ylabel('Accurach')\n",
        "plt.legend()\n",
        "\n",
        "plt.show()"
      ],
      "execution_count": 14,
      "outputs": [
        {
          "output_type": "display_data",
          "data": {
            "image/png": "[encoded data removed]",
            "text/plain": [
              "<Figure size 432x288 with 1 Axes>"
            ]
          },
          "metadata": {
            "tags": []
          }
        }
      ]
    },
    {
      "cell_type": "code",
      "metadata": {
        "id": "yvh1GXhCQrLD",
        "colab_type": "code",
        "outputId": "8cdcb48f-bd5e-4b8f-db49-cfa9982bddd6",
        "colab": {
          "base_uri": "https://localhost:8080/",
          "height": 377
        }
      },
      "source": [
        "#모델을 처음부터 다시 훈련하기\n",
        "model = models.Sequential()\n",
        "model.add(layers.Dense(64, activation='relu', input_shape=(10000,)))\n",
        "model.add(layers.Dense(64, activation='relu'))\n",
        "model.add(layers.Dense(46, activation='softmax'))\n",
        "\n",
        "model.compile(optimizer='rmsprop',\n",
        "              loss='categorical_crossentropy',\n",
        "              metrics=['accuracy'])\n",
        "\n",
        "model.fit(partial_x_train,\n",
        "          partial_y_train,\n",
        "          epochs=9,\n",
        "          batch_size=512,\n",
        "          validation_data=(x_val, y_val))\n",
        "results = model.evaluate(x_test, one_hot_test_labels)"
      ],
      "execution_count": 15,
      "outputs": [
        {
          "output_type": "stream",
          "text": [
            "Train on 7982 samples, validate on 1000 samples\n",
            "Epoch 1/9\n",
            "7982/7982 [==============================] - 1s 81us/step - loss: 2.6161 - acc: 0.5425 - val_loss: 1.7494 - val_acc: 0.6480\n",
            "Epoch 2/9\n",
            "7982/7982 [==============================] - 0s 56us/step - loss: 1.4155 - acc: 0.7105 - val_loss: 1.3060 - val_acc: 0.7280\n",
            "Epoch 3/9\n",
            "7982/7982 [==============================] - 0s 55us/step - loss: 1.0398 - acc: 0.7840 - val_loss: 1.1388 - val_acc: 0.7630\n",
            "Epoch 4/9\n",
            "7982/7982 [==============================] - 0s 55us/step - loss: 0.8182 - acc: 0.8311 - val_loss: 1.0357 - val_acc: 0.7780\n",
            "Epoch 5/9\n",
            "7982/7982 [==============================] - 0s 56us/step - loss: 0.6572 - acc: 0.8675 - val_loss: 0.9739 - val_acc: 0.8070\n",
            "Epoch 6/9\n",
            "7982/7982 [==============================] - 0s 53us/step - loss: 0.5250 - acc: 0.8969 - val_loss: 1.0163 - val_acc: 0.7690\n",
            "Epoch 7/9\n",
            "7982/7982 [==============================] - 0s 52us/step - loss: 0.4301 - acc: 0.9117 - val_loss: 0.9242 - val_acc: 0.8160\n",
            "Epoch 8/9\n",
            "7982/7982 [==============================] - 0s 51us/step - loss: 0.3500 - acc: 0.9285 - val_loss: 0.9181 - val_acc: 0.8130\n",
            "Epoch 9/9\n",
            "7982/7982 [==============================] - 0s 52us/step - loss: 0.2927 - acc: 0.9370 - val_loss: 0.9253 - val_acc: 0.8110\n",
            "2246/2246 [==============================] - 0s 84us/step\n"
          ],
          "name": "stdout"
        }
      ]
    },
    {
      "cell_type": "code",
      "metadata": {
        "id": "7el5jn-Kee4p",
        "colab_type": "code",
        "outputId": "5ad63960-6694-4123-ca78-19d6fe6286d2",
        "colab": {
          "base_uri": "https://localhost:8080/",
          "height": 34
        }
      },
      "source": [
        "results"
      ],
      "execution_count": 0,
      "outputs": [
        {
          "output_type": "execute_result",
          "data": {
            "text/plain": [
              "[1.054163360213554, 0.7769367765180787]"
            ]
          },
          "metadata": {
            "tags": []
          },
          "execution_count": 16
        }
      ]
    },
    {
      "cell_type": "code",
      "metadata": {
        "id": "ZQ5AoWIogCg2",
        "colab_type": "code",
        "outputId": "cde8f85a-70d7-4ad5-f2c0-d9188f373c9b",
        "colab": {
          "base_uri": "https://localhost:8080/",
          "height": 34
        }
      },
      "source": [
        "#무작위로 데이터를 분류하면 확률이 18%\n",
        "import copy\n",
        "test_labels_copy = copy.copy(test_labels)\n",
        "np.random.shuffle(test_labels_copy)\n",
        "hits_array = np.array(test_labels) == np.array(test_labels_copy)\n",
        "float(np.sum(hits_array)) / len(test_labels)"
      ],
      "execution_count": 0,
      "outputs": [
        {
          "output_type": "execute_result",
          "data": {
            "text/plain": [
              "0.17898486197684774"
            ]
          },
          "metadata": {
            "tags": []
          },
          "execution_count": 17
        }
      ]
    },
    {
      "cell_type": "code",
      "metadata": {
        "id": "SKPSUh9CgmsK",
        "colab_type": "code",
        "colab": {}
      },
      "source": [
        "# 새로운 데이터에 대해 예측하기\n",
        "predictions = model.predict(x_test)"
      ],
      "execution_count": 0,
      "outputs": []
    },
    {
      "cell_type": "code",
      "metadata": {
        "id": "GpjVy5cVhE0B",
        "colab_type": "code",
        "outputId": "f254153a-c23b-4191-b36b-042abbcaa1a2",
        "colab": {
          "base_uri": "https://localhost:8080/",
          "height": 34
        }
      },
      "source": [
        "predictions[0].shape"
      ],
      "execution_count": 0,
      "outputs": [
        {
          "output_type": "execute_result",
          "data": {
            "text/plain": [
              "(46,)"
            ]
          },
          "metadata": {
            "tags": []
          },
          "execution_count": 19
        }
      ]
    },
    {
      "cell_type": "code",
      "metadata": {
        "id": "zDa9jfWEGqhB",
        "colab_type": "code",
        "outputId": "81c7421a-8a4e-4aed-c16a-b538267f73b5",
        "colab": {
          "base_uri": "https://localhost:8080/",
          "height": 34
        }
      },
      "source": [
        "np.sum(predictions[0])"
      ],
      "execution_count": 0,
      "outputs": [
        {
          "output_type": "execute_result",
          "data": {
            "text/plain": [
              "1.0000001"
            ]
          },
          "metadata": {
            "tags": []
          },
          "execution_count": 20
        }
      ]
    },
    {
      "cell_type": "code",
      "metadata": {
        "id": "R8F6hDbVGsng",
        "colab_type": "code",
        "outputId": "60bfd9f1-1e54-44b4-ac2b-99208c718763",
        "colab": {
          "base_uri": "https://localhost:8080/",
          "height": 34
        }
      },
      "source": [
        "np.argmax(predictions[0])"
      ],
      "execution_count": 0,
      "outputs": [
        {
          "output_type": "execute_result",
          "data": {
            "text/plain": [
              "4"
            ]
          },
          "metadata": {
            "tags": []
          },
          "execution_count": 22
        }
      ]
    },
    {
      "cell_type": "code",
      "metadata": {
        "id": "DjIO9z_DG087",
        "colab_type": "code",
        "colab": {}
      },
      "source": [
        "# 레이블과 손실을 다루는 방법\n",
        "y_train = np.array(train_labels)\n",
        "y_test = np.array(test_labels)\n",
        "\n",
        "# categorical_crossentropy : 레이블이 범주형 인코딩일 때 사용\n",
        "# sparse_categorical_crossentropy : 정수 레이블에 사용(수학적으로는 동일하고 인터페이스만 다름)\n",
        "model.compile(optimizer = 'rmsprop',\n",
        "              loss = 'sparse_categorical_crossentropy',\n",
        "              metrics = ['acc'])"
      ],
      "execution_count": 0,
      "outputs": []
    },
    {
      "cell_type": "markdown",
      "metadata": {
        "id": "RZ5UB8f6I6yU",
        "colab_type": "text"
      },
      "source": [
        "# 충분히 큰 중간층을 두어야 하는 이유"
      ]
    },
    {
      "cell_type": "code",
      "metadata": {
        "id": "DrNKPUaSI6oD",
        "colab_type": "code",
        "outputId": "24946f7f-2bad-40a2-abdf-04209c7bad22",
        "colab": {
          "base_uri": "https://localhost:8080/",
          "height": 756
        }
      },
      "source": [
        "# 46차원보다 훨씬 작은 중간층(예를 들어 4차원)을 두면 정보의 병목이 어떻게 나타나는지 확인해보자\n",
        "model = models.Sequential()\n",
        "model.add(layers.Dense(64, activation='relu', input_shape=(10000,)))\n",
        "model.add(layers.Dense(4, activation='relu'))\n",
        "model.add(layers.Dense(46, activation='softmax'))\n",
        "\n",
        "model.compile(optimizer='rmsprop',\n",
        "              loss='categorical_crossentropy',\n",
        "              metrics=['accuracy'])\n",
        "\n",
        "model.fit(partial_x_train,\n",
        "          partial_y_train,\n",
        "          epochs=20,\n",
        "          batch_size=128,\n",
        "          validation_data=(x_val, y_val))\n",
        "\n",
        "# 결과, 정확도가 8%정도 감소함. -> 고차원을 너무 저차원으로 압축했기 때문."
      ],
      "execution_count": 0,
      "outputs": [
        {
          "output_type": "stream",
          "text": [
            "Train on 7982 samples, validate on 1000 samples\n",
            "Epoch 1/20\n",
            "7982/7982 [==============================] - 2s 199us/step - loss: 3.3407 - acc: 0.1166 - val_loss: 2.8050 - val_acc: 0.1830\n",
            "Epoch 2/20\n",
            "7982/7982 [==============================] - 1s 162us/step - loss: 2.0619 - acc: 0.5093 - val_loss: 1.6771 - val_acc: 0.6720\n",
            "Epoch 3/20\n",
            "7982/7982 [==============================] - 1s 157us/step - loss: 1.3314 - acc: 0.6992 - val_loss: 1.4017 - val_acc: 0.6750\n",
            "Epoch 4/20\n",
            "7982/7982 [==============================] - 1s 158us/step - loss: 1.1179 - acc: 0.7256 - val_loss: 1.3347 - val_acc: 0.6990\n",
            "Epoch 5/20\n",
            "7982/7982 [==============================] - 1s 155us/step - loss: 0.9898 - acc: 0.7573 - val_loss: 1.3087 - val_acc: 0.6980\n",
            "Epoch 6/20\n",
            "7982/7982 [==============================] - 1s 160us/step - loss: 0.8972 - acc: 0.7714 - val_loss: 1.3180 - val_acc: 0.6990\n",
            "Epoch 7/20\n",
            "7982/7982 [==============================] - 1s 156us/step - loss: 0.8211 - acc: 0.7785 - val_loss: 1.3154 - val_acc: 0.7020\n",
            "Epoch 8/20\n",
            "7982/7982 [==============================] - 1s 157us/step - loss: 0.7579 - acc: 0.7900 - val_loss: 1.3442 - val_acc: 0.7100\n",
            "Epoch 9/20\n",
            "7982/7982 [==============================] - 1s 153us/step - loss: 0.7040 - acc: 0.8011 - val_loss: 1.4237 - val_acc: 0.7010\n",
            "Epoch 10/20\n",
            "7982/7982 [==============================] - 1s 158us/step - loss: 0.6546 - acc: 0.8106 - val_loss: 1.4065 - val_acc: 0.7020\n",
            "Epoch 11/20\n",
            "7982/7982 [==============================] - 1s 161us/step - loss: 0.6117 - acc: 0.8216 - val_loss: 1.4802 - val_acc: 0.6920\n",
            "Epoch 12/20\n",
            "7982/7982 [==============================] - 1s 161us/step - loss: 0.5760 - acc: 0.8360 - val_loss: 1.5721 - val_acc: 0.6980\n",
            "Epoch 13/20\n",
            "7982/7982 [==============================] - 1s 158us/step - loss: 0.5375 - acc: 0.8479 - val_loss: 1.5511 - val_acc: 0.6950\n",
            "Epoch 14/20\n",
            "7982/7982 [==============================] - 1s 158us/step - loss: 0.5076 - acc: 0.8622 - val_loss: 1.5951 - val_acc: 0.6890\n",
            "Epoch 15/20\n",
            "7982/7982 [==============================] - 1s 153us/step - loss: 0.4763 - acc: 0.8717 - val_loss: 1.6581 - val_acc: 0.6920\n",
            "Epoch 16/20\n",
            "7982/7982 [==============================] - 1s 158us/step - loss: 0.4507 - acc: 0.8781 - val_loss: 1.6878 - val_acc: 0.6900\n",
            "Epoch 17/20\n",
            "7982/7982 [==============================] - 1s 161us/step - loss: 0.4273 - acc: 0.8847 - val_loss: 1.7285 - val_acc: 0.6860\n",
            "Epoch 18/20\n",
            "7982/7982 [==============================] - 1s 163us/step - loss: 0.4054 - acc: 0.8905 - val_loss: 1.7749 - val_acc: 0.6980\n",
            "Epoch 19/20\n",
            "7982/7982 [==============================] - 1s 157us/step - loss: 0.3879 - acc: 0.8981 - val_loss: 1.8392 - val_acc: 0.6920\n",
            "Epoch 20/20\n",
            "7982/7982 [==============================] - 1s 160us/step - loss: 0.3691 - acc: 0.9015 - val_loss: 1.8834 - val_acc: 0.6970\n"
          ],
          "name": "stdout"
        },
        {
          "output_type": "execute_result",
          "data": {
            "text/plain": [
              "<keras.callbacks.History at 0x7f64b605fe80>"
            ]
          },
          "metadata": {
            "tags": []
          },
          "execution_count": 27
        }
      ]
    },
    {
      "cell_type": "code",
      "metadata": {
        "id": "QDAQmCZ2IoN7",
        "colab_type": "code",
        "outputId": "614d55ed-2f64-41b4-a80c-4bf64a23108d",
        "colab": {
          "base_uri": "https://localhost:8080/",
          "height": 756
        }
      },
      "source": [
        "# 추가실험 1. 작은 층 사용 32개의 유닛\n",
        "model = models.Sequential()\n",
        "model.add(layers.Dense(64, activation='relu', input_shape=(10000,)))\n",
        "model.add(layers.Dense(32, activation='relu'))\n",
        "model.add(layers.Dense(46, activation='softmax'))\n",
        "\n",
        "model.compile(optimizer='rmsprop',\n",
        "              loss='categorical_crossentropy',\n",
        "              metrics=['accuracy'])\n",
        "\n",
        "model.fit(partial_x_train,\n",
        "          partial_y_train,\n",
        "          epochs=20,\n",
        "          batch_size=128,\n",
        "          validation_data=(x_val, y_val))"
      ],
      "execution_count": 0,
      "outputs": [
        {
          "output_type": "stream",
          "text": [
            "Train on 7982 samples, validate on 1000 samples\n",
            "Epoch 1/20\n",
            "7982/7982 [==============================] - 2s 190us/step - loss: 1.9292 - acc: 0.6071 - val_loss: 1.2937 - val_acc: 0.7100\n",
            "Epoch 2/20\n",
            "7982/7982 [==============================] - 1s 162us/step - loss: 1.0037 - acc: 0.7871 - val_loss: 1.0652 - val_acc: 0.7570\n",
            "Epoch 3/20\n",
            "7982/7982 [==============================] - 1s 170us/step - loss: 0.6952 - acc: 0.8508 - val_loss: 0.9452 - val_acc: 0.7950\n",
            "Epoch 4/20\n",
            "7982/7982 [==============================] - 1s 168us/step - loss: 0.5020 - acc: 0.8929 - val_loss: 0.8817 - val_acc: 0.8190\n",
            "Epoch 5/20\n",
            "7982/7982 [==============================] - 1s 163us/step - loss: 0.3680 - acc: 0.9166 - val_loss: 0.9038 - val_acc: 0.8260\n",
            "Epoch 6/20\n",
            "7982/7982 [==============================] - 1s 169us/step - loss: 0.2849 - acc: 0.9342 - val_loss: 0.8817 - val_acc: 0.8320\n",
            "Epoch 7/20\n",
            "7982/7982 [==============================] - 1s 170us/step - loss: 0.2355 - acc: 0.9451 - val_loss: 0.9168 - val_acc: 0.8270\n",
            "Epoch 8/20\n",
            "7982/7982 [==============================] - 1s 164us/step - loss: 0.2014 - acc: 0.9496 - val_loss: 0.9923 - val_acc: 0.8260\n",
            "Epoch 9/20\n",
            "7982/7982 [==============================] - 1s 161us/step - loss: 0.1771 - acc: 0.9530 - val_loss: 0.9793 - val_acc: 0.8170\n",
            "Epoch 10/20\n",
            "7982/7982 [==============================] - 1s 169us/step - loss: 0.1630 - acc: 0.9562 - val_loss: 1.0365 - val_acc: 0.8170\n",
            "Epoch 11/20\n",
            "7982/7982 [==============================] - 1s 163us/step - loss: 0.1528 - acc: 0.9551 - val_loss: 1.0661 - val_acc: 0.8080\n",
            "Epoch 12/20\n",
            "7982/7982 [==============================] - 1s 169us/step - loss: 0.1438 - acc: 0.9573 - val_loss: 1.0728 - val_acc: 0.8180\n",
            "Epoch 13/20\n",
            "7982/7982 [==============================] - 1s 163us/step - loss: 0.1376 - acc: 0.9580 - val_loss: 1.1006 - val_acc: 0.8130\n",
            "Epoch 14/20\n",
            "7982/7982 [==============================] - 1s 162us/step - loss: 0.1314 - acc: 0.9565 - val_loss: 1.1235 - val_acc: 0.8080\n",
            "Epoch 15/20\n",
            "7982/7982 [==============================] - 1s 173us/step - loss: 0.1298 - acc: 0.9570 - val_loss: 1.1663 - val_acc: 0.8040\n",
            "Epoch 16/20\n",
            "7982/7982 [==============================] - 1s 167us/step - loss: 0.1252 - acc: 0.9572 - val_loss: 1.1821 - val_acc: 0.8060\n",
            "Epoch 17/20\n",
            "7982/7982 [==============================] - 1s 161us/step - loss: 0.1249 - acc: 0.9569 - val_loss: 1.3030 - val_acc: 0.7910\n",
            "Epoch 18/20\n",
            "7982/7982 [==============================] - 1s 158us/step - loss: 0.1196 - acc: 0.9570 - val_loss: 1.2814 - val_acc: 0.7930\n",
            "Epoch 19/20\n",
            "7982/7982 [==============================] - 1s 161us/step - loss: 0.1165 - acc: 0.9600 - val_loss: 1.4226 - val_acc: 0.7830\n",
            "Epoch 20/20\n",
            "7982/7982 [==============================] - 1s 160us/step - loss: 0.1193 - acc: 0.9550 - val_loss: 1.2564 - val_acc: 0.7950\n"
          ],
          "name": "stdout"
        },
        {
          "output_type": "execute_result",
          "data": {
            "text/plain": [
              "<keras.callbacks.History at 0x7f64b60378d0>"
            ]
          },
          "metadata": {
            "tags": []
          },
          "execution_count": 28
        }
      ]
    },
    {
      "cell_type": "code",
      "metadata": {
        "id": "1-B0uYs7KaFB",
        "colab_type": "code",
        "outputId": "55bd8340-b7ec-401c-8ded-89486cc7b0c6",
        "colab": {
          "base_uri": "https://localhost:8080/",
          "height": 756
        }
      },
      "source": [
        "# 추가실험 2. 더 큰 층 사용 128개의 유닛\n",
        "model = models.Sequential()\n",
        "model.add(layers.Dense(64, activation='relu', input_shape=(10000,)))\n",
        "model.add(layers.Dense(32, activation='relu'))\n",
        "model.add(layers.Dense(46, activation='softmax'))\n",
        "\n",
        "model.compile(optimizer='rmsprop',\n",
        "              loss='categorical_crossentropy',\n",
        "              metrics=['accuracy'])\n",
        "\n",
        "model.fit(partial_x_train,\n",
        "          partial_y_train,\n",
        "          epochs=20,\n",
        "          batch_size=128,\n",
        "          validation_data=(x_val, y_val))"
      ],
      "execution_count": 0,
      "outputs": [
        {
          "output_type": "stream",
          "text": [
            "Train on 7982 samples, validate on 1000 samples\n",
            "Epoch 1/20\n",
            "7982/7982 [==============================] - 2s 217us/step - loss: 2.1839 - acc: 0.6082 - val_loss: 1.3840 - val_acc: 0.7100\n",
            "Epoch 2/20\n",
            "7982/7982 [==============================] - 1s 167us/step - loss: 1.0977 - acc: 0.7627 - val_loss: 1.0783 - val_acc: 0.7620\n",
            "Epoch 3/20\n",
            "7982/7982 [==============================] - 1s 166us/step - loss: 0.7695 - acc: 0.8334 - val_loss: 0.9375 - val_acc: 0.7950\n",
            "Epoch 4/20\n",
            "7982/7982 [==============================] - 1s 175us/step - loss: 0.5544 - acc: 0.8837 - val_loss: 0.8869 - val_acc: 0.8200\n",
            "Epoch 5/20\n",
            "7982/7982 [==============================] - 1s 173us/step - loss: 0.4082 - acc: 0.9149 - val_loss: 0.8936 - val_acc: 0.8150\n",
            "Epoch 6/20\n",
            "7982/7982 [==============================] - 1s 175us/step - loss: 0.3105 - acc: 0.9337 - val_loss: 0.9088 - val_acc: 0.8220\n",
            "Epoch 7/20\n",
            "7982/7982 [==============================] - 1s 174us/step - loss: 0.2510 - acc: 0.9430 - val_loss: 0.9122 - val_acc: 0.8180\n",
            "Epoch 8/20\n",
            "7982/7982 [==============================] - 1s 176us/step - loss: 0.2155 - acc: 0.9468 - val_loss: 1.0604 - val_acc: 0.7880\n",
            "Epoch 9/20\n",
            "7982/7982 [==============================] - 1s 173us/step - loss: 0.1829 - acc: 0.9523 - val_loss: 0.9566 - val_acc: 0.8100\n",
            "Epoch 10/20\n",
            "7982/7982 [==============================] - 1s 168us/step - loss: 0.1699 - acc: 0.9548 - val_loss: 1.0245 - val_acc: 0.8030\n",
            "Epoch 11/20\n",
            "7982/7982 [==============================] - 1s 173us/step - loss: 0.1521 - acc: 0.9546 - val_loss: 1.0791 - val_acc: 0.8130\n",
            "Epoch 12/20\n",
            "7982/7982 [==============================] - 1s 175us/step - loss: 0.1483 - acc: 0.9538 - val_loss: 1.0954 - val_acc: 0.7910\n",
            "Epoch 13/20\n",
            "7982/7982 [==============================] - 1s 179us/step - loss: 0.1388 - acc: 0.9567 - val_loss: 1.1031 - val_acc: 0.7980\n",
            "Epoch 14/20\n",
            "7982/7982 [==============================] - 1s 179us/step - loss: 0.1314 - acc: 0.9560 - val_loss: 1.1325 - val_acc: 0.8000\n",
            "Epoch 15/20\n",
            "7982/7982 [==============================] - 1s 174us/step - loss: 0.1309 - acc: 0.9573 - val_loss: 1.1577 - val_acc: 0.7940\n",
            "Epoch 16/20\n",
            "7982/7982 [==============================] - 1s 170us/step - loss: 0.1279 - acc: 0.9564 - val_loss: 1.1284 - val_acc: 0.8100\n",
            "Epoch 17/20\n",
            "7982/7982 [==============================] - 1s 174us/step - loss: 0.1269 - acc: 0.9559 - val_loss: 1.1761 - val_acc: 0.7960\n",
            "Epoch 18/20\n",
            "7982/7982 [==============================] - 1s 173us/step - loss: 0.1168 - acc: 0.9575 - val_loss: 1.1984 - val_acc: 0.7990\n",
            "Epoch 19/20\n",
            "7982/7982 [==============================] - 1s 173us/step - loss: 0.1173 - acc: 0.9575 - val_loss: 1.2328 - val_acc: 0.7930\n",
            "Epoch 20/20\n",
            "7982/7982 [==============================] - 1s 168us/step - loss: 0.1179 - acc: 0.9563 - val_loss: 1.2867 - val_acc: 0.7890\n"
          ],
          "name": "stdout"
        },
        {
          "output_type": "execute_result",
          "data": {
            "text/plain": [
              "<keras.callbacks.History at 0x7f64b5d87e80>"
            ]
          },
          "metadata": {
            "tags": []
          },
          "execution_count": 29
        }
      ]
    },
    {
      "cell_type": "code",
      "metadata": {
        "id": "kckudJggKupm",
        "colab_type": "code",
        "outputId": "ab0afb60-241d-4dd0-ec5a-8774ef5e5204",
        "colab": {
          "base_uri": "https://localhost:8080/",
          "height": 756
        }
      },
      "source": [
        "# 추가실험 3. 은닉층을 늘려보자\n",
        "model = models.Sequential()\n",
        "model.add(layers.Dense(64, activation='relu', input_shape=(10000,)))\n",
        "model.add(layers.Dense(64, activation='relu'))\n",
        "model.add(layers.Dense(64, activation='relu'))\n",
        "model.add(layers.Dense(46, activation='softmax'))\n",
        "\n",
        "model.compile(optimizer='rmsprop',\n",
        "              loss='categorical_crossentropy',\n",
        "              metrics=['accuracy'])\n",
        "\n",
        "model.fit(partial_x_train,\n",
        "          partial_y_train,\n",
        "          epochs=20,\n",
        "          batch_size=128,\n",
        "          validation_data=(x_val, y_val))"
      ],
      "execution_count": 0,
      "outputs": [
        {
          "output_type": "stream",
          "text": [
            "Train on 7982 samples, validate on 1000 samples\n",
            "Epoch 1/20\n",
            "7982/7982 [==============================] - 2s 228us/step - loss: 1.8166 - acc: 0.6041 - val_loss: 1.2774 - val_acc: 0.7050\n",
            "Epoch 2/20\n",
            "7982/7982 [==============================] - 1s 178us/step - loss: 1.0112 - acc: 0.7710 - val_loss: 1.0556 - val_acc: 0.7650\n",
            "Epoch 3/20\n",
            "7982/7982 [==============================] - 1s 172us/step - loss: 0.6975 - acc: 0.8436 - val_loss: 0.9682 - val_acc: 0.7870\n",
            "Epoch 4/20\n",
            "7982/7982 [==============================] - 1s 175us/step - loss: 0.4903 - acc: 0.8891 - val_loss: 0.9636 - val_acc: 0.7980\n",
            "Epoch 5/20\n",
            "7982/7982 [==============================] - 1s 173us/step - loss: 0.3506 - acc: 0.9241 - val_loss: 1.0382 - val_acc: 0.7930\n",
            "Epoch 6/20\n",
            "7982/7982 [==============================] - 1s 173us/step - loss: 0.2759 - acc: 0.9376 - val_loss: 0.9496 - val_acc: 0.8090\n",
            "Epoch 7/20\n",
            "7982/7982 [==============================] - 1s 169us/step - loss: 0.2246 - acc: 0.9458 - val_loss: 0.9982 - val_acc: 0.8090\n",
            "Epoch 8/20\n",
            "7982/7982 [==============================] - 1s 173us/step - loss: 0.1980 - acc: 0.9499 - val_loss: 1.1027 - val_acc: 0.7990\n",
            "Epoch 9/20\n",
            "7982/7982 [==============================] - 1s 171us/step - loss: 0.1779 - acc: 0.9533 - val_loss: 1.1259 - val_acc: 0.7910\n",
            "Epoch 10/20\n",
            "7982/7982 [==============================] - 1s 177us/step - loss: 0.1618 - acc: 0.9544 - val_loss: 1.1541 - val_acc: 0.7920\n",
            "Epoch 11/20\n",
            "7982/7982 [==============================] - 1s 174us/step - loss: 0.1530 - acc: 0.9553 - val_loss: 1.2469 - val_acc: 0.7900\n",
            "Epoch 12/20\n",
            "7982/7982 [==============================] - 1s 173us/step - loss: 0.1489 - acc: 0.9553 - val_loss: 1.2896 - val_acc: 0.7890\n",
            "Epoch 13/20\n",
            "7982/7982 [==============================] - 1s 176us/step - loss: 0.1419 - acc: 0.9564 - val_loss: 1.3200 - val_acc: 0.7850\n",
            "Epoch 14/20\n",
            "7982/7982 [==============================] - 1s 174us/step - loss: 0.1333 - acc: 0.9573 - val_loss: 1.2104 - val_acc: 0.7960\n",
            "Epoch 15/20\n",
            "7982/7982 [==============================] - 1s 173us/step - loss: 0.1269 - acc: 0.9578 - val_loss: 1.2444 - val_acc: 0.7950\n",
            "Epoch 16/20\n",
            "7982/7982 [==============================] - 1s 168us/step - loss: 0.1205 - acc: 0.9585 - val_loss: 1.2298 - val_acc: 0.7970\n",
            "Epoch 17/20\n",
            "7982/7982 [==============================] - 1s 174us/step - loss: 0.1213 - acc: 0.9565 - val_loss: 1.3248 - val_acc: 0.7920\n",
            "Epoch 18/20\n",
            "7982/7982 [==============================] - 1s 172us/step - loss: 0.1121 - acc: 0.9588 - val_loss: 1.4464 - val_acc: 0.7770\n",
            "Epoch 19/20\n",
            "7982/7982 [==============================] - 1s 169us/step - loss: 0.1127 - acc: 0.9567 - val_loss: 1.3460 - val_acc: 0.7850\n",
            "Epoch 20/20\n",
            "7982/7982 [==============================] - 1s 176us/step - loss: 0.1078 - acc: 0.9573 - val_loss: 1.2793 - val_acc: 0.7780\n"
          ],
          "name": "stdout"
        },
        {
          "output_type": "execute_result",
          "data": {
            "text/plain": [
              "<keras.callbacks.History at 0x7f64b5d6c5c0>"
            ]
          },
          "metadata": {
            "tags": []
          },
          "execution_count": 30
        }
      ]
    },
    {
      "cell_type": "code",
      "metadata": {
        "id": "3V2PD4ULLGZV",
        "colab_type": "code",
        "outputId": "cbc076b1-16ea-4a3a-81ca-25f9da8c0600",
        "colab": {
          "base_uri": "https://localhost:8080/",
          "height": 756
        }
      },
      "source": [
        "# 추가실험 3. 은닉층을 줄여보자\n",
        "model = models.Sequential()\n",
        "model.add(layers.Dense(64, activation='relu', input_shape=(10000,)))\n",
        "model.add(layers.Dense(46, activation='softmax'))\n",
        "\n",
        "model.compile(optimizer='rmsprop',\n",
        "              loss='categorical_crossentropy',\n",
        "              metrics=['accuracy'])\n",
        "\n",
        "model.fit(partial_x_train,\n",
        "          partial_y_train,\n",
        "          epochs=20,\n",
        "          batch_size=128,\n",
        "          validation_data=(x_val, y_val))"
      ],
      "execution_count": 0,
      "outputs": [
        {
          "output_type": "stream",
          "text": [
            "Train on 7982 samples, validate on 1000 samples\n",
            "Epoch 1/20\n",
            "7982/7982 [==============================] - 2s 219us/step - loss: 1.8229 - acc: 0.6510 - val_loss: 1.2121 - val_acc: 0.7350\n",
            "Epoch 2/20\n",
            "7982/7982 [==============================] - 1s 169us/step - loss: 0.9334 - acc: 0.8046 - val_loss: 0.9694 - val_acc: 0.8040\n",
            "Epoch 3/20\n",
            "7982/7982 [==============================] - 1s 167us/step - loss: 0.6345 - acc: 0.8726 - val_loss: 0.8622 - val_acc: 0.8200\n",
            "Epoch 4/20\n",
            "7982/7982 [==============================] - 1s 167us/step - loss: 0.4500 - acc: 0.9072 - val_loss: 0.8166 - val_acc: 0.8220\n",
            "Epoch 5/20\n",
            "7982/7982 [==============================] - 1s 165us/step - loss: 0.3343 - acc: 0.9275 - val_loss: 0.8006 - val_acc: 0.8300\n",
            "Epoch 6/20\n",
            "7982/7982 [==============================] - 1s 168us/step - loss: 0.2605 - acc: 0.9417 - val_loss: 0.8554 - val_acc: 0.8110\n",
            "Epoch 7/20\n",
            "7982/7982 [==============================] - 1s 170us/step - loss: 0.2130 - acc: 0.9485 - val_loss: 0.8351 - val_acc: 0.8320\n",
            "Epoch 8/20\n",
            "7982/7982 [==============================] - 1s 166us/step - loss: 0.1810 - acc: 0.9516 - val_loss: 0.8502 - val_acc: 0.8260\n",
            "Epoch 9/20\n",
            "7982/7982 [==============================] - 1s 162us/step - loss: 0.1630 - acc: 0.9529 - val_loss: 0.8852 - val_acc: 0.8200\n",
            "Epoch 10/20\n",
            "7982/7982 [==============================] - 1s 163us/step - loss: 0.1469 - acc: 0.9551 - val_loss: 0.9223 - val_acc: 0.8170\n",
            "Epoch 11/20\n",
            "7982/7982 [==============================] - 1s 168us/step - loss: 0.1363 - acc: 0.9544 - val_loss: 0.9365 - val_acc: 0.8160\n",
            "Epoch 12/20\n",
            "7982/7982 [==============================] - 1s 161us/step - loss: 0.1289 - acc: 0.9564 - val_loss: 0.9632 - val_acc: 0.8200\n",
            "Epoch 13/20\n",
            "7982/7982 [==============================] - 1s 163us/step - loss: 0.1227 - acc: 0.9555 - val_loss: 0.9981 - val_acc: 0.8130\n",
            "Epoch 14/20\n",
            "7982/7982 [==============================] - 1s 169us/step - loss: 0.1154 - acc: 0.9584 - val_loss: 0.9961 - val_acc: 0.8090\n",
            "Epoch 15/20\n",
            "7982/7982 [==============================] - 1s 163us/step - loss: 0.1151 - acc: 0.9560 - val_loss: 1.0507 - val_acc: 0.8030\n",
            "Epoch 16/20\n",
            "7982/7982 [==============================] - 1s 167us/step - loss: 0.1123 - acc: 0.9569 - val_loss: 1.0609 - val_acc: 0.8090\n",
            "Epoch 17/20\n",
            "7982/7982 [==============================] - 1s 165us/step - loss: 0.1091 - acc: 0.9580 - val_loss: 1.1094 - val_acc: 0.8000\n",
            "Epoch 18/20\n",
            "7982/7982 [==============================] - 1s 167us/step - loss: 0.1079 - acc: 0.9565 - val_loss: 1.1083 - val_acc: 0.8040\n",
            "Epoch 19/20\n",
            "7982/7982 [==============================] - 1s 170us/step - loss: 0.1057 - acc: 0.9575 - val_loss: 1.1077 - val_acc: 0.8150\n",
            "Epoch 20/20\n",
            "7982/7982 [==============================] - 1s 162us/step - loss: 0.1016 - acc: 0.9574 - val_loss: 1.1450 - val_acc: 0.8110\n"
          ],
          "name": "stdout"
        },
        {
          "output_type": "execute_result",
          "data": {
            "text/plain": [
              "<keras.callbacks.History at 0x7f64b5c6f710>"
            ]
          },
          "metadata": {
            "tags": []
          },
          "execution_count": 31
        }
      ]
    },
    {
      "cell_type": "markdown",
      "metadata": {
        "id": "kqDKBFeZL2C9",
        "colab_type": "text"
      },
      "source": [
        "# 정리\n",
        "- N개의 클래스로 데이터 포인트를 분류하려면 네트워크의 마지막 Dense 층의 크기는 N이어야 합니다.\n",
        "- 단일 레이블, 다중 분류 문제에서는 N개의 클래스에 대한 확률 분포를 출력하기 위해 softmax 활성화 함수를 사용해야 합니다.\n",
        "- 이런 문제에는 항상 범주형 크로스엔트로피를 사용해야 합니다. 이 함수는 모델이 출력한 확률 분포와 타깃 분포 사이의 거리를 최소화합니다.\n",
        "- 다중 분류에서 레이블을 다루는 두 가지 방법이 있다.\n",
        "  * 레이블을 범주형 인코딩(또는 원-핫 인코딩)으로 인코딩하고 categorical_crossentropy 손실 함수를 사용한다.\n",
        "  * 레이블을 정수로 인코딩하고 sparse_categorical_crossentropy 손실 함수를 사용한다.\n",
        "- 많은 수의 범주를 분류할 때 중간층의 크기가 너무 작아 네트워크에 정보의 병목이 생기지 않도록 해야 한다."
      ]
    },
    {
      "cell_type": "markdown",
      "metadata": {
        "id": "UGHJtPmNL148",
        "colab_type": "text"
      },
      "source": [
        "# 주택 가격 예측 : 회귀 문제"
      ]
    },
    {
      "cell_type": "code",
      "metadata": {
        "id": "h5DawoKhLl8D",
        "colab_type": "code",
        "outputId": "b0616b5f-0a0e-40a1-8467-d3ff3d8dd517",
        "colab": {
          "base_uri": "https://localhost:8080/",
          "height": 118
        }
      },
      "source": [
        "from keras.datasets import boston_housing\n",
        "\n",
        "(train_data, train_targets), (test_data, test_targets) = boston_housing.load_data()"
      ],
      "execution_count": 4,
      "outputs": [
        {
          "output_type": "stream",
          "text": [
            "Using TensorFlow backend.\n"
          ],
          "name": "stderr"
        },
        {
          "output_type": "display_data",
          "data": {
            "text/html": [
              "<p style=\"color: red;\">\n",
              "The default version of TensorFlow in Colab will soon switch to TensorFlow 2.x.<br>\n",
              "We recommend you <a href=\"https://www.tensorflow.org/guide/migrate\" target=\"_blank\">upgrade</a> now \n",
              "or ensure your notebook will continue to use TensorFlow 1.x via the <code>%tensorflow_version 1.x</code> magic:\n",
              "<a href=\"https://colab.research.google.com/notebooks/tensorflow_version.ipynb\" target=\"_blank\">more info</a>.</p>\n"
            ],
            "text/plain": [
              "<IPython.core.display.HTML object>"
            ]
          },
          "metadata": {
            "tags": []
          }
        },
        {
          "output_type": "stream",
          "text": [
            "Downloading data from https://s3.amazonaws.com/keras-datasets/boston_housing.npz\n",
            "57344/57026 [==============================] - 0s 3us/step\n"
          ],
          "name": "stdout"
        }
      ]
    },
    {
      "cell_type": "code",
      "metadata": {
        "id": "IiXjDLGxhsWx",
        "colab_type": "code",
        "outputId": "6b7124bb-8571-4396-85c3-1349f1074c1e",
        "colab": {
          "base_uri": "https://localhost:8080/",
          "height": 35
        }
      },
      "source": [
        "train_data.shape"
      ],
      "execution_count": 5,
      "outputs": [
        {
          "output_type": "execute_result",
          "data": {
            "text/plain": [
              "(404, 13)"
            ]
          },
          "metadata": {
            "tags": []
          },
          "execution_count": 5
        }
      ]
    },
    {
      "cell_type": "code",
      "metadata": {
        "id": "fx5c6BnShyG6",
        "colab_type": "code",
        "outputId": "cf9ef82d-5baf-4553-8d35-dc12402a7fe4",
        "colab": {
          "base_uri": "https://localhost:8080/",
          "height": 35
        }
      },
      "source": [
        "test_data.shape"
      ],
      "execution_count": 6,
      "outputs": [
        {
          "output_type": "execute_result",
          "data": {
            "text/plain": [
              "(102, 13)"
            ]
          },
          "metadata": {
            "tags": []
          },
          "execution_count": 6
        }
      ]
    },
    {
      "cell_type": "code",
      "metadata": {
        "id": "OC38mpDjhzdM",
        "colab_type": "code",
        "outputId": "4b12afe6-11d4-4e7d-8947-2b4f086b47e4",
        "colab": {
          "base_uri": "https://localhost:8080/",
          "height": 35
        }
      },
      "source": [
        "train_targets[:10]"
      ],
      "execution_count": 7,
      "outputs": [
        {
          "output_type": "execute_result",
          "data": {
            "text/plain": [
              "array([15.2, 42.3, 50. , 21.1, 17.7, 18.5, 11.3, 15.6, 15.6, 14.4])"
            ]
          },
          "metadata": {
            "tags": []
          },
          "execution_count": 7
        }
      ]
    },
    {
      "cell_type": "markdown",
      "metadata": {
        "id": "feDM_OkmiY5w",
        "colab_type": "text"
      },
      "source": [
        "상이한 스케일을 가진 값을 신경망에 주입하면 문제가 된다.\n",
        "네트워크가 이런 데이터에 자동으로 맞출 수는 있지만 학습이 더 어려워진다.\n",
        "\n",
        "이에 대해서는 '정규화' 작업을 해야한다. (X-E(x))/sigma ~ N(0,1)"
      ]
    },
    {
      "cell_type": "code",
      "metadata": {
        "id": "8zxBPAnPh7x_",
        "colab_type": "code",
        "colab": {}
      },
      "source": [
        "# numpy를 이용하면 간단하게 가능함. 아래는 계산식을 나타냄\n",
        "mean = train_data.mean(axis=0)\n",
        "train_data -= mean\n",
        "std = train_data.std(axis=0)\n",
        "train_data /= std\n",
        "\n",
        "test_data -= mean\n",
        "test_data /= std"
      ],
      "execution_count": 0,
      "outputs": []
    },
    {
      "cell_type": "code",
      "metadata": {
        "id": "ysih-MEdjJtf",
        "colab_type": "code",
        "colab": {}
      },
      "source": [
        "# 샘플 수가 적기 때문에 64갸의 유닛을 가진 2개의 은닉 층 사용.\n",
        "# 훈련 데이터가 적을수록 과대적합이 더 쉽게 일어나므로 작은 모델을 사용.\n",
        "from keras import models\n",
        "from keras import layers\n",
        "\n",
        "def build_model(): # 동일한 모델을 여러 번 생성할 것이므로 함수를 만들어 사용합니다.\n",
        "  model = models.Sequential()\n",
        "  model.add(layers.Dense(64, activation='relu',\n",
        "                         input_shape=(train_data.shape[1],)))\n",
        "  model.add(layers.Dense(64, activation='relu'))\n",
        "  model.add(layers.Dense(1))\n",
        "  model.compile(optimizer='rmsprop', loss='mse', metrics=['mae']) # MAE : Mean Absolute Error\n",
        "  return model # 선형회귀이므로 마지막에 어떠한 활성화 함수를 적용하면 안된다. 어떠한 범위라도 네트워크가 예측하도록 자유롭게 놔둬야 함."
      ],
      "execution_count": 0,
      "outputs": []
    },
    {
      "cell_type": "code",
      "metadata": {
        "id": "UJwXduHolyx4",
        "colab_type": "code",
        "outputId": "259bfe52-0491-4c7e-f7f1-7273ddf93b1e",
        "colab": {
          "base_uri": "https://localhost:8080/",
          "height": 521
        }
      },
      "source": [
        "# 데이터 개수가 너무 적으므로 검증 점수의 분산이 높다. -> K-fold 이용\n",
        "import numpy as np\n",
        "\n",
        "k = 4\n",
        "num_val_samples = len(train_data) // k\n",
        "num_epochs = 100\n",
        "all_scores = []\n",
        "for i in range(k):\n",
        "  print('처리중인 폴드 #', i)\n",
        "  val_data = train_data[i*num_val_samples: (i+1) * num_val_samples]\n",
        "  val_targets = train_targets[i * num_val_samples: (i+1) * num_val_samples]\n",
        "\n",
        "  partial_train_data = np.concatenate( # 훈련 데이터 준비 : 다른 분할 전체\n",
        "      [train_data[:i * num_val_samples],\n",
        "       train_data[(i+1) * num_val_samples:]],\n",
        "       axis=0)\n",
        "  \n",
        "  partial_train_targets = np.concatenate(\n",
        "      [train_targets[:i * num_val_samples],\n",
        "       train_targets[(i+1) * num_val_samples:]],\n",
        "       axis=0)\n",
        "  \n",
        "  model = build_model()\n",
        "  \n",
        "  # 모델 훈련(verbose=0이므로 훈련 과정 출력 X)\n",
        "  model.fit(partial_train_data, partial_train_targets,\n",
        "            epochs=num_epochs, batch_size=1, verbose=0)\n",
        "  val_mse, val_mae = model.evaluate(val_data, val_targets, verbose=0)\n",
        "  all_scores.append(val_mae)"
      ],
      "execution_count": 10,
      "outputs": [
        {
          "output_type": "stream",
          "text": [
            "처리중인 폴드 # 0\n",
            "WARNING:tensorflow:From /usr/local/lib/python3.6/dist-packages/keras/backend/tensorflow_backend.py:66: The name tf.get_default_graph is deprecated. Please use tf.compat.v1.get_default_graph instead.\n",
            "\n",
            "WARNING:tensorflow:From /usr/local/lib/python3.6/dist-packages/keras/backend/tensorflow_backend.py:541: The name tf.placeholder is deprecated. Please use tf.compat.v1.placeholder instead.\n",
            "\n",
            "WARNING:tensorflow:From /usr/local/lib/python3.6/dist-packages/keras/backend/tensorflow_backend.py:4432: The name tf.random_uniform is deprecated. Please use tf.random.uniform instead.\n",
            "\n",
            "WARNING:tensorflow:From /usr/local/lib/python3.6/dist-packages/keras/optimizers.py:793: The name tf.train.Optimizer is deprecated. Please use tf.compat.v1.train.Optimizer instead.\n",
            "\n",
            "WARNING:tensorflow:From /usr/local/lib/python3.6/dist-packages/keras/backend/tensorflow_backend.py:1033: The name tf.assign_add is deprecated. Please use tf.compat.v1.assign_add instead.\n",
            "\n",
            "WARNING:tensorflow:From /usr/local/lib/python3.6/dist-packages/keras/backend/tensorflow_backend.py:1020: The name tf.assign is deprecated. Please use tf.compat.v1.assign instead.\n",
            "\n",
            "WARNING:tensorflow:From /usr/local/lib/python3.6/dist-packages/keras/backend/tensorflow_backend.py:3005: The name tf.Session is deprecated. Please use tf.compat.v1.Session instead.\n",
            "\n",
            "WARNING:tensorflow:From /usr/local/lib/python3.6/dist-packages/keras/backend/tensorflow_backend.py:190: The name tf.get_default_session is deprecated. Please use tf.compat.v1.get_default_session instead.\n",
            "\n",
            "WARNING:tensorflow:From /usr/local/lib/python3.6/dist-packages/keras/backend/tensorflow_backend.py:197: The name tf.ConfigProto is deprecated. Please use tf.compat.v1.ConfigProto instead.\n",
            "\n",
            "WARNING:tensorflow:From /usr/local/lib/python3.6/dist-packages/keras/backend/tensorflow_backend.py:207: The name tf.global_variables is deprecated. Please use tf.compat.v1.global_variables instead.\n",
            "\n",
            "WARNING:tensorflow:From /usr/local/lib/python3.6/dist-packages/keras/backend/tensorflow_backend.py:216: The name tf.is_variable_initialized is deprecated. Please use tf.compat.v1.is_variable_initialized instead.\n",
            "\n",
            "WARNING:tensorflow:From /usr/local/lib/python3.6/dist-packages/keras/backend/tensorflow_backend.py:223: The name tf.variables_initializer is deprecated. Please use tf.compat.v1.variables_initializer instead.\n",
            "\n",
            "처리중인 폴드 # 1\n",
            "처리중인 폴드 # 2\n",
            "처리중인 폴드 # 3\n"
          ],
          "name": "stdout"
        }
      ]
    },
    {
      "cell_type": "code",
      "metadata": {
        "id": "-dcb2JXlFIyv",
        "colab_type": "code",
        "colab": {
          "base_uri": "https://localhost:8080/",
          "height": 89
        },
        "outputId": "a328567f-0245-431f-92fd-433d7403bce0"
      },
      "source": [
        "# 에포크 수 100 -> 500\n",
        "num_epochs = 500\n",
        "all_mae_histories = []\n",
        "for i in range(k):\n",
        "  print('처리중인 폴드 #', i)\n",
        "  val_data = train_data[i*num_val_samples: (i+1) * num_val_samples]\n",
        "  val_targets = train_targets[i * num_val_samples: (i+1) * num_val_samples]\n",
        "\n",
        "  partial_train_data = np.concatenate( # 훈련 데이터 준비 : 다른 분할 전체\n",
        "      [train_data[:i * num_val_samples],\n",
        "       train_data[(i+1) * num_val_samples:]],\n",
        "       axis=0)\n",
        "  \n",
        "  partial_train_targets = np.concatenate(\n",
        "      [train_targets[:i * num_val_samples],\n",
        "       train_targets[(i+1) * num_val_samples:]],\n",
        "       axis=0)\n",
        "  \n",
        "  model = build_model()\n",
        "  \n",
        "  # 모델 훈련(verbose=0이므로 훈련 과정 출력 X)\n",
        "  history = model.fit(partial_train_data, partial_train_targets,\n",
        "                      validation_data=(val_data, val_targets),\n",
        "                      epochs=num_epochs, batch_size=1, verbose=0)\n",
        "  mae_history = history.history['val_mean_absolute_error']\n",
        "  all_mae_histories.append(mae_history)"
      ],
      "execution_count": 11,
      "outputs": [
        {
          "output_type": "stream",
          "text": [
            "처리중인 폴드 # 0\n",
            "처리중인 폴드 # 1\n",
            "처리중인 폴드 # 2\n",
            "처리중인 폴드 # 3\n"
          ],
          "name": "stdout"
        }
      ]
    },
    {
      "cell_type": "code",
      "metadata": {
        "id": "6kCBdjLemiAU",
        "colab_type": "code",
        "colab": {}
      },
      "source": [
        "average_mae_history = [\n",
        "  np.mean([x[i] for x in all_mae_histories]) for i in range(num_epochs)\n",
        "]"
      ],
      "execution_count": 0,
      "outputs": []
    },
    {
      "cell_type": "code",
      "metadata": {
        "id": "RGjMIiwuFEAO",
        "colab_type": "code",
        "colab": {
          "base_uri": "https://localhost:8080/",
          "height": 279
        },
        "outputId": "69975a23-949b-427c-f195-878c476fa730"
      },
      "source": [
        "import matplotlib.pyplot as plt\n",
        "plt.plot(range(1, len(average_mae_history) +1), average_mae_history)\n",
        "plt.xlabel('Epochs')\n",
        "plt.ylabel('Validation MAE')\n",
        "plt.show()"
      ],
      "execution_count": 13,
      "outputs": [
        {
          "output_type": "display_data",
          "data": {
            "image/png": "[encoded data removed]",
            "text/plain": [
              "<Figure size 432x288 with 1 Axes>"
            ]
          },
          "metadata": {
            "tags": []
          }
        }
      ]
    },
    {
      "cell_type": "code",
      "metadata": {
        "id": "-TYX-DaTYq61",
        "colab_type": "code",
        "colab": {
          "base_uri": "https://localhost:8080/",
          "height": 279
        },
        "outputId": "7f5c87dc-403f-49ee-f818-fe772ee85c20"
      },
      "source": [
        "# 곡선을 좀 더 부드럽게 보기\n",
        "# 처음 10개의 데이터 포인트를 제외한 검증 점수 그리기\n",
        "def smooth_curve(points, factor=0.9):\n",
        "  smoothed_points = []\n",
        "  for point in points:\n",
        "    if smoothed_points:\n",
        "      previous = smoothed_points[-1]\n",
        "      smoothed_points.append(previous * factor + point * (1 - factor))\n",
        "    else:\n",
        "      smoothed_points.append(point)\n",
        "  return smoothed_points\n",
        "\n",
        "smooth_mae_history = smooth_curve(average_mae_history[10:])\n",
        "\n",
        "plt.plot(range(1, len(smooth_mae_history) +1), smooth_mae_history)\n",
        "plt.xlabel('Epochs')\n",
        "plt.ylabel('Validation MAE')\n",
        "plt.show()"
      ],
      "execution_count": 14,
      "outputs": [
        {
          "output_type": "display_data",
          "data": {
            "image/png": "[encoded data removed]",
            "text/plain": [
              "<Figure size 432x288 with 1 Axes>"
            ]
          },
          "metadata": {
            "tags": []
          }
        }
      ]
    },
    {
      "cell_type": "code",
      "metadata": {
        "id": "jp4r6Q7jYSoy",
        "colab_type": "code",
        "colab": {
          "base_uri": "https://localhost:8080/",
          "height": 35
        },
        "outputId": "1b3c0906-a385-428a-bd08-ca8cc77f5b01"
      },
      "source": [
        "model = build_model()\n",
        "model.fit(train_data, train_targets,\n",
        "          epochs=80, batch_size=16, verbose=0)\n",
        "test_mse_score, test_mae_score = model.evaluate(test_data, test_targets)"
      ],
      "execution_count": 15,
      "outputs": [
        {
          "output_type": "stream",
          "text": [
            "102/102 [==============================] - 0s 1ms/step\n"
          ],
          "name": "stdout"
        }
      ]
    },
    {
      "cell_type": "code",
      "metadata": {
        "id": "vUGLPV4oYtDT",
        "colab_type": "code",
        "colab": {
          "base_uri": "https://localhost:8080/",
          "height": 35
        },
        "outputId": "8b50acc3-1281-467a-b10d-01309b315960"
      },
      "source": [
        "test_mae_score"
      ],
      "execution_count": 16,
      "outputs": [
        {
          "output_type": "execute_result",
          "data": {
            "text/plain": [
              "2.6855164322198606"
            ]
          },
          "metadata": {
            "tags": []
          },
          "execution_count": 16
        }
      ]
    }
  ]
}