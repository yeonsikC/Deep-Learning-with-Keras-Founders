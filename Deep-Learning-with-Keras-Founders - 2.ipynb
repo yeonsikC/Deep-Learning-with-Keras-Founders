{
 "cells": [
  {
   "cell_type": "markdown",
   "metadata": {},
   "source": [
    "# 2장 신경망의 수학적 구성 요소"
   ]
  },
  {
   "cell_type": "code",
   "execution_count": 1,
   "metadata": {},
   "outputs": [
    {
     "name": "stderr",
     "output_type": "stream",
     "text": [
      "Using TensorFlow backend.\n"
     ]
    }
   ],
   "source": [
    "# 코드 2-1 케라스에서 MNIST 데이터셋 적재하기\n",
    "from keras.datasets import mnist\n",
    "(train_images, train_labels), (test_images, test_labels) = mnist.load_data()"
   ]
  },
  {
   "cell_type": "code",
   "execution_count": 2,
   "metadata": {},
   "outputs": [
    {
     "name": "stdout",
     "output_type": "stream",
     "text": [
      "(60000, 28, 28)\n",
      "60000\n",
      "[5 0 4 ... 5 6 8]\n"
     ]
    }
   ],
   "source": [
    "# 훈련 데이터\n",
    "print(train_images.shape)\n",
    "print(len(train_labels))\n",
    "print(train_labels)"
   ]
  },
  {
   "cell_type": "code",
   "execution_count": 3,
   "metadata": {},
   "outputs": [
    {
     "name": "stdout",
     "output_type": "stream",
     "text": [
      "(10000, 28, 28)\n",
      "10000\n",
      "[7 2 1 ... 4 5 6]\n"
     ]
    }
   ],
   "source": [
    "# 테스트 데이터\n",
    "print(test_images.shape)\n",
    "print(len(test_labels))\n",
    "print(test_labels)"
   ]
  },
  {
   "cell_type": "code",
   "execution_count": 4,
   "metadata": {},
   "outputs": [
    {
     "name": "stderr",
     "output_type": "stream",
     "text": [
      "WARNING: Logging before flag parsing goes to stderr.\n",
      "W0919 09:42:19.861973  6788 deprecation_wrapper.py:119] From C:\\Python\\Python37\\lib\\site-packages\\keras\\backend\\tensorflow_backend.py:66: The name tf.get_default_graph is deprecated. Please use tf.compat.v1.get_default_graph instead.\n",
      "\n",
      "W0919 09:42:19.896881  6788 deprecation_wrapper.py:119] From C:\\Python\\Python37\\lib\\site-packages\\keras\\backend\\tensorflow_backend.py:541: The name tf.placeholder is deprecated. Please use tf.compat.v1.placeholder instead.\n",
      "\n",
      "W0919 09:42:19.901932  6788 deprecation_wrapper.py:119] From C:\\Python\\Python37\\lib\\site-packages\\keras\\backend\\tensorflow_backend.py:4432: The name tf.random_uniform is deprecated. Please use tf.random.uniform instead.\n",
      "\n"
     ]
    }
   ],
   "source": [
    "# 코드 2-2 신경망 구조\n",
    "from keras import models\n",
    "from keras import layers\n",
    "\n",
    "network = models.Sequential()\n",
    "network.add(layers.Dense(512, activation='relu', input_shape=(28 * 28,)))\n",
    "network.add(layers.Dense(10, activation='softmax'))"
   ]
  },
  {
   "cell_type": "code",
   "execution_count": 5,
   "metadata": {},
   "outputs": [
    {
     "name": "stderr",
     "output_type": "stream",
     "text": [
      "W0919 09:44:59.987781  6788 deprecation_wrapper.py:119] From C:\\Python\\Python37\\lib\\site-packages\\keras\\optimizers.py:793: The name tf.train.Optimizer is deprecated. Please use tf.compat.v1.train.Optimizer instead.\n",
      "\n",
      "W0919 09:45:00.048588  6788 deprecation_wrapper.py:119] From C:\\Python\\Python37\\lib\\site-packages\\keras\\backend\\tensorflow_backend.py:3576: The name tf.log is deprecated. Please use tf.math.log instead.\n",
      "\n"
     ]
    }
   ],
   "source": [
    "# 코드 2-3 컴파일 단계\n",
    "network.compile(optimizer = 'rmsprop',\n",
    "               loss = 'categorical_crossentropy',\n",
    "               metrics = ['accuracy'])"
   ]
  },
  {
   "cell_type": "code",
   "execution_count": 6,
   "metadata": {},
   "outputs": [],
   "source": [
    "# 코드 2-4 이미지 데이터 준비하기\n",
    "# 0과 1 사이의 값을 가지는 float32 타입의 (60000, 28 * 28) 크기인 배열로 바꾸기.\n",
    "train_images = train_images.reshape((60000, 28 * 28))\n",
    "train_images = train_images.astype('float32')/255\n",
    "\n",
    "test_images = test_images.reshape((10000, 28 * 28))\n",
    "test_images = test_images.astype('float32') / 255"
   ]
  },
  {
   "cell_type": "code",
   "execution_count": 7,
   "metadata": {},
   "outputs": [],
   "source": [
    "# 코드 2-5 레이블 준비하기\n",
    "from keras.utils import to_categorical\n",
    "\n",
    "# 목적변수(Y)를 카테고리화\n",
    "train_labels = to_categorical(train_labels)\n",
    "test_labels = to_categorical(test_labels)"
   ]
  },
  {
   "cell_type": "markdown",
   "metadata": {},
   "source": [
    "### 결과값은 2가지가 나온다. loss(손실), acc(정확도)"
   ]
  },
  {
   "cell_type": "code",
   "execution_count": 13,
   "metadata": {},
   "outputs": [
    {
     "name": "stdout",
     "output_type": "stream",
     "text": [
      "Epoch 1/5\n",
      "60000/60000 [==============================] - 6s 102us/step - loss: 0.0081 - acc: 0.9980\n",
      "Epoch 2/5\n",
      "60000/60000 [==============================] - 6s 103us/step - loss: 0.0065 - acc: 0.9982\n",
      "Epoch 3/5\n",
      "60000/60000 [==============================] - 7s 109us/step - loss: 0.0049 - acc: 0.9988\n",
      "Epoch 4/5\n",
      "60000/60000 [==============================] - 7s 116us/step - loss: 0.0039 - acc: 0.9990 3s - loss: 0.0037 - acc:  - ETA: 3s - loss: 0.\n",
      "Epoch 5/5\n",
      "60000/60000 [==============================] - 7s 111us/step - loss: 0.0034 - acc: 0.9991\n"
     ]
    },
    {
     "data": {
      "text/plain": [
       "<keras.callbacks.History at 0x2a341043b00>"
      ]
     },
     "execution_count": 13,
     "metadata": {},
     "output_type": "execute_result"
    }
   ],
   "source": [
    "# 학습시키기\n",
    "# epochs = 5 : 데이터 전체를 기준으로 5번 반복 학습.\n",
    "# batch_size = 128 : 한번 학습시킬 때, 데이터 전체 중 128개만 학습. (컴퓨터 메모리 문제 때문, 적용)\n",
    "# ex) 전체 데이터 수 : 200, batch_size = 100, epoch = 2  ==>> 100개 샘플의 학습을 총 4번 시행.\n",
    "network.fit(train_images, train_labels, epochs = 5, batch_size = 128)"
   ]
  },
  {
   "cell_type": "code",
   "execution_count": 14,
   "metadata": {},
   "outputs": [
    {
     "name": "stdout",
     "output_type": "stream",
     "text": [
      "10000/10000 [==============================] - 1s 53us/step\n",
      "test_acc: 0.9817\n"
     ]
    }
   ],
   "source": [
    "# 테스트하기\n",
    "test_loss, test_acc = network.evaluate(test_images, test_labels)\n",
    "print('test_acc:', test_acc)"
   ]
  },
  {
   "cell_type": "markdown",
   "metadata": {},
   "source": [
    "## 신경망을 위한 데이터 표현"
   ]
  },
  {
   "cell_type": "code",
   "execution_count": 5,
   "metadata": {},
   "outputs": [
    {
     "data": {
      "text/plain": [
       "array(12)"
      ]
     },
     "execution_count": 5,
     "metadata": {},
     "output_type": "execute_result"
    }
   ],
   "source": [
    "# 값 하나 : 스칼라, 0D텐서\n",
    "import numpy as np\n",
    "x = np.array(12)\n",
    "x"
   ]
  },
  {
   "cell_type": "code",
   "execution_count": 6,
   "metadata": {},
   "outputs": [
    {
     "data": {
      "text/plain": [
       "0"
      ]
     },
     "execution_count": 6,
     "metadata": {},
     "output_type": "execute_result"
    }
   ],
   "source": [
    "x.ndim"
   ]
  },
  {
   "cell_type": "code",
   "execution_count": 7,
   "metadata": {},
   "outputs": [
    {
     "data": {
      "text/plain": [
       "array([12,  3,  6, 14,  7])"
      ]
     },
     "execution_count": 7,
     "metadata": {},
     "output_type": "execute_result"
    }
   ],
   "source": [
    "# 숫자의 배열 : 벡터, 1D텐서\n",
    "x = np.array([12, 3, 6, 14, 7])\n",
    "x"
   ]
  },
  {
   "cell_type": "code",
   "execution_count": 9,
   "metadata": {},
   "outputs": [
    {
     "data": {
      "text/plain": [
       "1"
      ]
     },
     "execution_count": 9,
     "metadata": {},
     "output_type": "execute_result"
    }
   ],
   "source": [
    "x.ndim"
   ]
  },
  {
   "cell_type": "code",
   "execution_count": 10,
   "metadata": {},
   "outputs": [
    {
     "data": {
      "text/plain": [
       "2"
      ]
     },
     "execution_count": 10,
     "metadata": {},
     "output_type": "execute_result"
    }
   ],
   "source": [
    "# 벡터의 배열 : 행렬, 2D텐서\n",
    "x = np.array([[5, 78, 2, 34 ,0],\n",
    "              [6, 79, 3, 35, 1],\n",
    "              [7, 80, 4, 36, 2]])\n",
    "x.ndim"
   ]
  },
  {
   "cell_type": "code",
   "execution_count": 11,
   "metadata": {},
   "outputs": [
    {
     "data": {
      "text/plain": [
       "3"
      ]
     },
     "execution_count": 11,
     "metadata": {},
     "output_type": "execute_result"
    }
   ],
   "source": [
    "# 위의 행렬들을 하나의 새로운 배열로 합치면 숫자가 채워진 직육면체. 3D텐서\n",
    "x = np.array([[[5, 78, 2, 34 ,0],\n",
    "               [6, 79, 3, 35, 1],\n",
    "               [7, 80, 4, 36, 2]],\n",
    "              [[5, 78, 2, 34 ,0],\n",
    "               [6, 79, 3, 35, 1],\n",
    "               [7, 80, 4, 36, 2]],\n",
    "              [[5, 78, 2, 34 ,0],\n",
    "               [6, 79, 3, 35, 1],\n",
    "               [7, 80, 4, 36, 2]]])\n",
    "x.ndim"
   ]
  },
  {
   "cell_type": "markdown",
   "metadata": {},
   "source": [
    "- 보통 딥러닝에선 0D ~ 4D를 다룸, 동영상 데이터를 다룰 경우 5D까지 가기도 함.\n",
    "- 축의 개수(랭크) : 3D 텐서에는 3개의 축, 행렬에서는 2개의 축. numpy 라이브러리의 ndim에 저장되어 있음.\n",
    "- 크기(shape) : 행렬의 크기 : (3, 5), 3D 텐서의 크기 : (3, 3, 5), 벡터 : (5, ), qoduf tmzkffk : ()\n",
    "- 데이터 타입(numpy에서는 dtype) : 텐서에 포함된 데이터의 타입 ex) float32, float64, uint8"
   ]
  },
  {
   "cell_type": "code",
   "execution_count": 13,
   "metadata": {},
   "outputs": [
    {
     "name": "stdout",
     "output_type": "stream",
     "text": [
      "train_images의 텐서 :  3\n",
      "train_images의 크기 :  (60000, 28, 28)\n",
      "train_images의 데이터 타입 :  uint8\n"
     ]
    }
   ],
   "source": [
    "from keras.datasets import mnist\n",
    "(train_images, train_labels), (test_images, test_labels) = mnist.load_data()\n",
    "print('train_images의 텐서 : ', train_images.ndim)\n",
    "print('train_images의 크기 : ', train_images.shape)\n",
    "print('train_images의 데이터 타입 : ', train_images.dtype)"
   ]
  },
  {
   "cell_type": "markdown",
   "metadata": {},
   "source": [
    "- 위 배열은 8비트 정수형 3D 텐서. 정확하게는 28 * 28 크기의 정수 행렬 6만 개가 있는 배열. 각 행렬은 하나의 흑백 이미지고, 행렬의 각 원소는 0에서 255 사이의 값을 가진다."
   ]
  },
  {
   "cell_type": "code",
   "execution_count": 16,
   "metadata": {},
   "outputs": [
    {
     "data": {
      "image/png": "[encoded data removed]",
      "text/plain": [
       "<Figure size 432x288 with 1 Axes>"
      ]
     },
     "metadata": {
      "needs_background": "light"
     },
     "output_type": "display_data"
    }
   ],
   "source": [
    "# 코드 2-6 다섯 번째 이미지 출력하기\n",
    "digit = train_images[4]\n",
    "\n",
    "import matplotlib.pyplot as plt\n",
    "plt.imshow(digit, cmap = plt.cm.binary)\n",
    "plt.show()"
   ]
  },
  {
   "cell_type": "code",
   "execution_count": 17,
   "metadata": {},
   "outputs": [
    {
     "name": "stdout",
     "output_type": "stream",
     "text": [
      "(90, 28, 28)\n"
     ]
    }
   ],
   "source": [
    "# 슬라이싱을 통하여 (90, 28, 28) 크기의 배열 만들기.\n",
    "my_slice = train_images[10:100]\n",
    "print(my_slice.shape)"
   ]
  },
  {
   "cell_type": "code",
   "execution_count": 18,
   "metadata": {},
   "outputs": [
    {
     "data": {
      "text/plain": [
       "(90, 28, 28)"
      ]
     },
     "execution_count": 18,
     "metadata": {},
     "output_type": "execute_result"
    }
   ],
   "source": [
    "my_slice = train_images[10:100, :, :]\n",
    "my_slice.shape"
   ]
  },
  {
   "cell_type": "code",
   "execution_count": 20,
   "metadata": {},
   "outputs": [
    {
     "data": {
      "text/plain": [
       "(90, 28, 28)"
      ]
     },
     "execution_count": 20,
     "metadata": {},
     "output_type": "execute_result"
    }
   ],
   "source": [
    "my_slice = train_images[10:100, 0:28, 0:28]\n",
    "my_slice.shape"
   ]
  },
  {
   "cell_type": "code",
   "execution_count": 21,
   "metadata": {},
   "outputs": [],
   "source": [
    "#이미지의 우측 하단 14 * 14 픽셀 선택\n",
    "my_slice = train_images[:, 14:, 14:]\n",
    "my_slice = train_images[:, 7:-7, 7:-7]"
   ]
  },
  {
   "cell_type": "code",
   "execution_count": 23,
   "metadata": {},
   "outputs": [],
   "source": [
    "# 배치 데이터 - 크기가 128인 배치 하나는 다음과 같음\n",
    "batch = train_images[:128]\n",
    "# 그 다음 배치는 아래와 같음.\n",
    "batch = train_images[128:256]\n",
    "# n번째 배치는 다음과 같음.\n",
    "n = 8\n",
    "batch = train_images[128 * n:128*(n+1)]\n",
    "# 첫번째 축(0번 축)을 배치 축 또는 배치 차원이라고 부름."
   ]
  },
  {
   "cell_type": "markdown",
   "metadata": {},
   "source": [
    "- 벡터 데이터 : (samples, features) 크기의 2D 텐서\n",
    "- 시계열 데이터 또는 시퀀스 데이터 : (samples, timesteps, features) 크기의 3D 텐서\n",
    "- 이미지 : (samples, height, width, channels) 또는 (samples, channels, height, width) 크기의 4D 텐서\n",
    "- 동영상 : (samples, frames, height, width, channels) 또는 (samples, frames, channels, height, width) 크기의 5D 텐서"
   ]
  },
  {
   "cell_type": "markdown",
   "metadata": {},
   "source": [
    "- 예 :\n",
    "1. 사람의 나이, 우편 번호, 소득으로 구성된 인구 통계 데이터, 각 사람은 3개의 값을 가진 벡터로 구성되고 10만 명이 포함된 전체 데이터셋은 (100000, 3)크기의 텐서에 저장.\n",
    "2. (공통 단어 2만 개로 만든 사전에서) 각 단어가 등장한 횟수로 표현된 텍스트 문서 데이터 셋. 각 문서는 2만 개의 원소(사전에 있는 단어마다 하나의 원소에 대응합니다)를 가진 벡터로 인코딩될 수 있습니다. 500개의 문서로 이루어진 전체 데이터셋은 (50, 20000) 크기의 텐서로 저장됩니다."
   ]
  },
  {
   "cell_type": "markdown",
   "metadata": {},
   "source": [
    "- 시계열 데이터 : 관례적으로 시간 축은 항상 두 번쨰 축(인덱스가 1인 축)이다.\n",
    "- 예 :\n",
    "- 주식 가격 데이터셋 : 1분마다 현재 주식 가격, 지난 1분 동안에 최고 가격과 최소 가격을 저장한다. 1분마다 데이터는 3D 벡터로 인코딩되고 하루 동안의 거래는 (390, 3) 크기의 2D 텐서로 인코딩 된다. 250일치의 데이터는 (250, 390, 3) 크기의 3D 텐서로 저장될 수 잇다. 여기에서 1일치 데이터가 하나의 샘플이 된다."
   ]
  },
  {
   "cell_type": "markdown",
   "metadata": {},
   "source": [
    "- 이미지 데이터 : (높이, 너비, 채널)의 3차원으로 이루어짐. 흑백 이미지는 하나의 컬러 채널만을 가지고 있어 2D 텐서로 저장될 수 있지만 이미지 텐서는 항상 3D로 저장. 흑백 이미지의 경우 컬러 채널의 차원 크기는 1이다. 256 * 256 크기의 흑백 이미지에 대한 128개의 배치는 (128, 256, 256, 1). 컬러가 있다면, (128, 256, 256, 3).\n",
    "- 텐서의 크기를 지정하는 방식은 두 가지. 그 중 텐서플로 방식으로 기억해보자. (채널 마지막 방식) (samples, height, width, color_depth)"
   ]
  },
  {
   "cell_type": "markdown",
   "metadata": {},
   "source": [
    "- 비디오 데이터\n",
    "- 프레임 (height, width, color_depth)의 3D 텐서로 저장될 수 있기 때문에 프레임의 연속은 (frames, height, width, color_depth)의 4D 텐서로 저장될 수 잇다. 여러 비디오의 배치는(samples, frames, height, width, color_depth)의 5D 텐서로 저장될 수 있다.\n",
    "- 예 :\n",
    "- 60초 짜리 144 * 256 유튜브 비디오 클립을 초당 4프레임으로 샘플링하면 240프레임이 된다. 이런 비디오 클립을 4개 가진 배치는 (4, 240, 144, 256, 3) 크기의 텐서에 저장될 것이다."
   ]
  },
  {
   "cell_type": "markdown",
   "metadata": {},
   "source": [
    "## 신경망의 톱니바퀴 : 텐서 연산"
   ]
  },
  {
   "cell_type": "markdown",
   "metadata": {},
   "source": [
    "- 케라스의 층은 다음과 같이 생성함.\n",
    "- keras.layers.Dense(512, activation = 'relu')\n",
    "\n",
    "\n",
    "- 2D 텐서를 입력으로 받고 입력 텐서의 새로운 표현인 또 다른 2D 텐서를 반환하는 함수\n",
    "- output = relu(dot(W, input) + b)  :  W는 2D 텐서고, b는 벡터. 둘 모두 층의 속성이다.\n",
    "\n",
    "- 위 식에서는 3개의 텐서 연산이 있다. 1. 입력 텐서와 텐서 W 사이의 점곱(dot), 2. 점곱의 결과인 2D 텐서와 벡터 b 사이의 덧셈(+), 마지막으로 relu(렐루) 연산이다. # relu(x) = max(x,0). : x가 0보다 크면 0을 리턴, 0보다 작으면 0을 리턴."
   ]
  },
  {
   "cell_type": "code",
   "execution_count": null,
   "metadata": {},
   "outputs": [],
   "source": []
  }
 ],
 "metadata": {
  "kernelspec": {
   "display_name": "Python 3",
   "language": "python",
   "name": "python3"
  },
  "language_info": {
   "codemirror_mode": {
    "name": "ipython",
    "version": 3
   },
   "file_extension": ".py",
   "mimetype": "text/x-python",
   "name": "python",
   "nbconvert_exporter": "python",
   "pygments_lexer": "ipython3",
   "version": "3.7.3"
  }
 },
 "nbformat": 4,
 "nbformat_minor": 2
}
