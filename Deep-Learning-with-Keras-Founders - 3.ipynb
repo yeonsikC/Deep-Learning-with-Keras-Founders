{
 "cells": [
  {
   "cell_type": "markdown",
   "metadata": {},
   "source": [
    "# 신경망 시작하기"
   ]
  },
  {
   "cell_type": "markdown",
   "metadata": {},
   "source": [
    "## 신경망의 구조"
   ]
  },
  {
   "cell_type": "markdown",
   "metadata": {},
   "source": [
    "- LSTM과 같은 순환 층 : (samples, timesteps, features) 크기의 3D 텐서로 저장된 시퀀스 데이터 처리\n",
    "- 2D 합성곱(Conv2D) : 4D 텐서로 저장되어 있는 이미지 데이터 처리"
   ]
  },
  {
   "cell_type": "code",
   "execution_count": 4,
   "metadata": {},
   "outputs": [],
   "source": [
    "# 층 호환성 : 각 층은 특정 크기의 입력 텐서만 받고 특정 크기의 출력 텐서를 반환한다.\n",
    "from keras import layers\n",
    "layer = layers.Dense(32, input_shape=(784,)) # 32개의 유닛으로 된 밀집 층"
   ]
  },
  {
   "cell_type": "code",
   "execution_count": 6,
   "metadata": {},
   "outputs": [],
   "source": [
    "# 케라스에서는 모델에 추가된 층을 자동으로 상위 층의 크기에 맞추어 주기 때문에 호환성 걱정을 하지 않아도 된다.\n",
    "from keras import models\n",
    "from keras import layers\n",
    "\n",
    "model = models.Sequential()\n",
    "model.add(layers.Dense(32, input_shape=(784,)))\n",
    "model.add(layers.Dense(10))  # input_shape를 따로 지정하지 않았지만, 앞선 층의 출력 크기를 입력 크기로 자동으로 채택."
   ]
  },
  {
   "cell_type": "markdown",
   "metadata": {},
   "source": [
    "- 용도별 손실함수\n",
    "- binary crossentropy : 2개의 클래스가 있는 분류 문제\n",
    "- categorical crossentropy : 여러 개의 클래스가 있는 분류 문제\n",
    "- MSE : 회귀문제\n",
    "- CTC(Connection Temporal Classification) : 시퀀스 학습 문제\n",
    "- └─> 음성 인식이나 필기 인식처럼 입력에 레이블 할당 위치를 정하기 어려운 연속적인 시퀀스를 다루는 문제에 사용"
   ]
  },
  {
   "cell_type": "markdown",
   "metadata": {},
   "source": [
    "## 케라스 소개"
   ]
  },
  {
   "cell_type": "markdown",
   "metadata": {},
   "source": [
    "- 코드 예제를 위해 [케라스](http://keras.io)를 사용.\n",
    "- 동일한 코드로 CPU와 GPU에서 실행 가능\n",
    "- 사용하기 쉬운 APO를 가지고 있어 딥러닝 모델의 프로토타입을 빠르게 만듬\n",
    "- (컴퓨터 비전을 위한) 합성곱 신경망, (시퀀스 처리를 위한) 순환 신경망을 지원하면 이 둘을 자유롭게 조합 가능\n",
    "- 다중 입력이나 다중 출력 모델, 층의 공유, 모델 공유 등 어떤 네트워크 구조도 만들 수 있음.\n",
    "- └─> 적대적 생성 신경망(Generative Adversarial Network, GAN)부터 뉴럴 튜링 머신(Neural Turing Machine)까지 가능"
   ]
  },
  {
   "cell_type": "markdown",
   "metadata": {},
   "source": [
    "## 딥러닝 컴퓨터 셋팅"
   ]
  },
  {
   "cell_type": "markdown",
   "metadata": {},
   "source": [
    "- GPU 권장\n",
    "- Unix 권장\n",
    "- 이 책의 모든 코드 예제는 오픈 소스 노트북 파일로 제공\n",
    "- [주소1](https://github.com/gilbutITbook/006975)\n",
    "- [주소2](https://github.com/rickiepark/deep-learning-with-python-notebooks)"
   ]
  },
  {
   "cell_type": "markdown",
   "metadata": {},
   "source": [
    "- 만약 GPU 환경을 설치하기 제한된다면 아래의 방법을 이용.\n",
    "- 공식 EC2 딥러닝 [AMI](https://aws.amazon.com/amazon-ai/amis)를 사용해서 EC2에서 주피터 노트북으로 케라스 예제를 실행(부록C 참고)\n",
    "- 위 방법은 클라우드에서 딥러닝을 수행하는 것으로, 장기적으로 이용하기에는 부적합하다. (요금을 내야하고 비싸다.)\n",
    "- 2018년 중반 가격으로 시간당 0.9달라, GPU가격은 1000~1500달라. (당장은 EC2가 좋은 방법, 오랜 기간 사용할 것이라면 GPU 구매)\n",
    "- GPU 구매시 'NVIDIA GPU'를 사야한다. (최신 딥러닝 프레임워크들은 NVIDIA 그래픽 카드에서만 작동한다.)"
   ]
  },
  {
   "cell_type": "markdown",
   "metadata": {},
   "source": [
    "## 영화 리뷰 분류 : 이진 분류 예제"
   ]
  },
  {
   "cell_type": "markdown",
   "metadata": {},
   "source": [
    "## 뉴스 기사 분류 : 다중 분류 문제"
   ]
  },
  {
   "cell_type": "markdown",
   "metadata": {},
   "source": [
    "## 주택 가격 예측 : 회귀 문제"
   ]
  },
  {
   "cell_type": "code",
   "execution_count": 2,
   "metadata": {},
   "outputs": [
    {
     "data": {
      "text/plain": [
       "28.0"
      ]
     },
     "execution_count": 2,
     "metadata": {},
     "output_type": "execute_result"
    }
   ],
   "source": [
    "784**(1/2)"
   ]
  }
 ],
 "metadata": {
  "kernelspec": {
   "display_name": "Python 3",
   "language": "python",
   "name": "python3"
  },
  "language_info": {
   "codemirror_mode": {
    "name": "ipython",
    "version": 3
   },
   "file_extension": ".py",
   "mimetype": "text/x-python",
   "name": "python",
   "nbconvert_exporter": "python",
   "pygments_lexer": "ipython3",
   "version": "3.7.3"
  }
 },
 "nbformat": 4,
 "nbformat_minor": 2
}
